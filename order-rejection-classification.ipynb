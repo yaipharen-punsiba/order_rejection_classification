{
 "cells": [
  {
   "cell_type": "markdown",
   "id": "8fc98038",
   "metadata": {
    "papermill": {
     "duration": 0.027437,
     "end_time": "2023-02-13T10:29:32.491632",
     "exception": false,
     "start_time": "2023-02-13T10:29:32.464195",
     "status": "completed"
    },
    "tags": []
   },
   "source": [
    "### **PROJECT: Prediction of Order-Rejection of an E-commerce Sales**\n",
    "\n",
    "***By: Yaipharen P M Potsangbam***"
   ]
  },
  {
   "cell_type": "markdown",
   "id": "e3c559dd",
   "metadata": {
    "papermill": {
     "duration": 0.021772,
     "end_time": "2023-02-13T10:29:32.535176",
     "exception": false,
     "start_time": "2023-02-13T10:29:32.513404",
     "status": "completed"
    },
    "tags": []
   },
   "source": [
    "<a id=\"toc\"></a>\n",
    "#### **TABLE OF CONTENTS:**\n",
    "1. [BACKGROUND AND MOTIVATIONS](#background)<br>\n",
    "2. [OBJECTIVES](#objectives)<br>\n",
    "3. [DATA EXTRACTION](#data_extraction)<br>\n",
    "    a. [Import Relevant Libraries](#import_libraries)<br>\n",
    "    b. [Check the file names in zipped folder](#check_file_names)<br>\n",
    "    c. [Read the dataset to a pandas dataframe](#read_dataset_to_dataframe)<br>\n",
    "4. [DATA TRANSFORMATION (WRANGLING)](#data_transformation_wrangle)<br>\n",
    "    a. [Define a function as first draft of wrangle function](#first_draft_wrangle)<br>\n",
    "    b. [Exploratory Data Analysis(EDA)](#eda)<br>\n",
    "    &emsp;i. [Preliminary Data Cleaning](#preliminary_data_cleaning)<br>\n",
    "    &emsp;ii. [Analyse \"orderid\" Column](#orderid)<br>\n",
    "    &emsp;&emsp;[(Observations and Actions)](#orderid_oa)<br>\n",
    "    &emsp;iii. [Create Column \"rejected\"](#create_rejected)<br> \n",
    "    &emsp;&emsp;[(Observations and Actions)](#observation_rej)<br>\n",
    "    &emsp;iv. [Check for high Cardinality categorical features](#high_cardinality)<br>\n",
    "    &emsp;&emsp;[(Observations and Actions)](#observation_cardi)<br>\n",
    "    &emsp;v. [Check other features (not \"object\" datatype)](#other_features)<br>\n",
    "    &emsp;vi. [Analyse feature \"qty\": Quantity per order](#qty)<br>\n",
    "    &emsp;&emsp;[(Observations and Actions)](#observation_qty)<br>\n",
    "    &emsp;vi. [Analyse feature \"amount\": Amount in Rupees](#amount)<br>\n",
    "    &emsp;&emsp;[(A. Initial Observations and Actions)](#observation_amount)&emsp;\n",
    "    [(B. Final Observations and Actions)](#observation_amount_2)<br>\n",
    "    &emsp;viii. [Analyse feature \"fulfilment\"](#fulfilment)<br>\n",
    "    &emsp;&emsp;[(Observations and Actions)](#observation_fulfilment)<br>\n",
    "    &emsp;ix. [Analyse feature \"saleschannel\"](#saleschannel)<br>\n",
    "    &emsp;&emsp;[(Observations and Actions)](#observation_saleschannel)<br>\n",
    "    &emsp;x. [Analyse feature \"shipservicelevel\"](#shipservicelevel)<br>\n",
    "    &emsp;&emsp;[(Observations and Actions)](#observation_shipservicelevel)<br>\n",
    "    &emsp;xi. [Analyse feature \"category\"](#category)<br>\n",
    "    &emsp;&emsp;[(Observations and Actions)](#observation_category)<br>\n",
    "    &emsp;xii. [Analyse feature \"b2b\"](#b2b)<br>\n",
    "    &emsp;&emsp;[(Observations and Actions)](#observation_b2b)<br>\n",
    "    &emsp;xiii. [Analyse feature \"shipstate\"](#shipstate)<br>\n",
    "    &emsp;&emsp;[(A. Initial Observations and Actions)](#observation_shipstate)&emsp;\n",
    "    [(B. Initial Observations and Actions)](#observation_shipstate_2)<br>\n",
    "    c. [Define Final Wrangle Function](#final_wrangle)<br>\n",
    "5. [DATA LOADING](#data_loading)<br>\n",
    "6. [DATA PREPROCESSING](#data_preprocessing)<br>\n",
    "    a. [Split the Dataset](#split_dataset)<br>\n",
    "    b. [Address the imbalanced dataset](#imbalance_check)<br>\n",
    "    c. [Data Transformation](#data_transformation)<br>\n",
    "7. [CLASSIFICATION MODELS FOR PREDICTION](#models)<br>\n",
    "    a. [Logistic Regression Classifier](#logisticregression)<br>\n",
    "    &emsp;&emsp;i. [Instance of Logistic Regression Estimator](#logistic_model)<br>\n",
    "    &emsp;&emsp;ii. [Prediction and Performance - TRAINING DATASET](#prediction_training_logistic)<br>\n",
    "    &emsp;&emsp;iii. [Prediction and Performance - TEST DATASET](#prediction_test_logistic)<br>\n",
    "    &emsp;&emsp;iv. [ROC Curve of Prediction with Logistic Regression - TEST DATASET](#roc_logistic)<br>\n",
    "    &emsp;&emsp;v. [Feature Importance](#feat_imp_logistic)<br>\n",
    "    b. [Random Forest Classifier](#random_forest)<br>\n",
    "    &emsp;&emsp;i. [Instance; Hyperparameter Tuning; Model Fitting](#rf_estimator)<br>\n",
    "    &emsp;&emsp;ii. [Prediction and Performance - TRAINING DATASET](#prediction_training_rf)<br>\n",
    "    &emsp;&emsp;iii. [Prediction and Performance - TEST DATASET](#prediction_test_rf)<br>\n",
    "    &emsp;&emsp;iv. [ROC Curve of Prediction with Logistic Regression - TEST DATASET](#roc_rf)<br>\n",
    "    &emsp;&emsp;v. [Feature Importance](#feat_imp_rf)<br>\n",
    "8. [FINDINGS AND DISCUSSION](#findings_discussion)<br>\n",
    "    a. [Findings](#findings)<br>\n",
    "    b. [Discussion](#discussion)"
   ]
  },
  {
   "cell_type": "markdown",
   "id": "c5726ba9",
   "metadata": {
    "papermill": {
     "duration": 0.021775,
     "end_time": "2023-02-13T10:29:32.579248",
     "exception": false,
     "start_time": "2023-02-13T10:29:32.557473",
     "status": "completed"
    },
    "tags": []
   },
   "source": [
    "<a id='background'></a>\n",
    "#### **1. BACKGROUND AND MOTIVATION:**\n",
    "* **Business Motivation:** Customer behaviour with regard to order rejection\n",
    "* **Business Question:** How likely a purchase made will be rejected and what triggers these rejections?\n",
    "\n",
    "<br>*Click [here](#toc) to go back to **Table of Contents**.*"
   ]
  },
  {
   "cell_type": "markdown",
   "id": "a829b4be",
   "metadata": {
    "papermill": {
     "duration": 0.022724,
     "end_time": "2023-02-13T10:29:32.623686",
     "exception": false,
     "start_time": "2023-02-13T10:29:32.600962",
     "status": "completed"
    },
    "tags": []
   },
   "source": [
    "<a id=\"objectives\"></a>\n",
    "#### **2. OBJECTIVES**\n",
    "**(Answers to Business Question):** \n",
    "1. Predict the likelihood of order rejection, and \n",
    "2. The top feature(s) impacting the decisions (rejection)\n",
    "<br>*Click [here](#toc) to go back to **Table of Contents**.*"
   ]
  },
  {
   "cell_type": "markdown",
   "id": "eabaa4b5",
   "metadata": {
    "papermill": {
     "duration": 0.02196,
     "end_time": "2023-02-13T10:29:32.668599",
     "exception": false,
     "start_time": "2023-02-13T10:29:32.646639",
     "status": "completed"
    },
    "tags": []
   },
   "source": [
    "<a id=\"data_extraction\"></a>\n",
    "#### **3. DATA EXTRACTION**\n",
    "<a id=\"import_libraries\"></a>\n",
    "##### **3.a. Import relevant libraries**\n",
    "\n",
    "*Click [here](#toc) to go back to **Table of Contents**.*"
   ]
  },
  {
   "cell_type": "code",
   "execution_count": 1,
   "id": "d55b7ebe",
   "metadata": {
    "execution": {
     "iopub.execute_input": "2023-02-13T10:29:32.717374Z",
     "iopub.status.busy": "2023-02-13T10:29:32.716976Z",
     "iopub.status.idle": "2023-02-13T10:29:34.058602Z",
     "shell.execute_reply": "2023-02-13T10:29:34.057636Z"
    },
    "papermill": {
     "duration": 1.370549,
     "end_time": "2023-02-13T10:29:34.061728",
     "exception": false,
     "start_time": "2023-02-13T10:29:32.691179",
     "status": "completed"
    },
    "tags": []
   },
   "outputs": [],
   "source": [
    "import pandas as pd\n",
    "import matplotlib.pyplot as plt\n",
    "import numpy as np\n",
    "import seaborn as sns\n",
    "from glob import glob\n",
    "sns.set()\n",
    "from imblearn.over_sampling import RandomOverSampler\n",
    "from sklearn.preprocessing import OneHotEncoder,MinMaxScaler\n",
    "from sklearn.impute import SimpleImputer\n",
    "from sklearn.pipeline import make_pipeline\n",
    "from sklearn.compose import ColumnTransformer\n",
    "from sklearn.linear_model import LogisticRegression\n",
    "from sklearn.tree import DecisionTreeClassifier\n",
    "from sklearn.ensemble import RandomForestClassifier, GradientBoostingClassifier\n",
    "from sklearn.model_selection import GridSearchCV,train_test_split\n",
    "from sklearn.metrics import confusion_matrix,ConfusionMatrixDisplay,roc_curve,roc_auc_score\n",
    "from sklearn import set_config\n",
    "set_config(display = \"diagram\")  \n",
    "import warnings\n",
    "warnings.simplefilter(action=\"ignore\", category=\"SettingWithCopyWarning\")"
   ]
  },
  {
   "cell_type": "markdown",
   "id": "a1bf8253",
   "metadata": {
    "papermill": {
     "duration": 0.022505,
     "end_time": "2023-02-13T10:29:34.108509",
     "exception": false,
     "start_time": "2023-02-13T10:29:34.086004",
     "status": "completed"
    },
    "tags": []
   },
   "source": [
    "<a id=\"check_file_names\"></a>\n",
    "##### **3.b. Check the file names in the dataset filepath**\n",
    "\n",
    "*Click [here](#toc) to go back to **Table of Contents**.*"
   ]
  },
  {
   "cell_type": "code",
   "execution_count": 2,
   "id": "7bd22d3b",
   "metadata": {
    "execution": {
     "iopub.execute_input": "2023-02-13T10:29:34.156384Z",
     "iopub.status.busy": "2023-02-13T10:29:34.155526Z",
     "iopub.status.idle": "2023-02-13T10:29:34.168275Z",
     "shell.execute_reply": "2023-02-13T10:29:34.167491Z"
    },
    "papermill": {
     "duration": 0.03947,
     "end_time": "2023-02-13T10:29:34.170851",
     "exception": false,
     "start_time": "2023-02-13T10:29:34.131381",
     "status": "completed"
    },
    "tags": []
   },
   "outputs": [
    {
     "name": "stdout",
     "output_type": "stream",
     "text": [
      "The names of all the 7 csv files in the folder are: \n",
      " 1. Amazon Sale Report.csv\n",
      " 2. Cloud Warehouse Compersion Chart.csv\n",
      " 3. May-2022.csv\n",
      " 4. P  L March 2021.csv\n",
      " 5. International sale Report.csv\n",
      " 6. Expense IIGF.csv\n",
      " 7. Sale Report.csv\n"
     ]
    }
   ],
   "source": [
    "# assign the list of filepaths to a list variable\n",
    "filepath_list = glob(\"/kaggle/input/unlock-profits-with-e-commerce-sales-data/*.csv\")\n",
    "filepath_list\n",
    "\n",
    "# code to list out the names of the fcsv files\n",
    "print(f\"The names of all the {len(filepath_list)} csv files in the folder are: \")\n",
    "for number, filepath_name in enumerate(filepath_list, start = 1):\n",
    "    print(f\" {number}. {filepath_name.rsplit(sep = '/',maxsplit = 1)[1]}\")"
   ]
  },
  {
   "cell_type": "markdown",
   "id": "9254f94b",
   "metadata": {
    "papermill": {
     "duration": 0.022713,
     "end_time": "2023-02-13T10:29:34.218002",
     "exception": false,
     "start_time": "2023-02-13T10:29:34.195289",
     "status": "completed"
    },
    "tags": []
   },
   "source": [
    "<a id=\"read_dataset_to_dataframe\"></a>\n",
    "##### **3.c. Read the dataset to a temporary pandas dataframe**\n",
    "* The dataset in the \"*Amazon Sale Report.csv*\" file is what we need and thus, we extract and read this dataset into pandas dataframe\n",
    "\n",
    "*Click [here](#toc) to go back to **Table of Contents**.*"
   ]
  },
  {
   "cell_type": "code",
   "execution_count": 3,
   "id": "f1213cb5",
   "metadata": {
    "execution": {
     "iopub.execute_input": "2023-02-13T10:29:34.266039Z",
     "iopub.status.busy": "2023-02-13T10:29:34.265332Z",
     "iopub.status.idle": "2023-02-13T10:29:36.175049Z",
     "shell.execute_reply": "2023-02-13T10:29:36.173742Z"
    },
    "papermill": {
     "duration": 1.936548,
     "end_time": "2023-02-13T10:29:36.177561",
     "exception": false,
     "start_time": "2023-02-13T10:29:34.241013",
     "status": "completed"
    },
    "tags": []
   },
   "outputs": [
    {
     "name": "stdout",
     "output_type": "stream",
     "text": [
      "<class 'pandas.core.frame.DataFrame'>\n",
      "RangeIndex: 128975 entries, 0 to 128974\n",
      "Data columns (total 24 columns):\n",
      " #   Column              Non-Null Count   Dtype  \n",
      "---  ------              --------------   -----  \n",
      " 0   index               128975 non-null  int64  \n",
      " 1   Order ID            128975 non-null  object \n",
      " 2   Date                128975 non-null  object \n",
      " 3   Status              128975 non-null  object \n",
      " 4   Fulfilment          128975 non-null  object \n",
      " 5   Sales Channel       128975 non-null  object \n",
      " 6   ship-service-level  128975 non-null  object \n",
      " 7   Style               128975 non-null  object \n",
      " 8   SKU                 128975 non-null  object \n",
      " 9   Category            128975 non-null  object \n",
      " 10  Size                128975 non-null  object \n",
      " 11  ASIN                128975 non-null  object \n",
      " 12  Courier Status      122103 non-null  object \n",
      " 13  Qty                 128975 non-null  int64  \n",
      " 14  currency            121180 non-null  object \n",
      " 15  Amount              121180 non-null  float64\n",
      " 16  ship-city           128942 non-null  object \n",
      " 17  ship-state          128942 non-null  object \n",
      " 18  ship-postal-code    128942 non-null  float64\n",
      " 19  ship-country        128942 non-null  object \n",
      " 20  promotion-ids       79822 non-null   object \n",
      " 21  B2B                 128975 non-null  bool   \n",
      " 22  fulfilled-by        39277 non-null   object \n",
      " 23  Unnamed: 22         79925 non-null   object \n",
      "dtypes: bool(1), float64(2), int64(2), object(19)\n",
      "memory usage: 22.8+ MB\n"
     ]
    }
   ],
   "source": [
    "# read the dataset to a temporary pandas dataframe\n",
    "dataframe = pd.read_csv(filepath_list[0],low_memory = False)\n",
    "dataframe.info()"
   ]
  },
  {
   "cell_type": "markdown",
   "id": "015d0490",
   "metadata": {
    "papermill": {
     "duration": 0.023253,
     "end_time": "2023-02-13T10:29:36.222945",
     "exception": false,
     "start_time": "2023-02-13T10:29:36.199692",
     "status": "completed"
    },
    "tags": []
   },
   "source": [
    "<a id=\"data_transformation_wrangle\"></a>\n",
    "#### **4. DATA TRANSFORMATION**\n",
    "<a id=\"first_draft_wrangle\"></a>\n",
    "##### **4.a. Define a function as first draft of wrangle function**\n",
    "* This is for **preliminary cleansing** of the dataframe and **(not the final wrangle function)**\n",
    "* **Note:** The conditions for wrangling the data in this function is based on the preliminary analysis of data requirements, which are **easily and logically** identifiable for cleansing, for the **purpose of this project**.\n",
    "\n",
    "*Click [here](#toc) to go back to **Table of Contents**.*"
   ]
  },
  {
   "cell_type": "code",
   "execution_count": 4,
   "id": "fcc6f9dd",
   "metadata": {
    "execution": {
     "iopub.execute_input": "2023-02-13T10:29:36.269747Z",
     "iopub.status.busy": "2023-02-13T10:29:36.269318Z",
     "iopub.status.idle": "2023-02-13T10:29:36.279066Z",
     "shell.execute_reply": "2023-02-13T10:29:36.277901Z"
    },
    "papermill": {
     "duration": 0.035024,
     "end_time": "2023-02-13T10:29:36.280934",
     "exception": false,
     "start_time": "2023-02-13T10:29:36.245910",
     "status": "completed"
    },
    "tags": []
   },
   "outputs": [],
   "source": [
    "def first_draft_wrangle(dataframe):\n",
    "    \n",
    "    # copy dataframe to df for wrangling\n",
    "    df = dataframe.copy()\n",
    "    \n",
    "    #clean the column names\n",
    "    col = [element.lower().replace(\" \",\"\").replace(\"-\",\"\") for element in df.columns]\n",
    "    df.columns = col\n",
    "    \n",
    "    # drop the redundant features for the purpose of this analysis\n",
    "    df.drop([\"index\",\"date\",\"fulfilledby\",\"currency\",\"unnamed:22\",\"promotionids\",\"courierstatus\",\n",
    "             \"shipcountry\"],axis =\"columns\", inplace = True)\n",
    "    \n",
    "    # fill value \"unknown\" in rows where location (city and state) is not known \n",
    "    df[\"shipstate\"].fillna(\"unknown\", inplace = True)\n",
    "    df[\"shipcity\"].fillna(\"unknown\", inplace = True)\n",
    "    \n",
    "    # fill value 0 in rows where postalcode is null\n",
    "    df[\"shippostalcode\"].fillna(0, inplace = True)\n",
    "    \n",
    "    #change dtype of postalcode to int\n",
    "    df[\"shippostalcode\"] = df[\"shippostalcode\"].astype(int).astype(object)\n",
    "    \n",
    "    # clean the col shipstate to atain a 37 unique values i.e.\n",
    "    # (28 states + 8 UT + 1 as \"UNKNOWN\")\n",
    "    df[\"shipstate\"] = df[\"shipstate\"].str.upper()\n",
    "    df[\"shipstate\"].replace({\"PONDICHERRY\":\"PUDUCHERRY\",\"RAJSHTHAN\":\"RAJASTHAN\",\"RAJSTHAN\":\"RAJASTHAN\",\n",
    "                              \"RJ\":\"RAJASTHAN\",\"PB\":\"PUNJAB\",\"PUNJAB/MOHALI/ZIRAKPUR\":\"PUNJAB\",\n",
    "                              \"ORISSA\":\"ODISHA\",\"DELHI\":\"NEW DELHI\",\"NL\":\"UNKNOWN\",\"APO\":\"UNKNOWN\",\n",
    "                              \"AR\":\"UNKNOWN\"}, inplace = True)\n",
    "    \n",
    "    # drop duplicates rows if any\n",
    "    df.drop_duplicates(inplace = True)\n",
    "    \n",
    "    \n",
    "    # return cleaned data\n",
    "    return df"
   ]
  },
  {
   "cell_type": "markdown",
   "id": "3491f5a0",
   "metadata": {
    "execution": {
     "iopub.execute_input": "2023-01-22T09:37:21.810501Z",
     "iopub.status.busy": "2023-01-22T09:37:21.810072Z",
     "iopub.status.idle": "2023-01-22T09:37:21.817787Z",
     "shell.execute_reply": "2023-01-22T09:37:21.816122Z",
     "shell.execute_reply.started": "2023-01-22T09:37:21.810466Z"
    },
    "papermill": {
     "duration": 0.02211,
     "end_time": "2023-02-13T10:29:36.325612",
     "exception": false,
     "start_time": "2023-02-13T10:29:36.303502",
     "status": "completed"
    },
    "tags": []
   },
   "source": [
    "<a id=\"eda\"></a>\n",
    "##### **4.b. Exploratory Data Analysis (EDA)**"
   ]
  },
  {
   "cell_type": "markdown",
   "id": "bcfed89b",
   "metadata": {
    "papermill": {
     "duration": 0.021786,
     "end_time": "2023-02-13T10:29:36.369852",
     "exception": false,
     "start_time": "2023-02-13T10:29:36.348066",
     "status": "completed"
    },
    "tags": []
   },
   "source": [
    "<a id=\"preliminary_data_cleaning\"></a>\n",
    "**4.b.i. Preliminary Data Cleaning**<br>\n",
    "Using the **first_draft_wrangle()** function we read and store the preliminary cleaned dataset in pandas dataframe **\"df\"**.\n",
    "\n",
    "*Click [here](#toc) to go back to **Table of Contents**.*"
   ]
  },
  {
   "cell_type": "code",
   "execution_count": 5,
   "id": "092452b5",
   "metadata": {
    "execution": {
     "iopub.execute_input": "2023-02-13T10:29:36.416963Z",
     "iopub.status.busy": "2023-02-13T10:29:36.416218Z",
     "iopub.status.idle": "2023-02-13T10:29:36.905345Z",
     "shell.execute_reply": "2023-02-13T10:29:36.903766Z"
    },
    "papermill": {
     "duration": 0.515271,
     "end_time": "2023-02-13T10:29:36.907748",
     "exception": false,
     "start_time": "2023-02-13T10:29:36.392477",
     "status": "completed"
    },
    "tags": []
   },
   "outputs": [
    {
     "name": "stdout",
     "output_type": "stream",
     "text": [
      "<class 'pandas.core.frame.DataFrame'>\n",
      "Int64Index: 128969 entries, 0 to 128974\n",
      "Data columns (total 16 columns):\n",
      " #   Column            Non-Null Count   Dtype  \n",
      "---  ------            --------------   -----  \n",
      " 0   orderid           128969 non-null  object \n",
      " 1   status            128969 non-null  object \n",
      " 2   fulfilment        128969 non-null  object \n",
      " 3   saleschannel      128969 non-null  object \n",
      " 4   shipservicelevel  128969 non-null  object \n",
      " 5   style             128969 non-null  object \n",
      " 6   sku               128969 non-null  object \n",
      " 7   category          128969 non-null  object \n",
      " 8   size              128969 non-null  object \n",
      " 9   asin              128969 non-null  object \n",
      " 10  qty               128969 non-null  int64  \n",
      " 11  amount            121177 non-null  float64\n",
      " 12  shipcity          128969 non-null  object \n",
      " 13  shipstate         128969 non-null  object \n",
      " 14  shippostalcode    128969 non-null  object \n",
      " 15  b2b               128969 non-null  bool   \n",
      "dtypes: bool(1), float64(1), int64(1), object(13)\n",
      "memory usage: 15.9+ MB\n"
     ]
    }
   ],
   "source": [
    "df = first_draft_wrangle(dataframe)\n",
    "df.info()"
   ]
  },
  {
   "cell_type": "markdown",
   "id": "9f7c1ad6",
   "metadata": {
    "papermill": {
     "duration": 0.022524,
     "end_time": "2023-02-13T10:29:36.953783",
     "exception": false,
     "start_time": "2023-02-13T10:29:36.931259",
     "status": "completed"
    },
    "tags": []
   },
   "source": [
    "<a id=\"orderid\"></a>\n",
    "<br>**4.b.ii. Analyse \"orderid\" Column.**<br>\n",
    "Now, we check for **orderid(s)** that appear in more than one row (orderids with **multiple products** purchased per order)\n",
    "\n",
    "*Click [here](#toc) to go back to **Table of Contents**.*"
   ]
  },
  {
   "cell_type": "code",
   "execution_count": 6,
   "id": "867038d8",
   "metadata": {
    "execution": {
     "iopub.execute_input": "2023-02-13T10:29:37.016233Z",
     "iopub.status.busy": "2023-02-13T10:29:37.015439Z",
     "iopub.status.idle": "2023-02-13T10:29:37.096129Z",
     "shell.execute_reply": "2023-02-13T10:29:37.095003Z"
    },
    "papermill": {
     "duration": 0.116312,
     "end_time": "2023-02-13T10:29:37.098801",
     "exception": false,
     "start_time": "2023-02-13T10:29:36.982489",
     "status": "completed"
    },
    "tags": []
   },
   "outputs": [
    {
     "name": "stdout",
     "output_type": "stream",
     "text": [
      "1. Number of unique orderid with multiple products per orderid purchased: 6840\n",
      "2. Total number of rows of these orderid(s) with multiple products: 15431\n",
      "3. Number of unique orderid with single product per orderid purchased: 113538\n"
     ]
    }
   ],
   "source": [
    "# dataframe of repeated orderid(s) - all rows\n",
    "orderid_repeat_rows = df[df[\"orderid\"].duplicated(keep = False)]\n",
    "\n",
    "# count the unique repeated orderid(s)\n",
    "unique_orderid_repeat_count = orderid_repeat_rows[\"orderid\"].nunique()\n",
    "\n",
    "# count the total number of rows in the dataset occupied by repeated orders\n",
    "orderid_repeat_rows_count = len(orderid_repeat_rows)\n",
    "\n",
    "# count the number of rows in the dataset occuppied by nonrepeat_orderids\n",
    "orderid_nonrepeat_rows = df[df[\"orderid\"].duplicated(keep = False) == False]\n",
    "orderid_nonrepeat_rows_count = len(orderid_nonrepeat_rows)\n",
    " \n",
    "print(f\"1. Number of unique orderid with multiple products per orderid purchased: {unique_orderid_repeat_count}\\n\"\n",
    "         f\"2. Total number of rows of these orderid(s) with multiple products: {orderid_repeat_rows_count}\\n\"\n",
    "          f\"3. Number of unique orderid with single product per orderid purchased: {orderid_nonrepeat_rows_count}\"\n",
    "         )"
   ]
  },
  {
   "cell_type": "markdown",
   "id": "2c024d96",
   "metadata": {
    "papermill": {
     "duration": 0.023223,
     "end_time": "2023-02-13T10:29:37.145727",
     "exception": false,
     "start_time": "2023-02-13T10:29:37.122504",
     "status": "completed"
    },
    "tags": []
   },
   "source": [
    "<br>Plot a **bar chart** showing the proportions of these two types of orders\n",
    "\n",
    "*Click [here](#toc) to go back to **Table of Contents**.*"
   ]
  },
  {
   "cell_type": "code",
   "execution_count": 7,
   "id": "c92540b5",
   "metadata": {
    "execution": {
     "iopub.execute_input": "2023-02-13T10:29:37.191837Z",
     "iopub.status.busy": "2023-02-13T10:29:37.191446Z",
     "iopub.status.idle": "2023-02-13T10:29:37.434603Z",
     "shell.execute_reply": "2023-02-13T10:29:37.433887Z"
    },
    "papermill": {
     "duration": 0.268901,
     "end_time": "2023-02-13T10:29:37.436834",
     "exception": false,
     "start_time": "2023-02-13T10:29:37.167933",
     "status": "completed"
    },
    "tags": []
   },
   "outputs": [
    {
     "data": {
      "image/png": "[encoded data removed]",
      "text/plain": [
       "<Figure size 504x360 with 1 Axes>"
      ]
     },
     "metadata": {},
     "output_type": "display_data"
    }
   ],
   "source": [
    "# bar chart using matplotlib package\n",
    "fig,ax = plt.subplots(figsize = (7,5))\n",
    "\n",
    "# calculate and store the proportion values in a pandas.Series\n",
    "orderid_repeat_rows = df[df[\"orderid\"].duplicated(keep = False)]\n",
    "unique_orderid_repeat_list = orderid_repeat_rows[\"orderid\"].unique()\n",
    "plot_dataseries = round(df[\"orderid\"].isin(unique_orderid_repeat_list).\n",
    "                        value_counts(normalize = True)*100,2)\n",
    "\n",
    "# plot the bar chart\n",
    "plot_dataseries.plot(kind = \"bar\",ax =ax)\n",
    "plt.title(\"Proportions of Single-Product \\nand Multipl-Product Orders\", fontsize = 16)\n",
    "plt.ylabel(\"Proportion\", fontsize = 14)\n",
    "plt.xlabel(\"Order Types\", fontsize = 14)\n",
    "plt.xticks(ticks = plot_dataseries.index,\n",
    "           labels = [\"Single-Product Orders\", \"Mutiple-Product Orders\"], rotation = \"horizontal\")\n",
    "plt.yticks(ticks = [20,40,60,80,100,120], labels = [\"20%\",\"40%\",\"60%\",\"80%\",\"100%\",\"120%\"])\n",
    "\n",
    "# create another two series with values to be diaplayed as data-label/value-label in the chart\n",
    "data_label = plot_dataseries.astype(str).str.cat(np.full((2,),\"%\"), sep = \"\")\n",
    "count_label = pd.Series(df[\"orderid\"].isin(unique_orderid_repeat_list).value_counts()).astype(\"str\")\n",
    "\n",
    "# add/plot the data-label in the chart\n",
    "# in percentage format\n",
    "for x,y in enumerate(plot_dataseries):\n",
    "    plt.text(x,y-10,data_label[x],color = \"white\",\n",
    "             fontweight = 700,fontsize = 14, horizontalalignment = \"center\")\n",
    "    \n",
    "# in count values format\n",
    "for x,y in enumerate(plot_dataseries):\n",
    "    plt.text(x,y+5,(\"Count:\\n\"+count_label[x]),color = \"Darkgreen\",\n",
    "             fontweight = 700,fontsize = 14, horizontalalignment = \"center\")\n",
    "plt.show()"
   ]
  },
  {
   "cell_type": "markdown",
   "id": "791b369b",
   "metadata": {
    "execution": {
     "iopub.execute_input": "2023-01-22T09:52:29.487094Z",
     "iopub.status.busy": "2023-01-22T09:52:29.486675Z",
     "iopub.status.idle": "2023-01-22T09:52:29.495721Z",
     "shell.execute_reply": "2023-01-22T09:52:29.494276Z",
     "shell.execute_reply.started": "2023-01-22T09:52:29.487060Z"
    },
    "papermill": {
     "duration": 0.023933,
     "end_time": "2023-02-13T10:29:37.484695",
     "exception": false,
     "start_time": "2023-02-13T10:29:37.460762",
     "status": "completed"
    },
    "tags": []
   },
   "source": [
    "<a id=\"orderid_oa\"></a>\n",
    "<br>**Observations:**\n",
    "1. We see that **88.03%** (almost **90%**)of the data are from orders with **single-product order**.\n",
    "2. We are now interested in the majority and, therefore, **drop** the **multiple-product orders**.\n",
    "3. And, we **focus** our analysis on the **single-product orders** for prediction/classification<br>\n",
    "\n",
    "**Actions:** \n",
    "1. We drop the orderid(s) **multiple-product** orders.\n",
    "2. We further **drop \"orderid\"** column which is plainly not required (redundant) now.\n",
    "\n",
    "*Click [here](#toc) to go back to **Table of Contents**.*"
   ]
  },
  {
   "cell_type": "code",
   "execution_count": 8,
   "id": "f31936e2",
   "metadata": {
    "execution": {
     "iopub.execute_input": "2023-02-13T10:29:37.535038Z",
     "iopub.status.busy": "2023-02-13T10:29:37.534341Z",
     "iopub.status.idle": "2023-02-13T10:29:37.665864Z",
     "shell.execute_reply": "2023-02-13T10:29:37.664179Z"
    },
    "papermill": {
     "duration": 0.159006,
     "end_time": "2023-02-13T10:29:37.668292",
     "exception": false,
     "start_time": "2023-02-13T10:29:37.509286",
     "status": "completed"
    },
    "tags": []
   },
   "outputs": [
    {
     "name": "stdout",
     "output_type": "stream",
     "text": [
      "<class 'pandas.core.frame.DataFrame'>\n",
      "Int64Index: 113538 entries, 0 to 128974\n",
      "Data columns (total 15 columns):\n",
      " #   Column            Non-Null Count   Dtype  \n",
      "---  ------            --------------   -----  \n",
      " 0   status            113538 non-null  object \n",
      " 1   fulfilment        113538 non-null  object \n",
      " 2   saleschannel      113538 non-null  object \n",
      " 3   shipservicelevel  113538 non-null  object \n",
      " 4   style             113538 non-null  object \n",
      " 5   sku               113538 non-null  object \n",
      " 6   category          113538 non-null  object \n",
      " 7   size              113538 non-null  object \n",
      " 8   asin              113538 non-null  object \n",
      " 9   qty               113538 non-null  int64  \n",
      " 10  amount            106449 non-null  float64\n",
      " 11  shipcity          113538 non-null  object \n",
      " 12  shipstate         113538 non-null  object \n",
      " 13  shippostalcode    113538 non-null  object \n",
      " 14  b2b               113538 non-null  bool   \n",
      "dtypes: bool(1), float64(1), int64(1), object(12)\n",
      "memory usage: 13.1+ MB\n"
     ]
    }
   ],
   "source": [
    "# drop the orderids with multiple products\n",
    "df = df[df[\"orderid\"].duplicated(keep = False) == False]\n",
    "\n",
    "# drop redundant column \"orderid\"\n",
    "df.drop(\"orderid\", axis = 1, inplace = True)\n",
    "df.info()"
   ]
  },
  {
   "cell_type": "markdown",
   "id": "ea67e4da",
   "metadata": {
    "papermill": {
     "duration": 0.022776,
     "end_time": "2023-02-13T10:29:37.714996",
     "exception": false,
     "start_time": "2023-02-13T10:29:37.692220",
     "status": "completed"
    },
    "tags": []
   },
   "source": [
    "<a id=\"create_rejected\"></a>\n",
    "<br>**4.b.iii. Create column \"rejected\"** \n",
    "<br>Create a column named **\"rejected\"** as the **target feature** with two unique values (classifications): 1 and 0 representing rejected and not-rejected respectively\n",
    "* **Drop** the rows with **\"status\" having values unsure** of whether the orders can be assumend to be \"rejected\" or not\n",
    "* **Add** a column **\"rejected\"** where the values are logically assumed/derived from values in column **\"status\"**..\n",
    "* Then, we **drop** column \"status\".\n",
    "\n",
    "*Click [here](#toc) to go back to **Table of Contents**.*"
   ]
  },
  {
   "cell_type": "code",
   "execution_count": 9,
   "id": "df48845c",
   "metadata": {
    "execution": {
     "iopub.execute_input": "2023-02-13T10:29:37.763728Z",
     "iopub.status.busy": "2023-02-13T10:29:37.762576Z",
     "iopub.status.idle": "2023-02-13T10:29:37.778287Z",
     "shell.execute_reply": "2023-02-13T10:29:37.776942Z"
    },
    "papermill": {
     "duration": 0.042297,
     "end_time": "2023-02-13T10:29:37.780511",
     "exception": false,
     "start_time": "2023-02-13T10:29:37.738214",
     "status": "completed"
    },
    "tags": []
   },
   "outputs": [
    {
     "data": {
      "text/plain": [
       "array(['Cancelled', 'Shipped - Delivered to Buyer', 'Shipped',\n",
       "       'Shipped - Returned to Seller', 'Shipped - Rejected by Buyer',\n",
       "       'Shipped - Lost in Transit', 'Shipped - Out for Delivery',\n",
       "       'Shipped - Returning to Seller', 'Shipped - Picked Up', 'Pending',\n",
       "       'Pending - Waiting for Pick Up', 'Shipped - Damaged', 'Shipping'],\n",
       "      dtype=object)"
      ]
     },
     "execution_count": 9,
     "metadata": {},
     "output_type": "execute_result"
    }
   ],
   "source": [
    "# get the unique values in col \"status\"\n",
    "df[\"status\"].unique()"
   ]
  },
  {
   "cell_type": "markdown",
   "id": "427922bb",
   "metadata": {
    "papermill": {
     "duration": 0.02223,
     "end_time": "2023-02-13T10:29:37.825866",
     "exception": false,
     "start_time": "2023-02-13T10:29:37.803636",
     "status": "completed"
    },
    "tags": []
   },
   "source": [
    "* The **\"status\" value** that can be logically assumed to be or likened to **\"rejection\"** are:\n",
    "<br>**'Cancelled'**, **'Shipped - Returned to Seller'**, **'Shipped - Rejected by Buyer'**, **'Shipped - Returning to Seller'**.\n",
    "* The **\"status\" value** that can be logically assumed to be or likened to **\"non-rejection\"** are:\n",
    "<br>**'Shipped - Delivered to Buyer'**.\n",
    "* The rest are dropped"
   ]
  },
  {
   "cell_type": "code",
   "execution_count": 10,
   "id": "6a7433ee",
   "metadata": {
    "execution": {
     "iopub.execute_input": "2023-02-13T10:29:37.872639Z",
     "iopub.status.busy": "2023-02-13T10:29:37.872191Z",
     "iopub.status.idle": "2023-02-13T10:29:37.910165Z",
     "shell.execute_reply": "2023-02-13T10:29:37.908806Z"
    },
    "papermill": {
     "duration": 0.064347,
     "end_time": "2023-02-13T10:29:37.912706",
     "exception": false,
     "start_time": "2023-02-13T10:29:37.848359",
     "status": "completed"
    },
    "tags": []
   },
   "outputs": [],
   "source": [
    "# drop the rows with unsure rejection status\n",
    "known_value = [\"Cancelled\", 'Shipped - Returned to Seller','Shipped - Rejected by Buyer',\n",
    "            'Shipped - Returning to Seller','Shipped - Delivered to Buyer']\n",
    "df = df[df[\"status\"].isin(known_value)]   \n",
    "\n",
    "# create a col \"rejected\" where value 1 means rejected and 0 means not-rejected\" \n",
    "rejected = [\"Cancelled\", 'Shipped - Returned to Seller','Shipped - Rejected by Buyer',\n",
    "            'Shipped - Returning to Seller']\n",
    "df[\"rejected\"] = df[\"status\"].isin(rejected).astype(int)    # change the dtype to \"int\" \n",
    "\n",
    "# drop col \"status\" \n",
    "df.drop(\"status\",axis = \"columns\", inplace = True)"
   ]
  },
  {
   "cell_type": "markdown",
   "id": "7a9392e4",
   "metadata": {
    "execution": {
     "iopub.execute_input": "2023-01-22T09:57:32.762587Z",
     "iopub.status.busy": "2023-01-22T09:57:32.762148Z",
     "iopub.status.idle": "2023-01-22T09:57:32.769814Z",
     "shell.execute_reply": "2023-01-22T09:57:32.768063Z",
     "shell.execute_reply.started": "2023-01-22T09:57:32.762549Z"
    },
    "papermill": {
     "duration": 0.025074,
     "end_time": "2023-02-13T10:29:37.961643",
     "exception": false,
     "start_time": "2023-02-13T10:29:37.936569",
     "status": "completed"
    },
    "tags": []
   },
   "source": [
    "<br>Plot a **bar chart** showing the proportions of these two types of \"status\""
   ]
  },
  {
   "cell_type": "code",
   "execution_count": 11,
   "id": "3d428968",
   "metadata": {
    "execution": {
     "iopub.execute_input": "2023-02-13T10:29:38.011676Z",
     "iopub.status.busy": "2023-02-13T10:29:38.011245Z",
     "iopub.status.idle": "2023-02-13T10:29:38.212532Z",
     "shell.execute_reply": "2023-02-13T10:29:38.211180Z"
    },
    "papermill": {
     "duration": 0.228666,
     "end_time": "2023-02-13T10:29:38.214799",
     "exception": false,
     "start_time": "2023-02-13T10:29:37.986133",
     "status": "completed"
    },
    "tags": []
   },
   "outputs": [
    {
     "data": {
      "image/png": "[encoded data removed]",
      "text/plain": [
       "<Figure size 504x360 with 1 Axes>"
      ]
     },
     "metadata": {},
     "output_type": "display_data"
    }
   ],
   "source": [
    "# bar chart using matplotlib package\n",
    "fig,ax = plt.subplots(figsize = (7,5))\n",
    "\n",
    "# calculate and store the proportion values in a pandas.Series\n",
    "plot_dataseries = round(df[\"rejected\"].value_counts(normalize = True)*100,2)\n",
    "\n",
    "# plot the bar chart\n",
    "plot_dataseries.plot(kind = \"bar\",ax =ax)\n",
    "plt.title(\"Proportions of rejected and not-rejected orders\", fontsize = 14)\n",
    "plt.ylabel(\"Proportion\", fontsize = 12)\n",
    "plt.xlabel(\"Status\", fontsize = 12)\n",
    "plt.xticks(ticks = range(len(plot_dataseries)),\n",
    "           labels = [\"Not Rejected\", \"Rejected\"], rotation = \"horizontal\")\n",
    "plt.yticks(ticks = [20,40,60,80,100], labels = [\"20%\",\"40%\",\"60%\",\"80%\",\"100%\"])\n",
    "\n",
    "# create another series with values to be diaplayed as data-label/value-label in the chart\n",
    "data_label = plot_dataseries.astype(str).str.cat(np.full((2,),\"%\"), sep = \"\")\n",
    "\n",
    "# create one more series to to display count\n",
    "data_count = df[\"rejected\"].value_counts()\n",
    "\n",
    "# add/plot the data-label in the chart\n",
    "for x,y in enumerate(plot_dataseries):\n",
    "    plt.text(x,y-10,data_label[x],color = \"white\",\n",
    "             fontweight = 700,fontsize = 13, horizontalalignment = \"center\")\n",
    "\n",
    "# add count label\n",
    "for x,y in enumerate(plot_dataseries):\n",
    "    plt.text(x,y+5,\"Count:\\n\" + str(data_count[x]),fontweight = 700,\n",
    "             fontsize = 13,horizontalalignment = \"center\")\n",
    "    \n",
    "plt.show()"
   ]
  },
  {
   "cell_type": "markdown",
   "id": "2593cd7d",
   "metadata": {
    "execution": {
     "iopub.execute_input": "2023-01-22T10:00:14.727997Z",
     "iopub.status.busy": "2023-01-22T10:00:14.726914Z",
     "iopub.status.idle": "2023-01-22T10:00:14.735397Z",
     "shell.execute_reply": "2023-01-22T10:00:14.733870Z",
     "shell.execute_reply.started": "2023-01-22T10:00:14.727959Z"
    },
    "papermill": {
     "duration": 0.023185,
     "end_time": "2023-02-13T10:29:38.261708",
     "exception": false,
     "start_time": "2023-02-13T10:29:38.238523",
     "status": "completed"
    },
    "tags": []
   },
   "source": [
    "<a id=\"observation_rej\"></a>\n",
    "<br>**Observation:**&emsp;Dataset seems to be having **unbalanced** class distribution aprox. **58%** as not-rejected and **42%** as rejected.\n",
    "<br>**Action:**&emsp;We shall keep it as it is. But, we will **resample later** during training.\n",
    "\n",
    "*Click [here](#toc) to go back to **Table of Contents**.*"
   ]
  },
  {
   "cell_type": "markdown",
   "id": "62b337a3",
   "metadata": {
    "papermill": {
     "duration": 0.023632,
     "end_time": "2023-02-13T10:29:38.309706",
     "exception": false,
     "start_time": "2023-02-13T10:29:38.286074",
     "status": "completed"
    },
    "tags": []
   },
   "source": [
    "<a id=\"high_cardinality\"></a>\n",
    "<br>**4.b.iv. Check for high Cardinality categorical features**\n",
    "\n",
    "*Click [here](#toc) to go back to **Table of Contents**.*"
   ]
  },
  {
   "cell_type": "code",
   "execution_count": 12,
   "id": "2af7ff1c",
   "metadata": {
    "execution": {
     "iopub.execute_input": "2023-02-13T10:29:38.361089Z",
     "iopub.status.busy": "2023-02-13T10:29:38.360717Z",
     "iopub.status.idle": "2023-02-13T10:29:38.416167Z",
     "shell.execute_reply": "2023-02-13T10:29:38.414936Z"
    },
    "papermill": {
     "duration": 0.084182,
     "end_time": "2023-02-13T10:29:38.418583",
     "exception": false,
     "start_time": "2023-02-13T10:29:38.334401",
     "status": "completed"
    },
    "tags": []
   },
   "outputs": [
    {
     "data": {
      "text/plain": [
       "fulfilment             2\n",
       "saleschannel           2\n",
       "shipservicelevel       2\n",
       "style               1148\n",
       "sku                 5291\n",
       "category               8\n",
       "size                  11\n",
       "asin                5290\n",
       "shipcity            5293\n",
       "shipstate             37\n",
       "shippostalcode      6852\n",
       "dtype: int64"
      ]
     },
     "execution_count": 12,
     "metadata": {},
     "output_type": "execute_result"
    }
   ],
   "source": [
    "df.select_dtypes(include = \"object\").nunique()"
   ]
  },
  {
   "cell_type": "markdown",
   "id": "ae12adb1",
   "metadata": {
    "papermill": {
     "duration": 0.024039,
     "end_time": "2023-02-13T10:29:38.467027",
     "exception": false,
     "start_time": "2023-02-13T10:29:38.442988",
     "status": "completed"
    },
    "tags": []
   },
   "source": [
    "<a id=\"observation_cardi\"></a>\n",
    "<br>**Observation:**&emsp;Features **\"style\"**,**\"sku\"**,**\"shipcity\"**,**\"shippostalcode\"** and **\"asin\"** have high cardinality\n",
    "<br>**Action:**&emsp;We **drop** these features\n",
    "\n",
    "*Click [here](#toc) to go back to **Table of Contents**.*"
   ]
  },
  {
   "cell_type": "code",
   "execution_count": 13,
   "id": "81c215e6",
   "metadata": {
    "execution": {
     "iopub.execute_input": "2023-02-13T10:29:38.517511Z",
     "iopub.status.busy": "2023-02-13T10:29:38.516288Z",
     "iopub.status.idle": "2023-02-13T10:29:38.528256Z",
     "shell.execute_reply": "2023-02-13T10:29:38.527209Z"
    },
    "papermill": {
     "duration": 0.039776,
     "end_time": "2023-02-13T10:29:38.530627",
     "exception": false,
     "start_time": "2023-02-13T10:29:38.490851",
     "status": "completed"
    },
    "tags": []
   },
   "outputs": [],
   "source": [
    "# drop high cardinality fetures\n",
    "df.drop([\"style\",\"sku\",\"shipcity\",\"shippostalcode\",\"asin\"],axis = 1, inplace = True)"
   ]
  },
  {
   "cell_type": "markdown",
   "id": "34878f20",
   "metadata": {
    "papermill": {
     "duration": 0.024498,
     "end_time": "2023-02-13T10:29:38.580995",
     "exception": false,
     "start_time": "2023-02-13T10:29:38.556497",
     "status": "completed"
    },
    "tags": []
   },
   "source": [
    "<a id=\"other_features\"></a>\n",
    "<br>**4.b.v. Check other features (not \"object\" datatype)**\n",
    "\n",
    "*Click [here](#toc) to go back to **Table of Contents**.*"
   ]
  },
  {
   "cell_type": "code",
   "execution_count": 14,
   "id": "6f8b28d2",
   "metadata": {
    "execution": {
     "iopub.execute_input": "2023-02-13T10:29:38.630819Z",
     "iopub.status.busy": "2023-02-13T10:29:38.630367Z",
     "iopub.status.idle": "2023-02-13T10:29:38.645303Z",
     "shell.execute_reply": "2023-02-13T10:29:38.643845Z"
    },
    "papermill": {
     "duration": 0.043335,
     "end_time": "2023-02-13T10:29:38.648152",
     "exception": false,
     "start_time": "2023-02-13T10:29:38.604817",
     "status": "completed"
    },
    "tags": []
   },
   "outputs": [
    {
     "name": "stdout",
     "output_type": "stream",
     "text": [
      "<class 'pandas.core.frame.DataFrame'>\n",
      "Int64Index: 43000 entries, 0 to 128969\n",
      "Data columns (total 4 columns):\n",
      " #   Column    Non-Null Count  Dtype  \n",
      "---  ------    --------------  -----  \n",
      " 0   qty       43000 non-null  int64  \n",
      " 1   amount    36034 non-null  float64\n",
      " 2   b2b       43000 non-null  bool   \n",
      " 3   rejected  43000 non-null  int64  \n",
      "dtypes: bool(1), float64(1), int64(2)\n",
      "memory usage: 1.4 MB\n"
     ]
    }
   ],
   "source": [
    "# display features excluding dtype \"object\"\n",
    "df.select_dtypes(exclude = \"object\").info()"
   ]
  },
  {
   "cell_type": "markdown",
   "id": "6fd6199c",
   "metadata": {
    "papermill": {
     "duration": 0.024077,
     "end_time": "2023-02-13T10:29:38.697096",
     "exception": false,
     "start_time": "2023-02-13T10:29:38.673019",
     "status": "completed"
    },
    "tags": []
   },
   "source": [
    "<a id=\"qty\"></a>\n",
    "<br>**4.b.vi. Analysing feature \"qty\": Quantity per Order**\n",
    "\n",
    "*Click [here](#toc) to go back to **Table of Contents**.*"
   ]
  },
  {
   "cell_type": "code",
   "execution_count": 15,
   "id": "a3b6a4b4",
   "metadata": {
    "execution": {
     "iopub.execute_input": "2023-02-13T10:29:38.747223Z",
     "iopub.status.busy": "2023-02-13T10:29:38.746820Z",
     "iopub.status.idle": "2023-02-13T10:29:38.769064Z",
     "shell.execute_reply": "2023-02-13T10:29:38.768036Z"
    },
    "papermill": {
     "duration": 0.049879,
     "end_time": "2023-02-13T10:29:38.771108",
     "exception": false,
     "start_time": "2023-02-13T10:29:38.721229",
     "status": "completed"
    },
    "tags": []
   },
   "outputs": [
    {
     "data": {
      "text/html": [
       "<div>\n",
       "<style scoped>\n",
       "    .dataframe tbody tr th:only-of-type {\n",
       "        vertical-align: middle;\n",
       "    }\n",
       "\n",
       "    .dataframe tbody tr th {\n",
       "        vertical-align: top;\n",
       "    }\n",
       "\n",
       "    .dataframe thead th {\n",
       "        text-align: right;\n",
       "    }\n",
       "</style>\n",
       "<table border=\"1\" class=\"dataframe\">\n",
       "  <thead>\n",
       "    <tr style=\"text-align: right;\">\n",
       "      <th></th>\n",
       "      <th>Proportion(%)</th>\n",
       "      <th>Count</th>\n",
       "    </tr>\n",
       "    <tr>\n",
       "      <th>qty_value</th>\n",
       "      <th></th>\n",
       "      <th></th>\n",
       "    </tr>\n",
       "  </thead>\n",
       "  <tbody>\n",
       "    <tr>\n",
       "      <th>0</th>\n",
       "      <td>26.46%</td>\n",
       "      <td>11379</td>\n",
       "    </tr>\n",
       "    <tr>\n",
       "      <th>1</th>\n",
       "      <td>73.3%</td>\n",
       "      <td>31518</td>\n",
       "    </tr>\n",
       "    <tr>\n",
       "      <th>2</th>\n",
       "      <td>0.21%</td>\n",
       "      <td>90</td>\n",
       "    </tr>\n",
       "    <tr>\n",
       "      <th>3</th>\n",
       "      <td>0.02%</td>\n",
       "      <td>8</td>\n",
       "    </tr>\n",
       "    <tr>\n",
       "      <th>4</th>\n",
       "      <td>0.01%</td>\n",
       "      <td>3</td>\n",
       "    </tr>\n",
       "    <tr>\n",
       "      <th>5</th>\n",
       "      <td>0.0%</td>\n",
       "      <td>2</td>\n",
       "    </tr>\n",
       "  </tbody>\n",
       "</table>\n",
       "</div>"
      ],
      "text/plain": [
       "          Proportion(%)  Count\n",
       "qty_value                     \n",
       "0                26.46%  11379\n",
       "1                 73.3%  31518\n",
       "2                 0.21%     90\n",
       "3                 0.02%      8\n",
       "4                 0.01%      3\n",
       "5                  0.0%      2"
      ]
     },
     "execution_count": 15,
     "metadata": {},
     "output_type": "execute_result"
    }
   ],
   "source": [
    "# create a pandas dataframe calculating the \n",
    "# porportion (and number of occurence) of the \"qty\" values\n",
    "\n",
    "# calculate the respective \"proportions\" of values in \"qty\" \n",
    "qty_prop = round(df[\"qty\"].value_counts(normalize = True)*100,2)\n",
    "\n",
    "#  rename series with \"Proportion(%)\", sort by index and change to dateframe\n",
    "qty_prop = qty_prop.rename(\"Proportion(%)\").sort_index().to_frame()\n",
    "\n",
    "# rename index.name with \"qty_value\" and \n",
    "qty_prop.index.name = \"qty_value\"\n",
    "\n",
    "# add col \"count\"\n",
    "qty_prop[\"Count\"] = df[\"qty\"].value_counts()\n",
    "\n",
    "# change dtype of \"Proportion(%)\" column and concat string \"%\"\n",
    "qty_prop[\"Proportion(%)\"] = (\n",
    "    qty_prop[\"Proportion(%)\"].astype(str)\n",
    "    .str.cat(np.full(fill_value = \"%\",shape = (len(qty_prop),)))\n",
    ")\n",
    "\n",
    "qty_prop"
   ]
  },
  {
   "cell_type": "markdown",
   "id": "bc5ca0e3",
   "metadata": {
    "papermill": {
     "duration": 0.024284,
     "end_time": "2023-02-13T10:29:38.820725",
     "exception": false,
     "start_time": "2023-02-13T10:29:38.796441",
     "status": "completed"
    },
    "tags": []
   },
   "source": [
    "<br>**Plot the above data**"
   ]
  },
  {
   "cell_type": "code",
   "execution_count": 16,
   "id": "8bd9dc38",
   "metadata": {
    "execution": {
     "iopub.execute_input": "2023-02-13T10:29:38.871674Z",
     "iopub.status.busy": "2023-02-13T10:29:38.871270Z",
     "iopub.status.idle": "2023-02-13T10:29:39.139794Z",
     "shell.execute_reply": "2023-02-13T10:29:39.138882Z"
    },
    "papermill": {
     "duration": 0.298025,
     "end_time": "2023-02-13T10:29:39.143142",
     "exception": false,
     "start_time": "2023-02-13T10:29:38.845117",
     "status": "completed"
    },
    "tags": []
   },
   "outputs": [
    {
     "data": {
      "image/png": "[encoded data removed]",
      "text/plain": [
       "<Figure size 720x360 with 1 Axes>"
      ]
     },
     "metadata": {},
     "output_type": "display_data"
    }
   ],
   "source": [
    "# Plot distribution of Quantity per order\n",
    "# Plot a figure to represent data of the above table(dataframe)\n",
    "fig, ax = plt.subplots(figsize = (10,5))\n",
    "qty_prop.plot(kind = \"bar\",y = \"Count\",ax = ax)\n",
    "plt.xlabel(\"Qty per order\", fontsize = 13)\n",
    "plt.ylabel(\"Frequency [Count]\",fontsize = 13)\n",
    "plt.yticks(ticks = range(20000,60001,20000))\n",
    "plt.title('Distribution of the column \"qty\"', fontsize = 14,fontweight = 550)\n",
    "plt.xticks(rotation = \"horizontal\")\n",
    "plt.legend(\"\")\n",
    "for x,y in enumerate(qty_prop[\"Count\"]):\n",
    "    qty_value = qty_prop.index[x]\n",
    "    plt.text(x,y+1500,qty_prop[\"Proportion(%)\"].loc[qty_value],\n",
    "            horizontalalignment = \"center\",fontweight = 700)\n",
    "        \n",
    "plt.text(0,22000,' This is\\n assumed to\\n be \"NaN\" as\\n  Qty per order\\n  cannot be \\n \"0\"\\n↓',\n",
    "         horizontalalignment = \"center\",color = \"darkred\", fontsize = 13)\n",
    "plt.show()\n"
   ]
  },
  {
   "cell_type": "markdown",
   "id": "12ee97c7",
   "metadata": {
    "papermill": {
     "duration": 0.023545,
     "end_time": "2023-02-13T10:29:39.193086",
     "exception": false,
     "start_time": "2023-02-13T10:29:39.169541",
     "status": "completed"
    },
    "tags": []
   },
   "source": [
    "<a id=\"observation_qty\"></a>\n",
    "<br>**Observations:**\n",
    "* Feature **\"qty\"** is highly **skewed** (when assuming it as ***continuous variable***), or\n",
    "* It's highly **imbalanced** (when assuming it as ***categorical variable***)\n",
    "* It's **logical** to assume the value **\"0\"** as **\"NaN\"** (Null) because an order purchased cannot have quantity \"0\"\n",
    "* More than **99%** of datapoints have **value \"1\"** or **\"NaN\"** so it may not add  much information in the analysis.\n",
    "\n",
    "<br>**Actions:**\n",
    "* Therefore, we **drop** feature **\"qty\"**.\n",
    "\n",
    "*Click [here](#toc) to go back to **Table of Contents**.*"
   ]
  },
  {
   "cell_type": "code",
   "execution_count": 17,
   "id": "047dc8d4",
   "metadata": {
    "execution": {
     "iopub.execute_input": "2023-02-13T10:29:39.242768Z",
     "iopub.status.busy": "2023-02-13T10:29:39.242347Z",
     "iopub.status.idle": "2023-02-13T10:29:39.270490Z",
     "shell.execute_reply": "2023-02-13T10:29:39.269786Z"
    },
    "papermill": {
     "duration": 0.056975,
     "end_time": "2023-02-13T10:29:39.273586",
     "exception": false,
     "start_time": "2023-02-13T10:29:39.216611",
     "status": "completed"
    },
    "tags": []
   },
   "outputs": [
    {
     "name": "stdout",
     "output_type": "stream",
     "text": [
      "<class 'pandas.core.frame.DataFrame'>\n",
      "Int64Index: 43000 entries, 0 to 128969\n",
      "Data columns (total 9 columns):\n",
      " #   Column            Non-Null Count  Dtype  \n",
      "---  ------            --------------  -----  \n",
      " 0   fulfilment        43000 non-null  object \n",
      " 1   saleschannel      43000 non-null  object \n",
      " 2   shipservicelevel  43000 non-null  object \n",
      " 3   category          43000 non-null  object \n",
      " 4   size              43000 non-null  object \n",
      " 5   amount            36034 non-null  float64\n",
      " 6   shipstate         43000 non-null  object \n",
      " 7   b2b               43000 non-null  bool   \n",
      " 8   rejected          43000 non-null  int64  \n",
      "dtypes: bool(1), float64(1), int64(1), object(6)\n",
      "memory usage: 3.0+ MB\n"
     ]
    }
   ],
   "source": [
    "# drop feature \"qty\"\n",
    "df.drop(\"qty\", axis = \"columns\", inplace = True)\n",
    "df.info()"
   ]
  },
  {
   "cell_type": "markdown",
   "id": "a5885fe4",
   "metadata": {
    "execution": {
     "iopub.execute_input": "2023-01-22T10:13:57.739612Z",
     "iopub.status.busy": "2023-01-22T10:13:57.739187Z",
     "iopub.status.idle": "2023-01-22T10:13:57.747968Z",
     "shell.execute_reply": "2023-01-22T10:13:57.746553Z",
     "shell.execute_reply.started": "2023-01-22T10:13:57.739578Z"
    },
    "papermill": {
     "duration": 0.02423,
     "end_time": "2023-02-13T10:29:39.323678",
     "exception": false,
     "start_time": "2023-02-13T10:29:39.299448",
     "status": "completed"
    },
    "tags": []
   },
   "source": [
    "<a id=\"amount\"></a>\n",
    "<br>**4.b.vii. Analysing feature **\"amount\"**: Amount in Rupees.**\n",
    "\n",
    "*Click [here](#toc) to go back to **Table of Contents**.*"
   ]
  },
  {
   "cell_type": "code",
   "execution_count": 18,
   "id": "d6432d05",
   "metadata": {
    "execution": {
     "iopub.execute_input": "2023-02-13T10:29:39.373206Z",
     "iopub.status.busy": "2023-02-13T10:29:39.372623Z",
     "iopub.status.idle": "2023-02-13T10:29:39.379409Z",
     "shell.execute_reply": "2023-02-13T10:29:39.378735Z"
    },
    "papermill": {
     "duration": 0.03405,
     "end_time": "2023-02-13T10:29:39.381213",
     "exception": false,
     "start_time": "2023-02-13T10:29:39.347163",
     "status": "completed"
    },
    "tags": []
   },
   "outputs": [
    {
     "data": {
      "text/plain": [
       "'The number of datapoints/orderids/rows) having amount value as 0 is:   769'"
      ]
     },
     "execution_count": 18,
     "metadata": {},
     "output_type": "execute_result"
    }
   ],
   "source": [
    "# number of datapoints (rows) having value of amount = 0\n",
    "amount0 = len(df[df[\"amount\"] == 0])\n",
    "f\"The number of datapoints/orderids/rows) having amount value as 0 is:   {amount0}\""
   ]
  },
  {
   "cell_type": "markdown",
   "id": "2e7bf54e",
   "metadata": {
    "papermill": {
     "duration": 0.023629,
     "end_time": "2023-02-13T10:29:39.429280",
     "exception": false,
     "start_time": "2023-02-13T10:29:39.405651",
     "status": "completed"
    },
    "tags": []
   },
   "source": [
    "* It's also logical to assume the value **\"0\"** as **\"NaN\"** (Null) because an order purchased cannot have amount \"0\""
   ]
  },
  {
   "cell_type": "code",
   "execution_count": 19,
   "id": "396b8441",
   "metadata": {
    "execution": {
     "iopub.execute_input": "2023-02-13T10:29:39.480552Z",
     "iopub.status.busy": "2023-02-13T10:29:39.479951Z",
     "iopub.status.idle": "2023-02-13T10:29:39.504341Z",
     "shell.execute_reply": "2023-02-13T10:29:39.502617Z"
    },
    "papermill": {
     "duration": 0.05292,
     "end_time": "2023-02-13T10:29:39.506761",
     "exception": false,
     "start_time": "2023-02-13T10:29:39.453841",
     "status": "completed"
    },
    "tags": []
   },
   "outputs": [
    {
     "name": "stdout",
     "output_type": "stream",
     "text": [
      "<class 'pandas.core.frame.DataFrame'>\n",
      "Int64Index: 43000 entries, 0 to 128969\n",
      "Data columns (total 9 columns):\n",
      " #   Column            Non-Null Count  Dtype  \n",
      "---  ------            --------------  -----  \n",
      " 0   fulfilment        43000 non-null  object \n",
      " 1   saleschannel      43000 non-null  object \n",
      " 2   shipservicelevel  43000 non-null  object \n",
      " 3   category          43000 non-null  object \n",
      " 4   size              43000 non-null  object \n",
      " 5   amount            35265 non-null  float64\n",
      " 6   shipstate         43000 non-null  object \n",
      " 7   b2b               43000 non-null  bool   \n",
      " 8   rejected          43000 non-null  int64  \n",
      "dtypes: bool(1), float64(1), int64(1), object(6)\n",
      "memory usage: 3.0+ MB\n"
     ]
    }
   ],
   "source": [
    "# replace 0s with \"NaN\"\n",
    "df[\"amount\"] = df[\"amount\"].replace(0,np.nan)\n",
    "df.info()"
   ]
  },
  {
   "cell_type": "markdown",
   "id": "02eecaa0",
   "metadata": {
    "papermill": {
     "duration": 0.025545,
     "end_time": "2023-02-13T10:29:39.557278",
     "exception": false,
     "start_time": "2023-02-13T10:29:39.531733",
     "status": "completed"
    },
    "tags": []
   },
   "source": [
    "<br>**Check the Distribution of \"amount\" feature**\n",
    "* Plot **boxplot** and **histogram**"
   ]
  },
  {
   "cell_type": "code",
   "execution_count": 20,
   "id": "f8e93b1b",
   "metadata": {
    "execution": {
     "iopub.execute_input": "2023-02-13T10:29:39.609401Z",
     "iopub.status.busy": "2023-02-13T10:29:39.609016Z",
     "iopub.status.idle": "2023-02-13T10:29:40.024023Z",
     "shell.execute_reply": "2023-02-13T10:29:40.023299Z"
    },
    "papermill": {
     "duration": 0.443491,
     "end_time": "2023-02-13T10:29:40.025983",
     "exception": false,
     "start_time": "2023-02-13T10:29:39.582492",
     "status": "completed"
    },
    "tags": []
   },
   "outputs": [
    {
     "data": {
      "image/png": "[encoded data removed]",
      "text/plain": [
       "<Figure size 504x576 with 2 Axes>"
      ]
     },
     "metadata": {},
     "output_type": "display_data"
    }
   ],
   "source": [
    "# settin figure and subplots\n",
    "fig, (ax1,ax2) = plt.subplots(2,1,figsize = (7,8))\n",
    "\n",
    "# set title for the entire figure\n",
    "plt.suptitle(\"\\n Distribution of Amount\", fontweight = 600)\n",
    "\n",
    "# code for plotting boxplot\n",
    "df[\"amount\"].plot(kind = \"box\",vert = False,ax = ax1)\n",
    "ax1.text(3000, 1.15, \"<-- Outliers -->\", fontsize = 17,\n",
    "         horizontalalignment = \"center\", color = \"darkred\")\n",
    "ax1.set_ylabel('\"Amount\" Feature',fontsize = 12, fontweight = 600)\n",
    "#ax1.set_xlabel(\"Amount (Rs.)\\n\", fontsize = 12,, fontweight = 600)\n",
    "ax1.set_yticklabels(labels = \"\")\n",
    "#ax1.legend(labels = ['Amount [Boxplot]'], fontsize = 15)\n",
    "\n",
    "# code for plotting histogram\n",
    "df[\"amount\"].plot(kind = \"hist\",bins = 20, ax = ax2)\n",
    "ax2.text(3000, 5000, \"<-- Outliers -->\", fontsize = 17,\n",
    "         horizontalalignment = \"center\", color = \"darkred\")\n",
    "ax2.set_ylabel('Frequency [Count]',fontsize = 12, fontweight = 600)\n",
    "ax2.set_xlabel(\"Amount (Rs.)\", fontsize = 12, fontweight = 600)\n",
    "#ax2.legend(labels = ['Amount [Histogram]'],fontsize = 15)\n",
    "\n",
    "plt.show()"
   ]
  },
  {
   "cell_type": "markdown",
   "id": "ebd22283",
   "metadata": {
    "papermill": {
     "duration": 0.025903,
     "end_time": "2023-02-13T10:29:40.078551",
     "exception": false,
     "start_time": "2023-02-13T10:29:40.052648",
     "status": "completed"
    },
    "tags": []
   },
   "source": [
    "<a id=\"observation_amount\"></a>\n",
    "<br>**A. Initial Observations and Actions:**\n",
    "<br>**Observations:**&emsp; There is presence of **outliers** on the higher amount values.\n",
    "<br>**Actions:**&emsp; We explore feature \"amount\" again after removing **5 percentile of highest** values.\n",
    "\n",
    "*Click [here](#toc) to go back to **Table of Contents**.*"
   ]
  },
  {
   "cell_type": "code",
   "execution_count": 21,
   "id": "d1245fc9",
   "metadata": {
    "execution": {
     "iopub.execute_input": "2023-02-13T10:29:40.131956Z",
     "iopub.status.busy": "2023-02-13T10:29:40.131520Z",
     "iopub.status.idle": "2023-02-13T10:29:40.140786Z",
     "shell.execute_reply": "2023-02-13T10:29:40.139609Z"
    },
    "papermill": {
     "duration": 0.039573,
     "end_time": "2023-02-13T10:29:40.143464",
     "exception": false,
     "start_time": "2023-02-13T10:29:40.103891",
     "status": "completed"
    },
    "tags": []
   },
   "outputs": [],
   "source": [
    "# create an \"amount\" series with no outliers (removing highest 5 percentile)\n",
    "no_outlier = df[\"amount\"][df[\"amount\"] < df[\"amount\"].quantile(0.95)]"
   ]
  },
  {
   "cell_type": "markdown",
   "id": "e21b77c6",
   "metadata": {
    "papermill": {
     "duration": 0.025121,
     "end_time": "2023-02-13T10:29:40.194627",
     "exception": false,
     "start_time": "2023-02-13T10:29:40.169506",
     "status": "completed"
    },
    "tags": []
   },
   "source": [
    "<br>**Check the new distribution of \"amount\" feature** \n",
    "* Plot **boxplot** and **histogram**"
   ]
  },
  {
   "cell_type": "code",
   "execution_count": 22,
   "id": "2f2b7c95",
   "metadata": {
    "execution": {
     "iopub.execute_input": "2023-02-13T10:29:40.247400Z",
     "iopub.status.busy": "2023-02-13T10:29:40.247012Z",
     "iopub.status.idle": "2023-02-13T10:29:40.646663Z",
     "shell.execute_reply": "2023-02-13T10:29:40.645521Z"
    },
    "papermill": {
     "duration": 0.42859,
     "end_time": "2023-02-13T10:29:40.648802",
     "exception": false,
     "start_time": "2023-02-13T10:29:40.220212",
     "status": "completed"
    },
    "tags": []
   },
   "outputs": [
    {
     "data": {
      "image/png": "[encoded data removed]",
      "text/plain": [
       "<Figure size 504x576 with 2 Axes>"
      ]
     },
     "metadata": {},
     "output_type": "display_data"
    }
   ],
   "source": [
    "# settin figure and subplots\n",
    "fig, (ax1,ax2) = plt.subplots(2,1,figsize = (7,8))\n",
    "\n",
    "# set title for the entire figure\n",
    "plt.suptitle(\"Distribution of Amount\\n(upto 95 percentile)\", fontweight = 600)\n",
    "\n",
    "# code for plotting boxplot\n",
    "no_outlier.plot(kind = \"box\",vert = False,ax = ax1)\n",
    "ax1.set_ylabel('\"Amount\" Feature',fontsize = 12, fontweight = 600)\n",
    "#ax1.set_xlabel(\"Amount (Rs.)\\n\", fontsize = 12,, fontweight = 600)\n",
    "ax1.set_yticklabels(labels = \"\")\n",
    "#ax1.legend(labels = ['Amount [Boxplot]'], fontsize = 15)\n",
    "\n",
    "# code for plotting histogram\n",
    "no_outlier.plot(kind = \"hist\",bins = 20, ax = ax2)\n",
    "ax2.set_ylabel('Frequency [Count]',fontsize = 12, fontweight = 600)\n",
    "ax2.set_xlabel(\"Amount (Rs.)\", fontsize = 12, fontweight = 600)\n",
    "#ax2.legend(labels = ['Amount [Histogram]'],fontsize = 15)\n",
    "\n",
    "plt.show()"
   ]
  },
  {
   "cell_type": "markdown",
   "id": "b225152d",
   "metadata": {
    "papermill": {
     "duration": 0.025201,
     "end_time": "2023-02-13T10:29:40.699475",
     "exception": false,
     "start_time": "2023-02-13T10:29:40.674274",
     "status": "completed"
    },
    "tags": []
   },
   "source": [
    "<a id=\"observation_amount_2\"></a>\n",
    "<br>**B. Final Observations and Actions:**\n",
    "<br>**Observations:**&emsp; The Distribution now looks good as it's very less skewed or it can be assumed to be closer to normal distribution than earlier.\n",
    "<br>**Actions:**&emsp; So, **drop** these **outliers** of  the feature \"amount\".\n",
    "\n",
    "*Click [here](#toc) to go back to **Table of Contents**.*"
   ]
  },
  {
   "cell_type": "code",
   "execution_count": 23,
   "id": "0cc9c3ae",
   "metadata": {
    "execution": {
     "iopub.execute_input": "2023-02-13T10:29:40.750347Z",
     "iopub.status.busy": "2023-02-13T10:29:40.749962Z",
     "iopub.status.idle": "2023-02-13T10:29:40.782774Z",
     "shell.execute_reply": "2023-02-13T10:29:40.781504Z"
    },
    "papermill": {
     "duration": 0.060871,
     "end_time": "2023-02-13T10:29:40.785143",
     "exception": false,
     "start_time": "2023-02-13T10:29:40.724272",
     "status": "completed"
    },
    "tags": []
   },
   "outputs": [
    {
     "name": "stdout",
     "output_type": "stream",
     "text": [
      "<class 'pandas.core.frame.DataFrame'>\n",
      "RangeIndex: 41141 entries, 0 to 41140\n",
      "Data columns (total 9 columns):\n",
      " #   Column            Non-Null Count  Dtype  \n",
      "---  ------            --------------  -----  \n",
      " 0   fulfilment        41141 non-null  object \n",
      " 1   saleschannel      41141 non-null  object \n",
      " 2   shipservicelevel  41141 non-null  object \n",
      " 3   category          41141 non-null  object \n",
      " 4   size              41141 non-null  object \n",
      " 5   amount            33406 non-null  float64\n",
      " 6   shipstate         41141 non-null  object \n",
      " 7   b2b               41141 non-null  bool   \n",
      " 8   rejected          41141 non-null  int64  \n",
      "dtypes: bool(1), float64(1), int64(1), object(6)\n",
      "memory usage: 2.6+ MB\n"
     ]
    }
   ],
   "source": [
    "# remove outliers by removing highest 5 percentile of the \"amount\" feature\n",
    "# Note: still include the rows with value \"NaN\" \n",
    "df = df[(df[\"amount\"] < df[\"amount\"].quantile(0.95)) | df[\"amount\"].isnull()].reset_index(drop = True)\n",
    "df.info()"
   ]
  },
  {
   "cell_type": "markdown",
   "id": "36fb0226",
   "metadata": {
    "papermill": {
     "duration": 0.024952,
     "end_time": "2023-02-13T10:29:40.836567",
     "exception": false,
     "start_time": "2023-02-13T10:29:40.811615",
     "status": "completed"
    },
    "tags": []
   },
   "source": [
    "<a id=\"fulfilment\"></a>\n",
    "<br>**4.b.viii. Analyse the feature \"fulfilment\"**\n",
    "\n",
    "*Click [here](#toc) to go back to **Table of Contents**.*"
   ]
  },
  {
   "cell_type": "code",
   "execution_count": 24,
   "id": "c3abfc42",
   "metadata": {
    "execution": {
     "iopub.execute_input": "2023-02-13T10:29:40.890942Z",
     "iopub.status.busy": "2023-02-13T10:29:40.890478Z",
     "iopub.status.idle": "2023-02-13T10:29:40.913108Z",
     "shell.execute_reply": "2023-02-13T10:29:40.911911Z"
    },
    "papermill": {
     "duration": 0.052248,
     "end_time": "2023-02-13T10:29:40.915282",
     "exception": false,
     "start_time": "2023-02-13T10:29:40.863034",
     "status": "completed"
    },
    "tags": []
   },
   "outputs": [
    {
     "data": {
      "text/html": [
       "<div>\n",
       "<style scoped>\n",
       "    .dataframe tbody tr th:only-of-type {\n",
       "        vertical-align: middle;\n",
       "    }\n",
       "\n",
       "    .dataframe tbody tr th {\n",
       "        vertical-align: top;\n",
       "    }\n",
       "\n",
       "    .dataframe thead th {\n",
       "        text-align: right;\n",
       "    }\n",
       "</style>\n",
       "<table border=\"1\" class=\"dataframe\">\n",
       "  <thead>\n",
       "    <tr style=\"text-align: right;\">\n",
       "      <th></th>\n",
       "      <th>fulfilment_type</th>\n",
       "      <th>count</th>\n",
       "      <th>proportion</th>\n",
       "    </tr>\n",
       "  </thead>\n",
       "  <tbody>\n",
       "    <tr>\n",
       "      <th>0</th>\n",
       "      <td>Merchant</td>\n",
       "      <td>31083</td>\n",
       "      <td>75.55%</td>\n",
       "    </tr>\n",
       "    <tr>\n",
       "      <th>1</th>\n",
       "      <td>Amazon</td>\n",
       "      <td>10058</td>\n",
       "      <td>24.45%</td>\n",
       "    </tr>\n",
       "  </tbody>\n",
       "</table>\n",
       "</div>"
      ],
      "text/plain": [
       "  fulfilment_type  count proportion\n",
       "0        Merchant  31083     75.55%\n",
       "1          Amazon  10058     24.45%"
      ]
     },
     "execution_count": 24,
     "metadata": {},
     "output_type": "execute_result"
    }
   ],
   "source": [
    "# create a dataframe to check the proportion of unique value types (fulfilment_type)\n",
    "df_cat = df[\"fulfilment\"].value_counts().to_frame()\n",
    "df_cat[\"proportion\"] = round(df[\"fulfilment\"].value_counts(normalize = True)*100,2)\n",
    "df_cat[\"proportion\"] = df_cat[\"proportion\"].astype(str).str.cat(np.full((2,),\"%\"))\n",
    "df_cat = (df_cat.reset_index()\n",
    "          .rename(columns = {\"fulfilment\":\"count\",\"index\":\"fulfilment_type\"}))\n",
    "df_cat\n"
   ]
  },
  {
   "cell_type": "markdown",
   "id": "348494ae",
   "metadata": {
    "papermill": {
     "duration": 0.02681,
     "end_time": "2023-02-13T10:29:40.968529",
     "exception": false,
     "start_time": "2023-02-13T10:29:40.941719",
     "status": "completed"
    },
    "tags": []
   },
   "source": [
    "<a id=\"observation_fulfilment\"></a>\n",
    "<br>**Observations:**&emsp; Although the distribution is imbalanced it still looks good for the purpose of this analysis as the **frequency (counts)** values are **not small**.\n",
    "<br>**Actions:**&emsp; **No action**\n",
    "\n",
    "*Click [here](#toc) to go back to **Table of Contents**.*"
   ]
  },
  {
   "cell_type": "markdown",
   "id": "f7563129",
   "metadata": {
    "papermill": {
     "duration": 0.026059,
     "end_time": "2023-02-13T10:29:41.020774",
     "exception": false,
     "start_time": "2023-02-13T10:29:40.994715",
     "status": "completed"
    },
    "tags": []
   },
   "source": [
    "<a id=\"saleschannel\"></a>\n",
    "<br>**4.b.ix. Analyse the feature \"saleschannel\"**\n",
    "\n",
    "*Click [here](#toc) to go back to **Table of Contents**.*"
   ]
  },
  {
   "cell_type": "code",
   "execution_count": 25,
   "id": "904801f9",
   "metadata": {
    "execution": {
     "iopub.execute_input": "2023-02-13T10:29:41.074683Z",
     "iopub.status.busy": "2023-02-13T10:29:41.074294Z",
     "iopub.status.idle": "2023-02-13T10:29:41.094812Z",
     "shell.execute_reply": "2023-02-13T10:29:41.093692Z"
    },
    "papermill": {
     "duration": 0.049858,
     "end_time": "2023-02-13T10:29:41.097045",
     "exception": false,
     "start_time": "2023-02-13T10:29:41.047187",
     "status": "completed"
    },
    "tags": []
   },
   "outputs": [
    {
     "data": {
      "text/html": [
       "<div>\n",
       "<style scoped>\n",
       "    .dataframe tbody tr th:only-of-type {\n",
       "        vertical-align: middle;\n",
       "    }\n",
       "\n",
       "    .dataframe tbody tr th {\n",
       "        vertical-align: top;\n",
       "    }\n",
       "\n",
       "    .dataframe thead th {\n",
       "        text-align: right;\n",
       "    }\n",
       "</style>\n",
       "<table border=\"1\" class=\"dataframe\">\n",
       "  <thead>\n",
       "    <tr style=\"text-align: right;\">\n",
       "      <th></th>\n",
       "      <th>saleschannel_type</th>\n",
       "      <th>count</th>\n",
       "      <th>proportion</th>\n",
       "    </tr>\n",
       "  </thead>\n",
       "  <tbody>\n",
       "    <tr>\n",
       "      <th>0</th>\n",
       "      <td>Amazon.in</td>\n",
       "      <td>41140</td>\n",
       "      <td>99.9976%</td>\n",
       "    </tr>\n",
       "    <tr>\n",
       "      <th>1</th>\n",
       "      <td>Non-Amazon</td>\n",
       "      <td>1</td>\n",
       "      <td>0.0024%</td>\n",
       "    </tr>\n",
       "  </tbody>\n",
       "</table>\n",
       "</div>"
      ],
      "text/plain": [
       "  saleschannel_type  count proportion\n",
       "0         Amazon.in  41140   99.9976%\n",
       "1        Non-Amazon      1    0.0024%"
      ]
     },
     "execution_count": 25,
     "metadata": {},
     "output_type": "execute_result"
    }
   ],
   "source": [
    "# create a dataframe to check the proportion of unique value types (fulfilment_type)\n",
    "df_cat = df[\"saleschannel\"].value_counts().to_frame()\n",
    "df_cat[\"proportion\"] = round(df[\"saleschannel\"].value_counts(normalize = True)*100,4)\n",
    "df_cat[\"proportion\"] = df_cat[\"proportion\"].astype(str).str.cat(np.full((2,),\"%\"))\n",
    "df_cat = (df_cat.reset_index()\n",
    "          .rename(columns = {\"saleschannel\":\"count\",\"index\":\"saleschannel_type\"}))\n",
    "df_cat"
   ]
  },
  {
   "cell_type": "markdown",
   "id": "7027556a",
   "metadata": {
    "papermill": {
     "duration": 0.02523,
     "end_time": "2023-02-13T10:29:41.148845",
     "exception": false,
     "start_time": "2023-02-13T10:29:41.123615",
     "status": "completed"
    },
    "tags": []
   },
   "source": [
    "<a id=\"observation_saleschannel\"></a>\n",
    "<br>**Observations:**&emsp; The distribution is **extremely imbalanced** and the **frequency (counts)** value of \"Non-Amazon\" is **just \"1\"** and thus will not add value (information) to our analysis.\n",
    "<br>**Actions:**&emsp; **Drop** the feature **\"saleschannel\"**\n",
    "\n",
    "*Click [here](#toc) to go back to **Table of Contents**.*"
   ]
  },
  {
   "cell_type": "code",
   "execution_count": 26,
   "id": "721210d9",
   "metadata": {
    "execution": {
     "iopub.execute_input": "2023-02-13T10:29:41.201386Z",
     "iopub.status.busy": "2023-02-13T10:29:41.201017Z",
     "iopub.status.idle": "2023-02-13T10:29:41.209392Z",
     "shell.execute_reply": "2023-02-13T10:29:41.208510Z"
    },
    "papermill": {
     "duration": 0.037529,
     "end_time": "2023-02-13T10:29:41.211566",
     "exception": false,
     "start_time": "2023-02-13T10:29:41.174037",
     "status": "completed"
    },
    "tags": []
   },
   "outputs": [],
   "source": [
    "# drop the feature \"saleschannel\"\n",
    "df.drop(\"saleschannel\", axis = \"columns\", inplace = True)"
   ]
  },
  {
   "cell_type": "markdown",
   "id": "9d04df18",
   "metadata": {
    "papermill": {
     "duration": 0.024834,
     "end_time": "2023-02-13T10:29:41.262256",
     "exception": false,
     "start_time": "2023-02-13T10:29:41.237422",
     "status": "completed"
    },
    "tags": []
   },
   "source": [
    "<a id=\"shipservicelevel\"></a>\n",
    "<br>**4.b.x. Analyse the feature \"shipservicelevel\"**\n",
    "\n",
    "*Click [here](#toc) to go back to **Table of Contents**.*"
   ]
  },
  {
   "cell_type": "code",
   "execution_count": 27,
   "id": "1c34f831",
   "metadata": {
    "execution": {
     "iopub.execute_input": "2023-02-13T10:29:41.316106Z",
     "iopub.status.busy": "2023-02-13T10:29:41.315593Z",
     "iopub.status.idle": "2023-02-13T10:29:41.335620Z",
     "shell.execute_reply": "2023-02-13T10:29:41.334770Z"
    },
    "papermill": {
     "duration": 0.049471,
     "end_time": "2023-02-13T10:29:41.337633",
     "exception": false,
     "start_time": "2023-02-13T10:29:41.288162",
     "status": "completed"
    },
    "tags": []
   },
   "outputs": [
    {
     "data": {
      "text/html": [
       "<div>\n",
       "<style scoped>\n",
       "    .dataframe tbody tr th:only-of-type {\n",
       "        vertical-align: middle;\n",
       "    }\n",
       "\n",
       "    .dataframe tbody tr th {\n",
       "        vertical-align: top;\n",
       "    }\n",
       "\n",
       "    .dataframe thead th {\n",
       "        text-align: right;\n",
       "    }\n",
       "</style>\n",
       "<table border=\"1\" class=\"dataframe\">\n",
       "  <thead>\n",
       "    <tr style=\"text-align: right;\">\n",
       "      <th></th>\n",
       "      <th>shipservicelevel_type</th>\n",
       "      <th>count</th>\n",
       "      <th>proportion</th>\n",
       "    </tr>\n",
       "  </thead>\n",
       "  <tbody>\n",
       "    <tr>\n",
       "      <th>0</th>\n",
       "      <td>Standard</td>\n",
       "      <td>31129</td>\n",
       "      <td>75.66%</td>\n",
       "    </tr>\n",
       "    <tr>\n",
       "      <th>1</th>\n",
       "      <td>Expedited</td>\n",
       "      <td>10012</td>\n",
       "      <td>24.34%</td>\n",
       "    </tr>\n",
       "  </tbody>\n",
       "</table>\n",
       "</div>"
      ],
      "text/plain": [
       "  shipservicelevel_type  count proportion\n",
       "0              Standard  31129     75.66%\n",
       "1             Expedited  10012     24.34%"
      ]
     },
     "execution_count": 27,
     "metadata": {},
     "output_type": "execute_result"
    }
   ],
   "source": [
    "# create a dataframe to check the proportion of unique value types (fulfilment_type)\n",
    "df_cat = df[\"shipservicelevel\"].value_counts().to_frame()\n",
    "df_cat[\"proportion\"] = round(df[\"shipservicelevel\"].value_counts(normalize = True)*100,2)\n",
    "df_cat[\"proportion\"] = df_cat[\"proportion\"].astype(str).str.cat(np.full((2,),\"%\"))\n",
    "df_cat = (df_cat.reset_index()\n",
    "          .rename(columns = {\"shipservicelevel\":\"count\",\"index\":\"shipservicelevel_type\"}))\n",
    "df_cat"
   ]
  },
  {
   "cell_type": "markdown",
   "id": "8b7bf57e",
   "metadata": {
    "papermill": {
     "duration": 0.02569,
     "end_time": "2023-02-13T10:29:41.389180",
     "exception": false,
     "start_time": "2023-02-13T10:29:41.363490",
     "status": "completed"
    },
    "tags": []
   },
   "source": [
    "<a id=\"observation_shipservicelevel\"></a>\n",
    "<br>**Observations:**&emsp; Although the distribution is imbalanced it still looks good for the purpose of this analysis as the **frequency (counts)** values are **not small**.\n",
    "<br>**Actions:**&emsp; **No action**\n",
    "\n",
    "*Click [here](#toc) to go back to **Table of Contents**.*"
   ]
  },
  {
   "cell_type": "markdown",
   "id": "7573bdee",
   "metadata": {
    "papermill": {
     "duration": 0.026655,
     "end_time": "2023-02-13T10:29:41.442196",
     "exception": false,
     "start_time": "2023-02-13T10:29:41.415541",
     "status": "completed"
    },
    "tags": []
   },
   "source": [
    "<a id=\"category\"></a>\n",
    "<br>**4.b.xi. Analyse the feature \"category\"**\n",
    "\n",
    "*Click [here](#toc) to go back to **Table of Contents**.*"
   ]
  },
  {
   "cell_type": "code",
   "execution_count": 28,
   "id": "b3f9e09d",
   "metadata": {
    "execution": {
     "iopub.execute_input": "2023-02-13T10:29:41.497081Z",
     "iopub.status.busy": "2023-02-13T10:29:41.496646Z",
     "iopub.status.idle": "2023-02-13T10:29:41.751874Z",
     "shell.execute_reply": "2023-02-13T10:29:41.750924Z"
    },
    "papermill": {
     "duration": 0.285931,
     "end_time": "2023-02-13T10:29:41.754397",
     "exception": false,
     "start_time": "2023-02-13T10:29:41.468466",
     "status": "completed"
    },
    "tags": []
   },
   "outputs": [
    {
     "data": {
      "image/png": "[encoded data removed]",
      "text/plain": [
       "<Figure size 504x360 with 1 Axes>"
      ]
     },
     "metadata": {},
     "output_type": "display_data"
    }
   ],
   "source": [
    "# create a dataframe to check the proportion of unique value types (fulfilment_type)\n",
    "fig,ax = plt.subplots(figsize = (7,5))\n",
    "df_cat = df[\"category\"].value_counts().to_frame()\n",
    "df_cat[\"proportion\"] = round(df[\"category\"].value_counts(normalize = True)*100,2)\n",
    "df_cat[\"proportion_label\"] = df_cat[\"proportion\"].astype(str).str.cat(np.full((len(df_cat),),\"%\"))\n",
    "df_cat = (df_cat.reset_index()\n",
    "          .rename(columns = {\"category\":\"count\",\"index\":\"category_type\"}))\n",
    "\n",
    "df_cat.plot(\n",
    "    kind = \"bar\", x = \"category_type\",y = \"proportion\",\n",
    "    legend = \"\", ax = ax\n",
    ")\n",
    "plt.xlabel(\"Categoty Type\")\n",
    "plt.ylabel(\"Proportion\")\n",
    "plt.title('\"Distribution of feature \"category\"', fontsize = 14)\n",
    "plt.xticks(rotation = 35)\n",
    "plt.yticks(ticks = range(10,51,10) ,labels =[\"10%\",\"20%\",\"30%\",\"40%\",\"50%\"])\n",
    "\n",
    "for x,y in enumerate(df_cat[\"count\"]):\n",
    "    plt.text(x,1+df_cat[\"proportion\"][x],y,\n",
    "             fontsize = 10, horizontalalignment = \"center\")\n",
    "plt.show()"
   ]
  },
  {
   "cell_type": "markdown",
   "id": "9f0041f2",
   "metadata": {
    "papermill": {
     "duration": 0.026167,
     "end_time": "2023-02-13T10:29:41.808424",
     "exception": false,
     "start_time": "2023-02-13T10:29:41.782257",
     "status": "completed"
    },
    "tags": []
   },
   "source": [
    "<a id=\"observation_category\"></a>\n",
    "<br>**Observations:**&emsp; Although the distribution is imbalanced it still looks good for the purpose of this analysis as the **frequency (counts)** values are **not small**.\n",
    "<br>**Actions:**&emsp; **No action**\n",
    "\n",
    "*Click [here](#toc) to go back to **Table of Contents**.*"
   ]
  },
  {
   "cell_type": "markdown",
   "id": "6daa02ac",
   "metadata": {
    "papermill": {
     "duration": 0.026638,
     "end_time": "2023-02-13T10:29:41.861315",
     "exception": false,
     "start_time": "2023-02-13T10:29:41.834677",
     "status": "completed"
    },
    "tags": []
   },
   "source": [
    "<a id=\"b2b\"></a>\n",
    "<br>**4.b.xii. Analyse the feature \"b2b\"**\n",
    "\n",
    "*Click [here](#toc) to go back to **Table of Contents**.*"
   ]
  },
  {
   "cell_type": "code",
   "execution_count": 29,
   "id": "e6c782bb",
   "metadata": {
    "execution": {
     "iopub.execute_input": "2023-02-13T10:29:41.918599Z",
     "iopub.status.busy": "2023-02-13T10:29:41.918185Z",
     "iopub.status.idle": "2023-02-13T10:29:41.935646Z",
     "shell.execute_reply": "2023-02-13T10:29:41.934527Z"
    },
    "papermill": {
     "duration": 0.049256,
     "end_time": "2023-02-13T10:29:41.938114",
     "exception": false,
     "start_time": "2023-02-13T10:29:41.888858",
     "status": "completed"
    },
    "tags": []
   },
   "outputs": [
    {
     "data": {
      "text/html": [
       "<div>\n",
       "<style scoped>\n",
       "    .dataframe tbody tr th:only-of-type {\n",
       "        vertical-align: middle;\n",
       "    }\n",
       "\n",
       "    .dataframe tbody tr th {\n",
       "        vertical-align: top;\n",
       "    }\n",
       "\n",
       "    .dataframe thead th {\n",
       "        text-align: right;\n",
       "    }\n",
       "</style>\n",
       "<table border=\"1\" class=\"dataframe\">\n",
       "  <thead>\n",
       "    <tr style=\"text-align: right;\">\n",
       "      <th></th>\n",
       "      <th>b2b_type</th>\n",
       "      <th>count</th>\n",
       "      <th>proportion</th>\n",
       "    </tr>\n",
       "  </thead>\n",
       "  <tbody>\n",
       "    <tr>\n",
       "      <th>0</th>\n",
       "      <td>False</td>\n",
       "      <td>40911</td>\n",
       "      <td>99.44%</td>\n",
       "    </tr>\n",
       "    <tr>\n",
       "      <th>1</th>\n",
       "      <td>True</td>\n",
       "      <td>230</td>\n",
       "      <td>0.56%</td>\n",
       "    </tr>\n",
       "  </tbody>\n",
       "</table>\n",
       "</div>"
      ],
      "text/plain": [
       "   b2b_type  count proportion\n",
       "0     False  40911     99.44%\n",
       "1      True    230      0.56%"
      ]
     },
     "execution_count": 29,
     "metadata": {},
     "output_type": "execute_result"
    }
   ],
   "source": [
    "# create a dataframe to check the proportion of unique value types (fulfilment_type)\n",
    "df_cat = df[\"b2b\"].value_counts().to_frame()\n",
    "df_cat[\"proportion\"] = round(df[\"b2b\"].value_counts(normalize = True)*100,2)\n",
    "df_cat[\"proportion\"] = df_cat[\"proportion\"].astype(str).str.cat(np.full((2,),\"%\"))\n",
    "df_cat = (df_cat.reset_index()\n",
    "          .rename(columns = {\"b2b\":\"count\",\"index\":\"b2b_type\"}))\n",
    "df_cat"
   ]
  },
  {
   "cell_type": "markdown",
   "id": "231b0312",
   "metadata": {
    "papermill": {
     "duration": 0.028479,
     "end_time": "2023-02-13T10:29:41.996263",
     "exception": false,
     "start_time": "2023-02-13T10:29:41.967784",
     "status": "completed"
    },
    "tags": []
   },
   "source": [
    "<a id=\"observation_b2b\"></a>\n",
    "<br>**Observations:**&emsp; Although the distribution is imbalanced it still **looks ok** for the purpose of this analysis as the **frequency (counts)** values are **not small**.\n",
    "<br>**Actions:**&emsp; Change the data type to **categorical/object**\n",
    "\n",
    "*Click [here](#toc) to go back to **Table of Contents**.*"
   ]
  },
  {
   "cell_type": "code",
   "execution_count": 30,
   "id": "804c2ca9",
   "metadata": {
    "execution": {
     "iopub.execute_input": "2023-02-13T10:29:42.054251Z",
     "iopub.status.busy": "2023-02-13T10:29:42.053243Z",
     "iopub.status.idle": "2023-02-13T10:29:42.059526Z",
     "shell.execute_reply": "2023-02-13T10:29:42.058448Z"
    },
    "papermill": {
     "duration": 0.037423,
     "end_time": "2023-02-13T10:29:42.061557",
     "exception": false,
     "start_time": "2023-02-13T10:29:42.024134",
     "status": "completed"
    },
    "tags": []
   },
   "outputs": [],
   "source": [
    "# change the data type of feature \"b2b\" to object\n",
    "df[\"b2b\"] = df[\"b2b\"].astype(object)"
   ]
  },
  {
   "cell_type": "markdown",
   "id": "3017fd86",
   "metadata": {
    "papermill": {
     "duration": 0.027299,
     "end_time": "2023-02-13T10:29:42.116726",
     "exception": false,
     "start_time": "2023-02-13T10:29:42.089427",
     "status": "completed"
    },
    "tags": []
   },
   "source": [
    "<a id=\"shipstate\"></a>\n",
    "<br>**4.b.xiii. Analyse the feature \"shipstate\"**\n",
    "\n",
    "*Click [here](#toc) to go back to **Table of Contents**.*"
   ]
  },
  {
   "cell_type": "code",
   "execution_count": 31,
   "id": "b8fcdaff",
   "metadata": {
    "execution": {
     "iopub.execute_input": "2023-02-13T10:29:42.175185Z",
     "iopub.status.busy": "2023-02-13T10:29:42.174770Z",
     "iopub.status.idle": "2023-02-13T10:29:42.756464Z",
     "shell.execute_reply": "2023-02-13T10:29:42.755221Z"
    },
    "papermill": {
     "duration": 0.613871,
     "end_time": "2023-02-13T10:29:42.759180",
     "exception": false,
     "start_time": "2023-02-13T10:29:42.145309",
     "status": "completed"
    },
    "tags": []
   },
   "outputs": [
    {
     "data": {
      "image/png": "[encoded data removed]",
      "text/plain": [
       "<Figure size 504x720 with 1 Axes>"
      ]
     },
     "metadata": {},
     "output_type": "display_data"
    }
   ],
   "source": [
    "# create a dataframe to check the proportion of unique value types (shipstate_type)\n",
    "df_cat = df[\"shipstate\"].value_counts().to_frame()\n",
    "df_cat[\"proportion\"] = round(df[\"shipstate\"].value_counts(normalize = True)*100,2)\n",
    "df_cat[\"proportion_str\"] = df_cat[\"proportion\"].astype(str).str.cat(np.full((len(df_cat),),\"%\"))\n",
    "df_cat = (df_cat.reset_index()\n",
    "          .rename(columns = {\"shipstate\":\"count\",\"index\":\"shipstate_type\"}))\n",
    "\n",
    "df_cat = df_cat.sort_values(by = \"proportion\").reset_index(drop = True)\n",
    "fig,ax = plt.subplots(figsize = (7,10))\n",
    "\n",
    "df_cat.plot(\n",
    "    kind = \"barh\", x = \"shipstate_type\",y = \"proportion\",\n",
    "    legend = \"\", ax = ax\n",
    ")\n",
    "plt.ylabel(\"Ship-State\")\n",
    "plt.xlabel(\"Proportion\")\n",
    "plt.title('\"Distribution of feature \"shipstate\"', fontsize = 14)\n",
    "plt.yticks(ticks = list(range(0,len(df_cat))) ,labels=df_cat[\"shipstate_type\"],\n",
    "          fontsize = 10)\n",
    "plt.xticks(ticks = range(5,26,5) ,labels =[\"5%\",\"10%\",\"15%\",\"20%\",\"25%\"])\n",
    "\n",
    "for x,y in enumerate(df_cat[\"count\"]):\n",
    "    plt.text((df_cat[\"proportion\"][x]),x,y,\n",
    "             fontsize = 10, verticalalignment = \"center\")\n",
    "plt.show()"
   ]
  },
  {
   "cell_type": "markdown",
   "id": "db81b3cb",
   "metadata": {
    "papermill": {
     "duration": 0.028673,
     "end_time": "2023-02-13T10:29:42.816937",
     "exception": false,
     "start_time": "2023-02-13T10:29:42.788264",
     "status": "completed"
    },
    "tags": []
   },
   "source": [
    "<a id=\"observation_shipstate\"></a>\n",
    "<br>**A. Initial Observatins and Actions**\n",
    "<br>**Observations:**\n",
    "* The distribution is imbalanced.\n",
    "* The **frequency (counts)** values of the **North-Eastern States** and  **Union Territories** and **\"UNKNOWN\"** states are **very small**.\n",
    "\n",
    "<br>**Actions:**\n",
    "* Therefore we create a feature **\"region\"** re-categorise these states to regions of Inida base on geographical Directions: **\"norteastindia\"**,**\"northindia\"**,**\"southindia\"**,**\"eastindia\"**,**\"westindia\"** and **\"centralindia\"**.\n",
    "* We also drop the \"UNKNOWN\" that has only 15 counts.\n",
    "\n",
    "*Click [here](#toc) to go back to **Table of Contents**.*"
   ]
  },
  {
   "cell_type": "code",
   "execution_count": 32,
   "id": "97fd55ba",
   "metadata": {
    "execution": {
     "iopub.execute_input": "2023-02-13T10:29:42.876354Z",
     "iopub.status.busy": "2023-02-13T10:29:42.875943Z",
     "iopub.status.idle": "2023-02-13T10:29:42.951930Z",
     "shell.execute_reply": "2023-02-13T10:29:42.951055Z"
    },
    "papermill": {
     "duration": 0.108056,
     "end_time": "2023-02-13T10:29:42.954192",
     "exception": false,
     "start_time": "2023-02-13T10:29:42.846136",
     "status": "completed"
    },
    "tags": []
   },
   "outputs": [],
   "source": [
    "# Add a col named \"regions\" based on the geographical location of states\n",
    "df[\"region\"] = df[\"shipstate\"].replace({\n",
    "    \"MAHARASHTRA\":\"westindia\",\"KARNATAKA\":\"southindia\",\n",
    "    'PUDUCHERRY':\"southindia\",'TELANGANA':\"southindia\",\n",
    "    'ANDHRA PRADESH':\"southindia\", 'HARYANA':\"northindia\",\n",
    "    'JHARKHAND':\"eastindia\", 'CHHATTISGARH':\"eastindia\",\n",
    "    'ASSAM':\"northeastindia\",'ODISHA':\"eastindia\",\n",
    "    'UTTAR PRADESH':\"northindia\", 'GUJARAT':\"westindia\",\n",
    "    'TAMIL NADU':\"southindia\", 'UTTARAKHAND':\"northindia\",\n",
    "    'WEST BENGAL':\"eastindia\", 'RAJASTHAN':\"westindia\",\n",
    "    'NEW DELHI':\"centralindia\",'MADHYA PRADESH':\"centralindia\",\n",
    "    'KERALA':\"southindia\", 'JAMMU & KASHMIR':\"northindia\",\n",
    "    'BIHAR':\"eastindia\",'MEGHALAYA':\"northeastindia\",\n",
    "    'PUNJAB':\"northindia\", 'GOA':\"southindia\",\n",
    "    'TRIPURA':\"northeastindia\", 'CHANDIGARH':\"northindia\",\n",
    "    'HIMACHAL PRADESH':\"northindia\",'SIKKIM':\"northeastindia\",\n",
    "    \"ANDAMAN & NICOBAR \":\"eastindia\", 'MANIPUR':\"northeastindia\",\n",
    "    'MIZORAM':\"northeastindia\",'NAGALAND':\"northeastindia\",\n",
    "    'ARUNACHAL PRADESH':\"northeastindia\", 'LADAKH':\"northindia\",\n",
    "    'DADRA AND NAGAR':\"westindia\",'LAKSHADWEEP':\"southindia\"\n",
    "})\n",
    "\n",
    "# rows with \"UNKNOWN\" shipstates\n",
    "df = df[df[\"shipstate\"] != \"UNKNOWN\"]"
   ]
  },
  {
   "cell_type": "markdown",
   "id": "04f3fe04",
   "metadata": {
    "papermill": {
     "duration": 0.028822,
     "end_time": "2023-02-13T10:29:43.012338",
     "exception": false,
     "start_time": "2023-02-13T10:29:42.983516",
     "status": "completed"
    },
    "tags": []
   },
   "source": [
    "* Plot **barcharts** of the feature **\"region\"**"
   ]
  },
  {
   "cell_type": "code",
   "execution_count": 33,
   "id": "7c09d509",
   "metadata": {
    "execution": {
     "iopub.execute_input": "2023-02-13T10:29:43.071239Z",
     "iopub.status.busy": "2023-02-13T10:29:43.070044Z",
     "iopub.status.idle": "2023-02-13T10:29:43.426633Z",
     "shell.execute_reply": "2023-02-13T10:29:43.425584Z"
    },
    "papermill": {
     "duration": 0.388375,
     "end_time": "2023-02-13T10:29:43.429058",
     "exception": false,
     "start_time": "2023-02-13T10:29:43.040683",
     "status": "completed"
    },
    "tags": []
   },
   "outputs": [
    {
     "data": {
      "image/png": "[encoded data removed]",
      "text/plain": [
       "<Figure size 504x360 with 1 Axes>"
      ]
     },
     "metadata": {},
     "output_type": "display_data"
    }
   ],
   "source": [
    "# create a dataframe to check the proportion of unique value types (shipstate_type)\n",
    "df_cat = df[\"region\"].value_counts().to_frame()\n",
    "df_cat[\"proportion\"] = round(df[\"region\"].value_counts(normalize = True)*100,2)\n",
    "df_cat[\"proportion_str\"] = df_cat[\"proportion\"].astype(str).str.cat(np.full((len(df_cat),),\"%\"))\n",
    "df_cat = (df_cat.reset_index()\n",
    "          .rename(columns = {\"region\":\"count\",\"index\":\"region_name\"}))\n",
    "\n",
    "df_cat = df_cat.sort_values(by = \"proportion\").reset_index(drop = True)\n",
    "fig,ax = plt.subplots(figsize = (7,5))\n",
    "\n",
    "df_cat.plot(\n",
    "    kind = \"barh\", x = \"region_name\",y = \"proportion\",\n",
    "    legend = \"\", ax = ax\n",
    ")\n",
    "plt.ylabel(\"Region\")\n",
    "plt.xlabel(\"Proportion\")\n",
    "plt.title('\"Distribution of feature \"region\"', fontsize = 14)\n",
    "plt.yticks(ticks = list(range(0,len(df_cat))) ,labels=df_cat[\"region_name\"])\n",
    "plt.xticks(ticks = range(10,51,10) ,labels =[\"10%\",\"20%\",\"30%\",\"40%\",\"50%\"])\n",
    "\n",
    "for x,y in enumerate(df_cat[\"count\"]):\n",
    "    plt.text((df_cat[\"proportion\"][x]),x,y,\n",
    "             fontsize = 10, verticalalignment = \"center\")\n",
    "plt.show()"
   ]
  },
  {
   "cell_type": "markdown",
   "id": "3c337571",
   "metadata": {
    "papermill": {
     "duration": 0.028503,
     "end_time": "2023-02-13T10:29:43.485903",
     "exception": false,
     "start_time": "2023-02-13T10:29:43.457400",
     "status": "completed"
    },
    "tags": []
   },
   "source": [
    "<a id=\"observation_shipstate_2\"></a>\n",
    "<br>**B. Final Observations and Actions**\n",
    "<br>**Observations:**\n",
    "* The distribution is still imbalanced.\n",
    "* But, regions of lower values **frequency (counts)** are **not so small**.\n",
    "\n",
    "<br>**Actions:**\n",
    "* Drop feature **\"shipstate\"** as it will be relaced by new feature **\"region\"**\n",
    "\n",
    "*Click [here](#toc) to go back to **Table of Contents**.*"
   ]
  },
  {
   "cell_type": "code",
   "execution_count": 34,
   "id": "4628ccb7",
   "metadata": {
    "execution": {
     "iopub.execute_input": "2023-02-13T10:29:43.545539Z",
     "iopub.status.busy": "2023-02-13T10:29:43.545136Z",
     "iopub.status.idle": "2023-02-13T10:29:43.573402Z",
     "shell.execute_reply": "2023-02-13T10:29:43.572266Z"
    },
    "papermill": {
     "duration": 0.062538,
     "end_time": "2023-02-13T10:29:43.576757",
     "exception": false,
     "start_time": "2023-02-13T10:29:43.514219",
     "status": "completed"
    },
    "tags": []
   },
   "outputs": [
    {
     "name": "stdout",
     "output_type": "stream",
     "text": [
      "<class 'pandas.core.frame.DataFrame'>\n",
      "RangeIndex: 41126 entries, 0 to 41125\n",
      "Data columns (total 8 columns):\n",
      " #   Column            Non-Null Count  Dtype  \n",
      "---  ------            --------------  -----  \n",
      " 0   fulfilment        41126 non-null  object \n",
      " 1   shipservicelevel  41126 non-null  object \n",
      " 2   category          41126 non-null  object \n",
      " 3   size              41126 non-null  object \n",
      " 4   amount            33394 non-null  float64\n",
      " 5   b2b               41126 non-null  object \n",
      " 6   rejected          41126 non-null  int64  \n",
      " 7   region            41126 non-null  object \n",
      "dtypes: float64(1), int64(1), object(6)\n",
      "memory usage: 2.5+ MB\n"
     ]
    }
   ],
   "source": [
    "# drop the feature \"shipstate\"\n",
    "df.drop(\"shipstate\",axis = \"columns\", inplace = True)\n",
    "\n",
    "#reset index\n",
    "df = df.reset_index(drop = True)\n",
    "df.info()"
   ]
  },
  {
   "cell_type": "markdown",
   "id": "6884f0fd",
   "metadata": {
    "papermill": {
     "duration": 0.027715,
     "end_time": "2023-02-13T10:29:43.634700",
     "exception": false,
     "start_time": "2023-02-13T10:29:43.606985",
     "status": "completed"
    },
    "tags": []
   },
   "source": [
    "<a id=\"final_wrangle\"></a>\n",
    "##### **4.c. Define Final Wrangle Function**\n",
    "Write the final wrangle function ***final_wrangle()*** with argument **\"filepath\"** to access and read  original csv file **\"Amazon Sale Report.csv\"** from the zipped folder **Archive.zip** and then, to return clean dataframe **df** which is to be used for classification analysis.\n",
    "\n",
    "*Click [here](#toc) to go back to **Table of Contents**.*"
   ]
  },
  {
   "cell_type": "code",
   "execution_count": 35,
   "id": "da9dbf1a",
   "metadata": {
    "execution": {
     "iopub.execute_input": "2023-02-13T10:29:43.692142Z",
     "iopub.status.busy": "2023-02-13T10:29:43.691337Z",
     "iopub.status.idle": "2023-02-13T10:29:43.708201Z",
     "shell.execute_reply": "2023-02-13T10:29:43.707509Z"
    },
    "papermill": {
     "duration": 0.047473,
     "end_time": "2023-02-13T10:29:43.710217",
     "exception": false,
     "start_time": "2023-02-13T10:29:43.662744",
     "status": "completed"
    },
    "tags": []
   },
   "outputs": [],
   "source": [
    "def final_wrangle(filepath):\n",
    "    \n",
    "    df = pd.read_csv(filepath, low_memory = False)\n",
    "    \n",
    "    #clean the column names\n",
    "    col = [element.lower().replace(\" \",\"\").replace(\"-\",\"\") for element in df.columns]\n",
    "    df.columns = col\n",
    "    \n",
    "    # drop the redundant cols \" in the dataset\n",
    "    df.drop([\"index\",\"date\",\"fulfilledby\",\"currency\",\"unnamed:22\",\"promotionids\",\"courierstatus\",\n",
    "             \"shipcountry\"],axis =\"columns\", inplace = True)\n",
    "    \n",
    "    # fill value \"unknown\" in rows where location (city and state) is not known \n",
    "    df[\"shipstate\"].fillna(\"unknown\", inplace = True)\n",
    "    df[\"shipcity\"].fillna(\"unknown\", inplace = True)\n",
    "    \n",
    "    # fill value 0 in rows where postalcode is null\n",
    "    df[\"shippostalcode\"].fillna(0, inplace = True)\n",
    "    \n",
    "    #change dtype of postalcode to int\n",
    "    df[\"shippostalcode\"] = df[\"shippostalcode\"].astype(int).astype(object)\n",
    "    \n",
    "    # clean the col shipstate to atain a 37 unique values i.e.\n",
    "    # (28 states + 8 UT + 1 as \"UNKNOWN\")\n",
    "    df[\"shipstate\"] = df[\"shipstate\"].str.upper()\n",
    "    df[\"shipstate\"].replace({\"PONDICHERRY\":\"PUDUCHERRY\",\"RAJSHTHAN\":\"RAJASTHAN\",\"RAJSTHAN\":\"RAJASTHAN\",\n",
    "                              \"RJ\":\"RAJASTHAN\",\"PB\":\"PUNJAB\",\"PUNJAB/MOHALI/ZIRAKPUR\":\"PUNJAB\",\n",
    "                              \"ORISSA\":\"ODISHA\",\"DELHI\":\"NEW DELHI\",\"NL\":\"UNKNOWN\",\"APO\":\"UNKNOWN\",\n",
    "                              \"AR\":\"UNKNOWN\"}, inplace = True)\n",
    "    \n",
    "    # drop duplicate rows,if any \n",
    "    df.drop_duplicates(inplace = True)\n",
    "    \n",
    "    # first drop rows in df with multiple-product orders and then drop column \"orderid\"\n",
    "    df = df[df[\"orderid\"].duplicated(keep = False) == False]\n",
    "    df.drop(\"orderid\", axis = 1, inplace = True)\n",
    "    \n",
    "    # drop the rows with unsure rejection status\n",
    "    known_value = [\"Cancelled\", 'Shipped - Returned to Seller','Shipped - Rejected by Buyer',\n",
    "                'Shipped - Returning to Seller','Shipped - Delivered to Buyer']\n",
    "    df = df[df[\"status\"].isin(known_value)]   \n",
    "\n",
    "    # create a col \"rejected\" where value 1 means rejected and 0 means not-rejected\" \n",
    "    rejected = [\"Cancelled\", 'Shipped - Returned to Seller','Shipped - Rejected by Buyer',\n",
    "                'Shipped - Returning to Seller']\n",
    "    df[\"rejected\"] = df[\"status\"].isin(rejected).astype(int)    # change the dtype to \"int\"  \n",
    "\n",
    "    # drop col \"status\" \n",
    "    df.drop(\"status\",axis = \"columns\", inplace = True)\n",
    "    \n",
    "    # drop high cardinality features\n",
    "    df.drop([\"style\",\"sku\",\"shipcity\",\"shippostalcode\",\"asin\"],axis = 1, inplace = True)\n",
    "    \n",
    "    # drop feature \"qty\"\n",
    "    df.drop(\"qty\", axis = \"columns\", inplace = True)\n",
    "    \n",
    "    # replace 0s with \"NaN\"\n",
    "    df[\"amount\"] = df[\"amount\"].replace(0,np.nan)\n",
    "    \n",
    "    # remove outliers by removing highest 5 percentile of the \"amount\" feature\n",
    "    # Note: we still include the rows with value \"NaN\" \n",
    "    df = df[(df[\"amount\"] < df[\"amount\"].quantile(0.95)) | df[\"amount\"].isnull()]\n",
    "    \n",
    "    # drop the feature \"saleschannel\"\n",
    "    df.drop(\"saleschannel\", axis = \"columns\", inplace = True)\n",
    "    \n",
    "    # Add a col named \"regions\" based on the geographical location of states\n",
    "    df[\"region\"] = df[\"shipstate\"].replace({\n",
    "        \"MAHARASHTRA\":\"westindia\",\"KARNATAKA\":\"southindia\",\n",
    "        'PUDUCHERRY':\"southindia\",'TELANGANA':\"southindia\",\n",
    "        'ANDHRA PRADESH':\"southindia\", 'HARYANA':\"northindia\",\n",
    "        'JHARKHAND':\"eastindia\", 'CHHATTISGARH':\"eastindia\",\n",
    "        'ASSAM':\"northeastindia\",'ODISHA':\"eastindia\",\n",
    "        'UTTAR PRADESH':\"northindia\", 'GUJARAT':\"westindia\",\n",
    "        'TAMIL NADU':\"southindia\", 'UTTARAKHAND':\"northindia\",\n",
    "        'WEST BENGAL':\"eastindia\", 'RAJASTHAN':\"westindia\",\n",
    "        'NEW DELHI':\"centralindia\",'MADHYA PRADESH':\"centralindia\",\n",
    "        'KERALA':\"southindia\", 'JAMMU & KASHMIR':\"northindia\",\n",
    "        'BIHAR':\"eastindia\",'MEGHALAYA':\"northeastindia\",\n",
    "        'PUNJAB':\"northindia\", 'GOA':\"southindia\",\n",
    "        'TRIPURA':\"northeastindia\", 'CHANDIGARH':\"northindia\",\n",
    "        'HIMACHAL PRADESH':\"northindia\",'SIKKIM':\"northeastindia\",\n",
    "        \"ANDAMAN & NICOBAR \":\"eastindia\", 'MANIPUR':\"northeastindia\",\n",
    "        'MIZORAM':\"northeastindia\",'NAGALAND':\"northeastindia\",\n",
    "        'ARUNACHAL PRADESH':\"northeastindia\", 'LADAKH':\"northindia\",\n",
    "        'DADRA AND NAGAR':\"westindia\",'LAKSHADWEEP':\"southindia\"\n",
    "    })\n",
    "\n",
    "    # drop rows with \"UNKNOWN\" shipstates\n",
    "    df = df[df[\"shipstate\"] != \"UNKNOWN\"]\n",
    "    \n",
    "    # drop the feature \"shipstate\"\n",
    "    df.drop(\"shipstate\",axis = \"columns\", inplace = True)\n",
    "    \n",
    "    # change the data type of feature \"b2b\" to object\n",
    "    df[\"b2b\"] = df[\"b2b\"].astype(object)\n",
    "    \n",
    "    # reset index the dataframe\n",
    "    df = df.reset_index(drop = True)\n",
    "    \n",
    "    # return clean dataset \n",
    "    return df"
   ]
  },
  {
   "cell_type": "markdown",
   "id": "e7e5d9f9",
   "metadata": {
    "papermill": {
     "duration": 0.027986,
     "end_time": "2023-02-13T10:29:43.767118",
     "exception": false,
     "start_time": "2023-02-13T10:29:43.739132",
     "status": "completed"
    },
    "tags": []
   },
   "source": [
    "<a id=\"data_loading\"></a>\n",
    "#### **5. DATA LOADING** \n",
    "Using the defined **final_wrangle(filepath)** function (entire **ETL** process), **extract** (read) the **original** data, **transform** it and **load** as a clean dataset to apandas dataframe **\"df\"**.\n",
    "\n",
    "*Click [here](#toc) to go back to **Table of Contents**.*"
   ]
  },
  {
   "cell_type": "code",
   "execution_count": 36,
   "id": "738edc89",
   "metadata": {
    "execution": {
     "iopub.execute_input": "2023-02-13T10:29:43.826559Z",
     "iopub.status.busy": "2023-02-13T10:29:43.825897Z",
     "iopub.status.idle": "2023-02-13T10:29:45.423085Z",
     "shell.execute_reply": "2023-02-13T10:29:45.421775Z"
    },
    "papermill": {
     "duration": 1.629071,
     "end_time": "2023-02-13T10:29:45.425366",
     "exception": false,
     "start_time": "2023-02-13T10:29:43.796295",
     "status": "completed"
    },
    "tags": []
   },
   "outputs": [
    {
     "name": "stdout",
     "output_type": "stream",
     "text": [
      "<class 'pandas.core.frame.DataFrame'>\n",
      "RangeIndex: 41126 entries, 0 to 41125\n",
      "Data columns (total 8 columns):\n",
      " #   Column            Non-Null Count  Dtype  \n",
      "---  ------            --------------  -----  \n",
      " 0   fulfilment        41126 non-null  object \n",
      " 1   shipservicelevel  41126 non-null  object \n",
      " 2   category          41126 non-null  object \n",
      " 3   size              41126 non-null  object \n",
      " 4   amount            33394 non-null  float64\n",
      " 5   b2b               41126 non-null  object \n",
      " 6   rejected          41126 non-null  int64  \n",
      " 7   region            41126 non-null  object \n",
      "dtypes: float64(1), int64(1), object(6)\n",
      "memory usage: 2.5+ MB\n"
     ]
    },
    {
     "data": {
      "text/html": [
       "<div>\n",
       "<style scoped>\n",
       "    .dataframe tbody tr th:only-of-type {\n",
       "        vertical-align: middle;\n",
       "    }\n",
       "\n",
       "    .dataframe tbody tr th {\n",
       "        vertical-align: top;\n",
       "    }\n",
       "\n",
       "    .dataframe thead th {\n",
       "        text-align: right;\n",
       "    }\n",
       "</style>\n",
       "<table border=\"1\" class=\"dataframe\">\n",
       "  <thead>\n",
       "    <tr style=\"text-align: right;\">\n",
       "      <th></th>\n",
       "      <th>fulfilment</th>\n",
       "      <th>shipservicelevel</th>\n",
       "      <th>category</th>\n",
       "      <th>size</th>\n",
       "      <th>amount</th>\n",
       "      <th>b2b</th>\n",
       "      <th>rejected</th>\n",
       "      <th>region</th>\n",
       "    </tr>\n",
       "  </thead>\n",
       "  <tbody>\n",
       "    <tr>\n",
       "      <th>0</th>\n",
       "      <td>Merchant</td>\n",
       "      <td>Standard</td>\n",
       "      <td>Set</td>\n",
       "      <td>S</td>\n",
       "      <td>647.62</td>\n",
       "      <td>False</td>\n",
       "      <td>1</td>\n",
       "      <td>westindia</td>\n",
       "    </tr>\n",
       "    <tr>\n",
       "      <th>1</th>\n",
       "      <td>Merchant</td>\n",
       "      <td>Standard</td>\n",
       "      <td>kurta</td>\n",
       "      <td>3XL</td>\n",
       "      <td>406.00</td>\n",
       "      <td>False</td>\n",
       "      <td>0</td>\n",
       "      <td>southindia</td>\n",
       "    </tr>\n",
       "    <tr>\n",
       "      <th>2</th>\n",
       "      <td>Merchant</td>\n",
       "      <td>Standard</td>\n",
       "      <td>Western Dress</td>\n",
       "      <td>L</td>\n",
       "      <td>753.33</td>\n",
       "      <td>False</td>\n",
       "      <td>1</td>\n",
       "      <td>southindia</td>\n",
       "    </tr>\n",
       "    <tr>\n",
       "      <th>3</th>\n",
       "      <td>Merchant</td>\n",
       "      <td>Standard</td>\n",
       "      <td>kurta</td>\n",
       "      <td>S</td>\n",
       "      <td>399.00</td>\n",
       "      <td>False</td>\n",
       "      <td>0</td>\n",
       "      <td>southindia</td>\n",
       "    </tr>\n",
       "    <tr>\n",
       "      <th>4</th>\n",
       "      <td>Amazon</td>\n",
       "      <td>Expedited</td>\n",
       "      <td>Set</td>\n",
       "      <td>3XL</td>\n",
       "      <td>NaN</td>\n",
       "      <td>False</td>\n",
       "      <td>1</td>\n",
       "      <td>southindia</td>\n",
       "    </tr>\n",
       "  </tbody>\n",
       "</table>\n",
       "</div>"
      ],
      "text/plain": [
       "  fulfilment shipservicelevel       category size  amount    b2b  rejected  \\\n",
       "0   Merchant         Standard            Set    S  647.62  False         1   \n",
       "1   Merchant         Standard          kurta  3XL  406.00  False         0   \n",
       "2   Merchant         Standard  Western Dress    L  753.33  False         1   \n",
       "3   Merchant         Standard          kurta    S  399.00  False         0   \n",
       "4     Amazon        Expedited            Set  3XL     NaN  False         1   \n",
       "\n",
       "       region  \n",
       "0   westindia  \n",
       "1  southindia  \n",
       "2  southindia  \n",
       "3  southindia  \n",
       "4  southindia  "
      ]
     },
     "execution_count": 36,
     "metadata": {},
     "output_type": "execute_result"
    }
   ],
   "source": [
    "filepath_list = glob(\"/kaggle/input/unlock-profits-with-e-commerce-sales-data/*.csv\")\n",
    "filepath = filepath_list[0]\n",
    "df = final_wrangle(filepath)\n",
    "df.info()\n",
    "df.head()"
   ]
  },
  {
   "cell_type": "markdown",
   "id": "6fc9d718",
   "metadata": {
    "execution": {
     "iopub.execute_input": "2023-01-22T10:41:06.705646Z",
     "iopub.status.busy": "2023-01-22T10:41:06.705216Z",
     "iopub.status.idle": "2023-01-22T10:41:06.713586Z",
     "shell.execute_reply": "2023-01-22T10:41:06.711756Z",
     "shell.execute_reply.started": "2023-01-22T10:41:06.705610Z"
    },
    "papermill": {
     "duration": 0.028595,
     "end_time": "2023-02-13T10:29:45.483271",
     "exception": false,
     "start_time": "2023-02-13T10:29:45.454676",
     "status": "completed"
    },
    "tags": []
   },
   "source": [
    "<br>**Observations:** &emsp;Now ***\"df\"*** is the **final clean dataframe** to be used for **classification analysis**\n",
    "\n",
    "*Click [here](#toc) to go back to **Table of Contents**.*"
   ]
  },
  {
   "cell_type": "markdown",
   "id": "d612df34",
   "metadata": {
    "papermill": {
     "duration": 0.030819,
     "end_time": "2023-02-13T10:29:45.543499",
     "exception": false,
     "start_time": "2023-02-13T10:29:45.512680",
     "status": "completed"
    },
    "tags": []
   },
   "source": [
    "<a id = \"data_preprocessing\"></a>\n",
    "#### **6. DATA PREPROCESSING**"
   ]
  },
  {
   "cell_type": "markdown",
   "id": "8a6a2966",
   "metadata": {
    "execution": {
     "iopub.execute_input": "2023-01-22T10:44:42.876815Z",
     "iopub.status.busy": "2023-01-22T10:44:42.876337Z",
     "iopub.status.idle": "2023-01-22T10:44:42.884748Z",
     "shell.execute_reply": "2023-01-22T10:44:42.883708Z",
     "shell.execute_reply.started": "2023-01-22T10:44:42.876776Z"
    },
    "papermill": {
     "duration": 0.028489,
     "end_time": "2023-02-13T10:29:45.601441",
     "exception": false,
     "start_time": "2023-02-13T10:29:45.572952",
     "status": "completed"
    },
    "tags": []
   },
   "source": [
    "<a id = \"split_dataset\"></a>\n",
    "<br>**6.a. Split the dataset**<br>\n",
    "    &emsp;i. Split the Dataset into **target vector** and **feature matrix**.<br>\n",
    "    &emsp;ii. Split the target vector and feature matrix into corresponding **training** and **test** datasets for training and testing (final validation) models.<br>\n",
    "<br>**6.a.i.** Split the Dataset into target vector and feature matrix.\n",
    "\n",
    "*Click [here](#toc) to go back to **Table of Contents**.*"
   ]
  },
  {
   "cell_type": "code",
   "execution_count": 37,
   "id": "78930607",
   "metadata": {
    "execution": {
     "iopub.execute_input": "2023-02-13T10:29:45.662244Z",
     "iopub.status.busy": "2023-02-13T10:29:45.661865Z",
     "iopub.status.idle": "2023-02-13T10:29:45.681236Z",
     "shell.execute_reply": "2023-02-13T10:29:45.680225Z"
    },
    "papermill": {
     "duration": 0.052568,
     "end_time": "2023-02-13T10:29:45.683358",
     "exception": false,
     "start_time": "2023-02-13T10:29:45.630790",
     "status": "completed"
    },
    "tags": []
   },
   "outputs": [
    {
     "name": "stdout",
     "output_type": "stream",
     "text": [
      "Target Vector:\n"
     ]
    },
    {
     "data": {
      "text/plain": [
       "0    1\n",
       "1    0\n",
       "2    1\n",
       "3    0\n",
       "4    1\n",
       "Name: rejected, dtype: int64"
      ]
     },
     "metadata": {},
     "output_type": "display_data"
    },
    {
     "name": "stdout",
     "output_type": "stream",
     "text": [
      "\n",
      "The feature matrix:\n"
     ]
    },
    {
     "data": {
      "text/html": [
       "<div>\n",
       "<style scoped>\n",
       "    .dataframe tbody tr th:only-of-type {\n",
       "        vertical-align: middle;\n",
       "    }\n",
       "\n",
       "    .dataframe tbody tr th {\n",
       "        vertical-align: top;\n",
       "    }\n",
       "\n",
       "    .dataframe thead th {\n",
       "        text-align: right;\n",
       "    }\n",
       "</style>\n",
       "<table border=\"1\" class=\"dataframe\">\n",
       "  <thead>\n",
       "    <tr style=\"text-align: right;\">\n",
       "      <th></th>\n",
       "      <th>fulfilment</th>\n",
       "      <th>shipservicelevel</th>\n",
       "      <th>category</th>\n",
       "      <th>size</th>\n",
       "      <th>amount</th>\n",
       "      <th>b2b</th>\n",
       "      <th>region</th>\n",
       "    </tr>\n",
       "  </thead>\n",
       "  <tbody>\n",
       "    <tr>\n",
       "      <th>0</th>\n",
       "      <td>Merchant</td>\n",
       "      <td>Standard</td>\n",
       "      <td>Set</td>\n",
       "      <td>S</td>\n",
       "      <td>647.62</td>\n",
       "      <td>False</td>\n",
       "      <td>westindia</td>\n",
       "    </tr>\n",
       "    <tr>\n",
       "      <th>1</th>\n",
       "      <td>Merchant</td>\n",
       "      <td>Standard</td>\n",
       "      <td>kurta</td>\n",
       "      <td>3XL</td>\n",
       "      <td>406.00</td>\n",
       "      <td>False</td>\n",
       "      <td>southindia</td>\n",
       "    </tr>\n",
       "    <tr>\n",
       "      <th>2</th>\n",
       "      <td>Merchant</td>\n",
       "      <td>Standard</td>\n",
       "      <td>Western Dress</td>\n",
       "      <td>L</td>\n",
       "      <td>753.33</td>\n",
       "      <td>False</td>\n",
       "      <td>southindia</td>\n",
       "    </tr>\n",
       "    <tr>\n",
       "      <th>3</th>\n",
       "      <td>Merchant</td>\n",
       "      <td>Standard</td>\n",
       "      <td>kurta</td>\n",
       "      <td>S</td>\n",
       "      <td>399.00</td>\n",
       "      <td>False</td>\n",
       "      <td>southindia</td>\n",
       "    </tr>\n",
       "    <tr>\n",
       "      <th>4</th>\n",
       "      <td>Amazon</td>\n",
       "      <td>Expedited</td>\n",
       "      <td>Set</td>\n",
       "      <td>3XL</td>\n",
       "      <td>NaN</td>\n",
       "      <td>False</td>\n",
       "      <td>southindia</td>\n",
       "    </tr>\n",
       "  </tbody>\n",
       "</table>\n",
       "</div>"
      ],
      "text/plain": [
       "  fulfilment shipservicelevel       category size  amount    b2b      region\n",
       "0   Merchant         Standard            Set    S  647.62  False   westindia\n",
       "1   Merchant         Standard          kurta  3XL  406.00  False  southindia\n",
       "2   Merchant         Standard  Western Dress    L  753.33  False  southindia\n",
       "3   Merchant         Standard          kurta    S  399.00  False  southindia\n",
       "4     Amazon        Expedited            Set  3XL     NaN  False  southindia"
      ]
     },
     "metadata": {},
     "output_type": "display_data"
    }
   ],
   "source": [
    "target = \"rejected\"\n",
    "y = df[target]     # target vector\n",
    "X = df.drop(target, axis = \"columns\")   # feature matrix/dataframe\n",
    "\n",
    "#display target vector and feature matrix\n",
    "print(\"Target Vector:\")\n",
    "display(y.head())\n",
    "print(\"\\nThe feature matrix:\")\n",
    "display(X.head())"
   ]
  },
  {
   "cell_type": "markdown",
   "id": "a00c724b",
   "metadata": {
    "papermill": {
     "duration": 0.031241,
     "end_time": "2023-02-13T10:29:45.744780",
     "exception": false,
     "start_time": "2023-02-13T10:29:45.713539",
     "status": "completed"
    },
    "tags": []
   },
   "source": [
    "<br>**6.a.ii.** Split the target vector and feature matrix into corresponding **training** and **test** datasets for training and testing (final validation) models.\n",
    "\n",
    "*Click [here](#toc) to go back to **Table of Contents**.*"
   ]
  },
  {
   "cell_type": "code",
   "execution_count": 38,
   "id": "0a79e365",
   "metadata": {
    "execution": {
     "iopub.execute_input": "2023-02-13T10:29:45.809928Z",
     "iopub.status.busy": "2023-02-13T10:29:45.809343Z",
     "iopub.status.idle": "2023-02-13T10:29:45.828377Z",
     "shell.execute_reply": "2023-02-13T10:29:45.826617Z"
    },
    "papermill": {
     "duration": 0.055338,
     "end_time": "2023-02-13T10:29:45.831175",
     "exception": false,
     "start_time": "2023-02-13T10:29:45.775837",
     "status": "completed"
    },
    "tags": []
   },
   "outputs": [
    {
     "name": "stdout",
     "output_type": "stream",
     "text": [
      "Shape of X_train :(32900, 7)\n",
      "Shape of X_test: (8226, 7) \n",
      "Shape of y_train: (32900,)\n",
      "Shape of y_test: (8226,)\n"
     ]
    }
   ],
   "source": [
    "# split the datasets into training and test datasets\n",
    "X_train,X_test,y_train,y_test = train_test_split(X,y,test_size= 0.2,random_state = 42)\n",
    "\n",
    "# print the shape of the training and testing datasets\n",
    "print(f\"Shape of X_train :{X_train.shape}\\nShape of X_test: {X_test.shape}\",\n",
    "      f\"\\nShape of y_train: {y_train.shape}\\nShape of y_test: {y_test.shape}\")"
   ]
  },
  {
   "cell_type": "markdown",
   "id": "540fec2c",
   "metadata": {
    "papermill": {
     "duration": 0.030284,
     "end_time": "2023-02-13T10:29:45.893020",
     "exception": false,
     "start_time": "2023-02-13T10:29:45.862736",
     "status": "completed"
    },
    "tags": []
   },
   "source": [
    "<a id = \"imbalance_check\"></a>\n",
    "**6.b. Addressing imbalanced class dristribution**.<br>\n",
    "    &emsp;i. Check for imbalance in the target class distribution in the training-target vector<br>\n",
    "    &emsp;ii. Resample the training datasets to obtain balanced target class distribution.\n",
    "<br>**6.b.i.** Check for imbalance in the target class distribution in the training-target vector\n",
    "\n",
    "*Click [here](#toc) to go back to **Table of Contents**.*"
   ]
  },
  {
   "cell_type": "code",
   "execution_count": 39,
   "id": "ac1ac2db",
   "metadata": {
    "execution": {
     "iopub.execute_input": "2023-02-13T10:29:45.954653Z",
     "iopub.status.busy": "2023-02-13T10:29:45.954284Z",
     "iopub.status.idle": "2023-02-13T10:29:46.212490Z",
     "shell.execute_reply": "2023-02-13T10:29:46.211273Z"
    },
    "papermill": {
     "duration": 0.292319,
     "end_time": "2023-02-13T10:29:46.215414",
     "exception": false,
     "start_time": "2023-02-13T10:29:45.923095",
     "status": "completed"
    },
    "tags": []
   },
   "outputs": [
    {
     "data": {
      "image/png": "[encoded data removed]",
      "text/plain": [
       "<Figure size 504x360 with 1 Axes>"
      ]
     },
     "metadata": {},
     "output_type": "display_data"
    }
   ],
   "source": [
    "# bar chvalue_countsg matplotlib package\n",
    "fig,ax = plt.subplots(figsize = (7,5))\n",
    "\n",
    "# calculate and store the proportion values in y_train series\n",
    "plot_dataseries = round(y_train.value_counts(normalize = True)*100,2) \n",
    "\n",
    "# plot the bar chart\n",
    "plot_dataseries.plot(kind = \"bar\",ax =ax, color = \"navy\")\n",
    "plt.text(0.5,70,\"Imbalanced Class Dataset\",color = \"darkred\",\n",
    "         horizontalalignment = \"center\",fontsize = 14)\n",
    "plt.axhline(y = plot_dataseries[0],color = \"darkred\", linestyle = \"--\")\n",
    "plt.title(\"Class Proportions of y_train\", fontsize = 16)\n",
    "plt.ylabel(\"Proportion\", fontsize = 12)\n",
    "plt.xlabel(\"Status\", fontsize = 12)\n",
    "plt.xticks(ticks = range(len(plot_dataseries)),\n",
    "           labels = [\"Not Rejected\", \"Rejected\"], rotation = \"horizontal\")\n",
    "plt.yticks(ticks = [20,40,60,80,100], labels = [\"20%\",\"40%\",\"60%\",\"80%\",\"100%\"])\n",
    "\n",
    "# create another series with values to be diaplayed as data-label/value-label in the chart\n",
    "data_label = plot_dataseries.astype(str).str.cat(np.full((2,),\"%\"), sep = \"\")\n",
    "\n",
    "# add/plot the data-label (in%) in the chart\n",
    "for x,y in enumerate(plot_dataseries):\n",
    "    plt.text(x,y-7,data_label[x],color = \"white\",\n",
    "             fontweight = 700,fontsize = 13, horizontalalignment = \"center\")\n",
    "\n",
    "# add/plot the data-label (in count) in the chart\n",
    "for x,y in enumerate(y_train.value_counts()):\n",
    "    plt.text(x,plot_dataseries[x]- 13,f\"Count:{y_train.value_counts()[x]}\",\n",
    "             horizontalalignment = \"center\", color = \"lightpink\",fontsize = 12, fontweight = 700)\n",
    "\n",
    "\n",
    "plt.show()"
   ]
  },
  {
   "cell_type": "markdown",
   "id": "65bd0bca",
   "metadata": {
    "papermill": {
     "duration": 0.029854,
     "end_time": "2023-02-13T10:29:46.279818",
     "exception": false,
     "start_time": "2023-02-13T10:29:46.249964",
     "status": "completed"
    },
    "tags": []
   },
   "source": [
    "<br>**6.b.ii.** Resample the training datasets to obtain balanced target class distribution.\n",
    "\n",
    "*Click [here](#toc) to go back to **Table of Contents**.*"
   ]
  },
  {
   "cell_type": "code",
   "execution_count": 40,
   "id": "4e6007e5",
   "metadata": {
    "execution": {
     "iopub.execute_input": "2023-02-13T10:29:46.355382Z",
     "iopub.status.busy": "2023-02-13T10:29:46.354601Z",
     "iopub.status.idle": "2023-02-13T10:29:46.387578Z",
     "shell.execute_reply": "2023-02-13T10:29:46.386181Z"
    },
    "papermill": {
     "duration": 0.071921,
     "end_time": "2023-02-13T10:29:46.389614",
     "exception": false,
     "start_time": "2023-02-13T10:29:46.317693",
     "status": "completed"
    },
    "tags": []
   },
   "outputs": [
    {
     "name": "stdout",
     "output_type": "stream",
     "text": [
      "Shape of X_train_over :(37470, 7) \n",
      "Shape of y_train_over: (37470,)\n"
     ]
    }
   ],
   "source": [
    "# resample it (training dataset) using Random Over Sampling\n",
    "ros = RandomOverSampler(random_state = 42)\n",
    "X_train_over,y_train_over = ros.fit_resample(X_train,y_train)\n",
    "\n",
    "# print the shape of the training and testing datasets\n",
    "print(f\"Shape of X_train_over :{X_train_over.shape}\",\n",
    "      f\"\\nShape of y_train_over: {y_train_over.shape}\")"
   ]
  },
  {
   "cell_type": "code",
   "execution_count": 41,
   "id": "2be387f5",
   "metadata": {
    "execution": {
     "iopub.execute_input": "2023-02-13T10:29:46.459345Z",
     "iopub.status.busy": "2023-02-13T10:29:46.458646Z",
     "iopub.status.idle": "2023-02-13T10:29:46.648778Z",
     "shell.execute_reply": "2023-02-13T10:29:46.647680Z"
    },
    "papermill": {
     "duration": 0.226233,
     "end_time": "2023-02-13T10:29:46.651179",
     "exception": false,
     "start_time": "2023-02-13T10:29:46.424946",
     "status": "completed"
    },
    "tags": []
   },
   "outputs": [
    {
     "data": {
      "image/png": "[encoded data removed]",
      "text/plain": [
       "<Figure size 576x360 with 1 Axes>"
      ]
     },
     "metadata": {},
     "output_type": "display_data"
    }
   ],
   "source": [
    "# plot bar chart using matplotlib package\n",
    "fig,ax = plt.subplots(figsize = (8,5))\n",
    "\n",
    "# calculate and store the proportion values in a y_train_over\n",
    "plot_dataseries = round(y_train_over.value_counts(normalize = True)*100,2)\n",
    "\n",
    "# plot the bar chart\n",
    "plot_dataseries.plot(kind = \"bar\",ax =ax, color = \"navy\")\n",
    "plt.text(0.5,70,\"Balanced Class Dataset (Oversampled)\",color = \"darkgreen\",\n",
    "         horizontalalignment = \"center\",fontsize = 14)\n",
    "plt.axhline(y = plot_dataseries[0],color = \"darkgreen\", linestyle = \"--\")\n",
    "plt.title(\"Class Proportions of y_train_over\", fontsize = 16)\n",
    "plt.ylabel(\"Proportion\", fontsize = 12)\n",
    "plt.xlabel(\"Status\", fontsize = 12)\n",
    "plt.xticks(ticks = range(len(plot_dataseries)),\n",
    "           labels = [\"Not Rejected\", \"Rejected\"], rotation = \"horizontal\")\n",
    "plt.yticks(ticks = [20,40,60,80,100], labels = [\"20%\",\"40%\",\"60%\",\"80%\",\"100%\"])\n",
    "\n",
    "# create another series with values to be diaplayed as data-label/value-label in the chart\n",
    "data_label = plot_dataseries.astype(str).str.cat(np.full((2,),\"%\"), sep = \"\")\n",
    "\n",
    "# add/plot the data-label in the chart\n",
    "for x,y in enumerate(plot_dataseries):\n",
    "    plt.text(x,y-10,data_label[x],color = \"white\",\n",
    "             fontweight = 700,fontsize = 13, horizontalalignment = \"center\")\n",
    "\n",
    "# add/plot the data-label (in count) in the chart\n",
    "for x,y in enumerate(y_train_over.value_counts()):\n",
    "    plt.text(x,plot_dataseries[x]- 25,f\"Count:\\n{y_train_over.value_counts()[x]}\",\n",
    "             horizontalalignment = \"center\", color = \"lightgreen\", fontweight = 700)\n",
    "\n",
    "plt.show()"
   ]
  },
  {
   "cell_type": "markdown",
   "id": "7feb8334",
   "metadata": {
    "papermill": {
     "duration": 0.031474,
     "end_time": "2023-02-13T10:29:46.714729",
     "exception": false,
     "start_time": "2023-02-13T10:29:46.683255",
     "status": "completed"
    },
    "tags": []
   },
   "source": [
    "<a id = \"data_transformation\"></a>\n",
    "**6.c. Data Transformation**.<br>\n",
    "    &emsp;i. Create a pipeline for transforming the **numeric feature**.<br>\n",
    "    &emsp;ii. Create a pipeline for transforming the **categorical features**.<br>\n",
    "    &emsp;iii. Create a column transformer object to enclose **both the transformers** so they could execute **in parallel**.<br>\n",
    "<br>**6.c.i.** Create a pipeline for transforming the numeric feature.\n",
    "\n",
    "*Click [here](#toc) to go back to **Table of Contents**.*"
   ]
  },
  {
   "cell_type": "code",
   "execution_count": 42,
   "id": "cbc4aaba",
   "metadata": {
    "execution": {
     "iopub.execute_input": "2023-02-13T10:29:46.780773Z",
     "iopub.status.busy": "2023-02-13T10:29:46.780028Z",
     "iopub.status.idle": "2023-02-13T10:29:46.791475Z",
     "shell.execute_reply": "2023-02-13T10:29:46.790614Z"
    },
    "papermill": {
     "duration": 0.046875,
     "end_time": "2023-02-13T10:29:46.793652",
     "exception": false,
     "start_time": "2023-02-13T10:29:46.746777",
     "status": "completed"
    },
    "tags": []
   },
   "outputs": [
    {
     "data": {
      "text/html": [
       "<style>#sk-7150315d-92e5-46b6-9500-156aff79d358 {color: black;background-color: white;}#sk-7150315d-92e5-46b6-9500-156aff79d358 pre{padding: 0;}#sk-7150315d-92e5-46b6-9500-156aff79d358 div.sk-toggleable {background-color: white;}#sk-7150315d-92e5-46b6-9500-156aff79d358 label.sk-toggleable__label {cursor: pointer;display: block;width: 100%;margin-bottom: 0;padding: 0.3em;box-sizing: border-box;text-align: center;}#sk-7150315d-92e5-46b6-9500-156aff79d358 label.sk-toggleable__label-arrow:before {content: \"▸\";float: left;margin-right: 0.25em;color: #696969;}#sk-7150315d-92e5-46b6-9500-156aff79d358 label.sk-toggleable__label-arrow:hover:before {color: black;}#sk-7150315d-92e5-46b6-9500-156aff79d358 div.sk-estimator:hover label.sk-toggleable__label-arrow:before {color: black;}#sk-7150315d-92e5-46b6-9500-156aff79d358 div.sk-toggleable__content {max-height: 0;max-width: 0;overflow: hidden;text-align: left;background-color: #f0f8ff;}#sk-7150315d-92e5-46b6-9500-156aff79d358 div.sk-toggleable__content pre {margin: 0.2em;color: black;border-radius: 0.25em;background-color: #f0f8ff;}#sk-7150315d-92e5-46b6-9500-156aff79d358 input.sk-toggleable__control:checked~div.sk-toggleable__content {max-height: 200px;max-width: 100%;overflow: auto;}#sk-7150315d-92e5-46b6-9500-156aff79d358 input.sk-toggleable__control:checked~label.sk-toggleable__label-arrow:before {content: \"▾\";}#sk-7150315d-92e5-46b6-9500-156aff79d358 div.sk-estimator input.sk-toggleable__control:checked~label.sk-toggleable__label {background-color: #d4ebff;}#sk-7150315d-92e5-46b6-9500-156aff79d358 div.sk-label input.sk-toggleable__control:checked~label.sk-toggleable__label {background-color: #d4ebff;}#sk-7150315d-92e5-46b6-9500-156aff79d358 input.sk-hidden--visually {border: 0;clip: rect(1px 1px 1px 1px);clip: rect(1px, 1px, 1px, 1px);height: 1px;margin: -1px;overflow: hidden;padding: 0;position: absolute;width: 1px;}#sk-7150315d-92e5-46b6-9500-156aff79d358 div.sk-estimator {font-family: monospace;background-color: #f0f8ff;border: 1px dotted black;border-radius: 0.25em;box-sizing: border-box;margin-bottom: 0.5em;}#sk-7150315d-92e5-46b6-9500-156aff79d358 div.sk-estimator:hover {background-color: #d4ebff;}#sk-7150315d-92e5-46b6-9500-156aff79d358 div.sk-parallel-item::after {content: \"\";width: 100%;border-bottom: 1px solid gray;flex-grow: 1;}#sk-7150315d-92e5-46b6-9500-156aff79d358 div.sk-label:hover label.sk-toggleable__label {background-color: #d4ebff;}#sk-7150315d-92e5-46b6-9500-156aff79d358 div.sk-serial::before {content: \"\";position: absolute;border-left: 1px solid gray;box-sizing: border-box;top: 2em;bottom: 0;left: 50%;}#sk-7150315d-92e5-46b6-9500-156aff79d358 div.sk-serial {display: flex;flex-direction: column;align-items: center;background-color: white;padding-right: 0.2em;padding-left: 0.2em;}#sk-7150315d-92e5-46b6-9500-156aff79d358 div.sk-item {z-index: 1;}#sk-7150315d-92e5-46b6-9500-156aff79d358 div.sk-parallel {display: flex;align-items: stretch;justify-content: center;background-color: white;}#sk-7150315d-92e5-46b6-9500-156aff79d358 div.sk-parallel::before {content: \"\";position: absolute;border-left: 1px solid gray;box-sizing: border-box;top: 2em;bottom: 0;left: 50%;}#sk-7150315d-92e5-46b6-9500-156aff79d358 div.sk-parallel-item {display: flex;flex-direction: column;position: relative;background-color: white;}#sk-7150315d-92e5-46b6-9500-156aff79d358 div.sk-parallel-item:first-child::after {align-self: flex-end;width: 50%;}#sk-7150315d-92e5-46b6-9500-156aff79d358 div.sk-parallel-item:last-child::after {align-self: flex-start;width: 50%;}#sk-7150315d-92e5-46b6-9500-156aff79d358 div.sk-parallel-item:only-child::after {width: 0;}#sk-7150315d-92e5-46b6-9500-156aff79d358 div.sk-dashed-wrapped {border: 1px dashed gray;margin: 0 0.4em 0.5em 0.4em;box-sizing: border-box;padding-bottom: 0.4em;background-color: white;position: relative;}#sk-7150315d-92e5-46b6-9500-156aff79d358 div.sk-label label {font-family: monospace;font-weight: bold;background-color: white;display: inline-block;line-height: 1.2em;}#sk-7150315d-92e5-46b6-9500-156aff79d358 div.sk-label-container {position: relative;z-index: 2;text-align: center;}#sk-7150315d-92e5-46b6-9500-156aff79d358 div.sk-container {/* jupyter's `normalize.less` sets `[hidden] { display: none; }` but bootstrap.min.css set `[hidden] { display: none !important; }` so we also need the `!important` here to be able to override the default hidden behavior on the sphinx rendered scikit-learn.org. See: https://github.com/scikit-learn/scikit-learn/issues/21755 */display: inline-block !important;position: relative;}#sk-7150315d-92e5-46b6-9500-156aff79d358 div.sk-text-repr-fallback {display: none;}</style><div id=\"sk-7150315d-92e5-46b6-9500-156aff79d358\" class=\"sk-top-container\"><div class=\"sk-text-repr-fallback\"><pre>Pipeline(steps=[(&#x27;simpleimputer&#x27;, SimpleImputer()),\n",
       "                (&#x27;minmaxscaler&#x27;, MinMaxScaler())])</pre><b>Please rerun this cell to show the HTML repr or trust the notebook.</b></div><div class=\"sk-container\" hidden><div class=\"sk-item sk-dashed-wrapped\"><div class=\"sk-label-container\"><div class=\"sk-label sk-toggleable\"><input class=\"sk-toggleable__control sk-hidden--visually\" id=\"b17396a2-892b-4763-b25a-cc613f82d3f6\" type=\"checkbox\" ><label for=\"b17396a2-892b-4763-b25a-cc613f82d3f6\" class=\"sk-toggleable__label sk-toggleable__label-arrow\">Pipeline</label><div class=\"sk-toggleable__content\"><pre>Pipeline(steps=[(&#x27;simpleimputer&#x27;, SimpleImputer()),\n",
       "                (&#x27;minmaxscaler&#x27;, MinMaxScaler())])</pre></div></div></div><div class=\"sk-serial\"><div class=\"sk-item\"><div class=\"sk-estimator sk-toggleable\"><input class=\"sk-toggleable__control sk-hidden--visually\" id=\"e75ee362-79ce-48ad-b552-9893de6952f6\" type=\"checkbox\" ><label for=\"e75ee362-79ce-48ad-b552-9893de6952f6\" class=\"sk-toggleable__label sk-toggleable__label-arrow\">SimpleImputer</label><div class=\"sk-toggleable__content\"><pre>SimpleImputer()</pre></div></div></div><div class=\"sk-item\"><div class=\"sk-estimator sk-toggleable\"><input class=\"sk-toggleable__control sk-hidden--visually\" id=\"abf074ca-76e2-4646-b1f6-ecd9db45ac3e\" type=\"checkbox\" ><label for=\"abf074ca-76e2-4646-b1f6-ecd9db45ac3e\" class=\"sk-toggleable__label sk-toggleable__label-arrow\">MinMaxScaler</label><div class=\"sk-toggleable__content\"><pre>MinMaxScaler()</pre></div></div></div></div></div></div></div>"
      ],
      "text/plain": [
       "Pipeline(steps=[('simpleimputer', SimpleImputer()),\n",
       "                ('minmaxscaler', MinMaxScaler())])"
      ]
     },
     "execution_count": 42,
     "metadata": {},
     "output_type": "execute_result"
    }
   ],
   "source": [
    "# create a pipeline with steps as simpleimputer and minmaxscaler\n",
    "num_transformer = make_pipeline(SimpleImputer(),MinMaxScaler())\n",
    "num_transformer"
   ]
  },
  {
   "cell_type": "markdown",
   "id": "eaebeb59",
   "metadata": {
    "papermill": {
     "duration": 0.031821,
     "end_time": "2023-02-13T10:29:46.856443",
     "exception": false,
     "start_time": "2023-02-13T10:29:46.824622",
     "status": "completed"
    },
    "tags": []
   },
   "source": [
    "<br>**6.c.ii.** Create a pipeline for transforming the categorical features.\n",
    "\n",
    "*Click [here](#toc) to go back to **Table of Contents**.*"
   ]
  },
  {
   "cell_type": "code",
   "execution_count": 43,
   "id": "ac998db0",
   "metadata": {
    "execution": {
     "iopub.execute_input": "2023-02-13T10:29:46.923479Z",
     "iopub.status.busy": "2023-02-13T10:29:46.922673Z",
     "iopub.status.idle": "2023-02-13T10:29:46.933894Z",
     "shell.execute_reply": "2023-02-13T10:29:46.932839Z"
    },
    "papermill": {
     "duration": 0.047181,
     "end_time": "2023-02-13T10:29:46.936135",
     "exception": false,
     "start_time": "2023-02-13T10:29:46.888954",
     "status": "completed"
    },
    "tags": []
   },
   "outputs": [
    {
     "data": {
      "text/html": [
       "<style>#sk-81d3c0c4-6a62-489a-b823-32d3b181e9bc {color: black;background-color: white;}#sk-81d3c0c4-6a62-489a-b823-32d3b181e9bc pre{padding: 0;}#sk-81d3c0c4-6a62-489a-b823-32d3b181e9bc div.sk-toggleable {background-color: white;}#sk-81d3c0c4-6a62-489a-b823-32d3b181e9bc label.sk-toggleable__label {cursor: pointer;display: block;width: 100%;margin-bottom: 0;padding: 0.3em;box-sizing: border-box;text-align: center;}#sk-81d3c0c4-6a62-489a-b823-32d3b181e9bc label.sk-toggleable__label-arrow:before {content: \"▸\";float: left;margin-right: 0.25em;color: #696969;}#sk-81d3c0c4-6a62-489a-b823-32d3b181e9bc label.sk-toggleable__label-arrow:hover:before {color: black;}#sk-81d3c0c4-6a62-489a-b823-32d3b181e9bc div.sk-estimator:hover label.sk-toggleable__label-arrow:before {color: black;}#sk-81d3c0c4-6a62-489a-b823-32d3b181e9bc div.sk-toggleable__content {max-height: 0;max-width: 0;overflow: hidden;text-align: left;background-color: #f0f8ff;}#sk-81d3c0c4-6a62-489a-b823-32d3b181e9bc div.sk-toggleable__content pre {margin: 0.2em;color: black;border-radius: 0.25em;background-color: #f0f8ff;}#sk-81d3c0c4-6a62-489a-b823-32d3b181e9bc input.sk-toggleable__control:checked~div.sk-toggleable__content {max-height: 200px;max-width: 100%;overflow: auto;}#sk-81d3c0c4-6a62-489a-b823-32d3b181e9bc input.sk-toggleable__control:checked~label.sk-toggleable__label-arrow:before {content: \"▾\";}#sk-81d3c0c4-6a62-489a-b823-32d3b181e9bc div.sk-estimator input.sk-toggleable__control:checked~label.sk-toggleable__label {background-color: #d4ebff;}#sk-81d3c0c4-6a62-489a-b823-32d3b181e9bc div.sk-label input.sk-toggleable__control:checked~label.sk-toggleable__label {background-color: #d4ebff;}#sk-81d3c0c4-6a62-489a-b823-32d3b181e9bc input.sk-hidden--visually {border: 0;clip: rect(1px 1px 1px 1px);clip: rect(1px, 1px, 1px, 1px);height: 1px;margin: -1px;overflow: hidden;padding: 0;position: absolute;width: 1px;}#sk-81d3c0c4-6a62-489a-b823-32d3b181e9bc div.sk-estimator {font-family: monospace;background-color: #f0f8ff;border: 1px dotted black;border-radius: 0.25em;box-sizing: border-box;margin-bottom: 0.5em;}#sk-81d3c0c4-6a62-489a-b823-32d3b181e9bc div.sk-estimator:hover {background-color: #d4ebff;}#sk-81d3c0c4-6a62-489a-b823-32d3b181e9bc div.sk-parallel-item::after {content: \"\";width: 100%;border-bottom: 1px solid gray;flex-grow: 1;}#sk-81d3c0c4-6a62-489a-b823-32d3b181e9bc div.sk-label:hover label.sk-toggleable__label {background-color: #d4ebff;}#sk-81d3c0c4-6a62-489a-b823-32d3b181e9bc div.sk-serial::before {content: \"\";position: absolute;border-left: 1px solid gray;box-sizing: border-box;top: 2em;bottom: 0;left: 50%;}#sk-81d3c0c4-6a62-489a-b823-32d3b181e9bc div.sk-serial {display: flex;flex-direction: column;align-items: center;background-color: white;padding-right: 0.2em;padding-left: 0.2em;}#sk-81d3c0c4-6a62-489a-b823-32d3b181e9bc div.sk-item {z-index: 1;}#sk-81d3c0c4-6a62-489a-b823-32d3b181e9bc div.sk-parallel {display: flex;align-items: stretch;justify-content: center;background-color: white;}#sk-81d3c0c4-6a62-489a-b823-32d3b181e9bc div.sk-parallel::before {content: \"\";position: absolute;border-left: 1px solid gray;box-sizing: border-box;top: 2em;bottom: 0;left: 50%;}#sk-81d3c0c4-6a62-489a-b823-32d3b181e9bc div.sk-parallel-item {display: flex;flex-direction: column;position: relative;background-color: white;}#sk-81d3c0c4-6a62-489a-b823-32d3b181e9bc div.sk-parallel-item:first-child::after {align-self: flex-end;width: 50%;}#sk-81d3c0c4-6a62-489a-b823-32d3b181e9bc div.sk-parallel-item:last-child::after {align-self: flex-start;width: 50%;}#sk-81d3c0c4-6a62-489a-b823-32d3b181e9bc div.sk-parallel-item:only-child::after {width: 0;}#sk-81d3c0c4-6a62-489a-b823-32d3b181e9bc div.sk-dashed-wrapped {border: 1px dashed gray;margin: 0 0.4em 0.5em 0.4em;box-sizing: border-box;padding-bottom: 0.4em;background-color: white;position: relative;}#sk-81d3c0c4-6a62-489a-b823-32d3b181e9bc div.sk-label label {font-family: monospace;font-weight: bold;background-color: white;display: inline-block;line-height: 1.2em;}#sk-81d3c0c4-6a62-489a-b823-32d3b181e9bc div.sk-label-container {position: relative;z-index: 2;text-align: center;}#sk-81d3c0c4-6a62-489a-b823-32d3b181e9bc div.sk-container {/* jupyter's `normalize.less` sets `[hidden] { display: none; }` but bootstrap.min.css set `[hidden] { display: none !important; }` so we also need the `!important` here to be able to override the default hidden behavior on the sphinx rendered scikit-learn.org. See: https://github.com/scikit-learn/scikit-learn/issues/21755 */display: inline-block !important;position: relative;}#sk-81d3c0c4-6a62-489a-b823-32d3b181e9bc div.sk-text-repr-fallback {display: none;}</style><div id=\"sk-81d3c0c4-6a62-489a-b823-32d3b181e9bc\" class=\"sk-top-container\"><div class=\"sk-text-repr-fallback\"><pre>Pipeline(steps=[(&#x27;simpleimputer&#x27;, SimpleImputer(strategy=&#x27;most_frequent&#x27;)),\n",
       "                (&#x27;onehotencoder&#x27;, OneHotEncoder(drop=&#x27;first&#x27;))])</pre><b>Please rerun this cell to show the HTML repr or trust the notebook.</b></div><div class=\"sk-container\" hidden><div class=\"sk-item sk-dashed-wrapped\"><div class=\"sk-label-container\"><div class=\"sk-label sk-toggleable\"><input class=\"sk-toggleable__control sk-hidden--visually\" id=\"d73e59a5-db6b-4532-a25f-dae2cbc81b83\" type=\"checkbox\" ><label for=\"d73e59a5-db6b-4532-a25f-dae2cbc81b83\" class=\"sk-toggleable__label sk-toggleable__label-arrow\">Pipeline</label><div class=\"sk-toggleable__content\"><pre>Pipeline(steps=[(&#x27;simpleimputer&#x27;, SimpleImputer(strategy=&#x27;most_frequent&#x27;)),\n",
       "                (&#x27;onehotencoder&#x27;, OneHotEncoder(drop=&#x27;first&#x27;))])</pre></div></div></div><div class=\"sk-serial\"><div class=\"sk-item\"><div class=\"sk-estimator sk-toggleable\"><input class=\"sk-toggleable__control sk-hidden--visually\" id=\"2df75ff7-24dd-4632-88ad-9a0440c7a256\" type=\"checkbox\" ><label for=\"2df75ff7-24dd-4632-88ad-9a0440c7a256\" class=\"sk-toggleable__label sk-toggleable__label-arrow\">SimpleImputer</label><div class=\"sk-toggleable__content\"><pre>SimpleImputer(strategy=&#x27;most_frequent&#x27;)</pre></div></div></div><div class=\"sk-item\"><div class=\"sk-estimator sk-toggleable\"><input class=\"sk-toggleable__control sk-hidden--visually\" id=\"cb57626c-e7e2-4527-a0e8-c2ff66d8e19e\" type=\"checkbox\" ><label for=\"cb57626c-e7e2-4527-a0e8-c2ff66d8e19e\" class=\"sk-toggleable__label sk-toggleable__label-arrow\">OneHotEncoder</label><div class=\"sk-toggleable__content\"><pre>OneHotEncoder(drop=&#x27;first&#x27;)</pre></div></div></div></div></div></div></div>"
      ],
      "text/plain": [
       "Pipeline(steps=[('simpleimputer', SimpleImputer(strategy='most_frequent')),\n",
       "                ('onehotencoder', OneHotEncoder(drop='first'))])"
      ]
     },
     "execution_count": 43,
     "metadata": {},
     "output_type": "execute_result"
    }
   ],
   "source": [
    "# create a pipeline with one step as onehotencoder\n",
    "cat_transformer = make_pipeline(SimpleImputer(strategy = \"most_frequent\"),OneHotEncoder(drop = \"first\")) \n",
    "cat_transformer"
   ]
  },
  {
   "cell_type": "markdown",
   "id": "c5fcf1cf",
   "metadata": {
    "papermill": {
     "duration": 0.037068,
     "end_time": "2023-02-13T10:29:47.009267",
     "exception": false,
     "start_time": "2023-02-13T10:29:46.972199",
     "status": "completed"
    },
    "tags": []
   },
   "source": [
    "<br>**6.c.iii.** iii. Create a column transformer object to transform both the numeric and categorical features in parallel.\n",
    "\n",
    "*Click [here](#toc) to go back to **Table of Contents**.*"
   ]
  },
  {
   "cell_type": "code",
   "execution_count": 44,
   "id": "2cd24bc4",
   "metadata": {
    "execution": {
     "iopub.execute_input": "2023-02-13T10:29:47.077252Z",
     "iopub.status.busy": "2023-02-13T10:29:47.076880Z",
     "iopub.status.idle": "2023-02-13T10:29:47.118423Z",
     "shell.execute_reply": "2023-02-13T10:29:47.117333Z"
    },
    "papermill": {
     "duration": 0.077931,
     "end_time": "2023-02-13T10:29:47.120729",
     "exception": false,
     "start_time": "2023-02-13T10:29:47.042798",
     "status": "completed"
    },
    "tags": []
   },
   "outputs": [
    {
     "data": {
      "text/html": [
       "<style>#sk-2368151e-e4e4-4990-8336-1253063e08ab {color: black;background-color: white;}#sk-2368151e-e4e4-4990-8336-1253063e08ab pre{padding: 0;}#sk-2368151e-e4e4-4990-8336-1253063e08ab div.sk-toggleable {background-color: white;}#sk-2368151e-e4e4-4990-8336-1253063e08ab label.sk-toggleable__label {cursor: pointer;display: block;width: 100%;margin-bottom: 0;padding: 0.3em;box-sizing: border-box;text-align: center;}#sk-2368151e-e4e4-4990-8336-1253063e08ab label.sk-toggleable__label-arrow:before {content: \"▸\";float: left;margin-right: 0.25em;color: #696969;}#sk-2368151e-e4e4-4990-8336-1253063e08ab label.sk-toggleable__label-arrow:hover:before {color: black;}#sk-2368151e-e4e4-4990-8336-1253063e08ab div.sk-estimator:hover label.sk-toggleable__label-arrow:before {color: black;}#sk-2368151e-e4e4-4990-8336-1253063e08ab div.sk-toggleable__content {max-height: 0;max-width: 0;overflow: hidden;text-align: left;background-color: #f0f8ff;}#sk-2368151e-e4e4-4990-8336-1253063e08ab div.sk-toggleable__content pre {margin: 0.2em;color: black;border-radius: 0.25em;background-color: #f0f8ff;}#sk-2368151e-e4e4-4990-8336-1253063e08ab input.sk-toggleable__control:checked~div.sk-toggleable__content {max-height: 200px;max-width: 100%;overflow: auto;}#sk-2368151e-e4e4-4990-8336-1253063e08ab input.sk-toggleable__control:checked~label.sk-toggleable__label-arrow:before {content: \"▾\";}#sk-2368151e-e4e4-4990-8336-1253063e08ab div.sk-estimator input.sk-toggleable__control:checked~label.sk-toggleable__label {background-color: #d4ebff;}#sk-2368151e-e4e4-4990-8336-1253063e08ab div.sk-label input.sk-toggleable__control:checked~label.sk-toggleable__label {background-color: #d4ebff;}#sk-2368151e-e4e4-4990-8336-1253063e08ab input.sk-hidden--visually {border: 0;clip: rect(1px 1px 1px 1px);clip: rect(1px, 1px, 1px, 1px);height: 1px;margin: -1px;overflow: hidden;padding: 0;position: absolute;width: 1px;}#sk-2368151e-e4e4-4990-8336-1253063e08ab div.sk-estimator {font-family: monospace;background-color: #f0f8ff;border: 1px dotted black;border-radius: 0.25em;box-sizing: border-box;margin-bottom: 0.5em;}#sk-2368151e-e4e4-4990-8336-1253063e08ab div.sk-estimator:hover {background-color: #d4ebff;}#sk-2368151e-e4e4-4990-8336-1253063e08ab div.sk-parallel-item::after {content: \"\";width: 100%;border-bottom: 1px solid gray;flex-grow: 1;}#sk-2368151e-e4e4-4990-8336-1253063e08ab div.sk-label:hover label.sk-toggleable__label {background-color: #d4ebff;}#sk-2368151e-e4e4-4990-8336-1253063e08ab div.sk-serial::before {content: \"\";position: absolute;border-left: 1px solid gray;box-sizing: border-box;top: 2em;bottom: 0;left: 50%;}#sk-2368151e-e4e4-4990-8336-1253063e08ab div.sk-serial {display: flex;flex-direction: column;align-items: center;background-color: white;padding-right: 0.2em;padding-left: 0.2em;}#sk-2368151e-e4e4-4990-8336-1253063e08ab div.sk-item {z-index: 1;}#sk-2368151e-e4e4-4990-8336-1253063e08ab div.sk-parallel {display: flex;align-items: stretch;justify-content: center;background-color: white;}#sk-2368151e-e4e4-4990-8336-1253063e08ab div.sk-parallel::before {content: \"\";position: absolute;border-left: 1px solid gray;box-sizing: border-box;top: 2em;bottom: 0;left: 50%;}#sk-2368151e-e4e4-4990-8336-1253063e08ab div.sk-parallel-item {display: flex;flex-direction: column;position: relative;background-color: white;}#sk-2368151e-e4e4-4990-8336-1253063e08ab div.sk-parallel-item:first-child::after {align-self: flex-end;width: 50%;}#sk-2368151e-e4e4-4990-8336-1253063e08ab div.sk-parallel-item:last-child::after {align-self: flex-start;width: 50%;}#sk-2368151e-e4e4-4990-8336-1253063e08ab div.sk-parallel-item:only-child::after {width: 0;}#sk-2368151e-e4e4-4990-8336-1253063e08ab div.sk-dashed-wrapped {border: 1px dashed gray;margin: 0 0.4em 0.5em 0.4em;box-sizing: border-box;padding-bottom: 0.4em;background-color: white;position: relative;}#sk-2368151e-e4e4-4990-8336-1253063e08ab div.sk-label label {font-family: monospace;font-weight: bold;background-color: white;display: inline-block;line-height: 1.2em;}#sk-2368151e-e4e4-4990-8336-1253063e08ab div.sk-label-container {position: relative;z-index: 2;text-align: center;}#sk-2368151e-e4e4-4990-8336-1253063e08ab div.sk-container {/* jupyter's `normalize.less` sets `[hidden] { display: none; }` but bootstrap.min.css set `[hidden] { display: none !important; }` so we also need the `!important` here to be able to override the default hidden behavior on the sphinx rendered scikit-learn.org. See: https://github.com/scikit-learn/scikit-learn/issues/21755 */display: inline-block !important;position: relative;}#sk-2368151e-e4e4-4990-8336-1253063e08ab div.sk-text-repr-fallback {display: none;}</style><div id=\"sk-2368151e-e4e4-4990-8336-1253063e08ab\" class=\"sk-top-container\"><div class=\"sk-text-repr-fallback\"><pre>ColumnTransformer(transformers=[(&#x27;numtransformer&#x27;,\n",
       "                                 Pipeline(steps=[(&#x27;simpleimputer&#x27;,\n",
       "                                                  SimpleImputer()),\n",
       "                                                 (&#x27;minmaxscaler&#x27;,\n",
       "                                                  MinMaxScaler())]),\n",
       "                                 Index([&#x27;amount&#x27;], dtype=&#x27;object&#x27;)),\n",
       "                                (&#x27;cattransformer&#x27;,\n",
       "                                 Pipeline(steps=[(&#x27;simpleimputer&#x27;,\n",
       "                                                  SimpleImputer(strategy=&#x27;most_frequent&#x27;)),\n",
       "                                                 (&#x27;onehotencoder&#x27;,\n",
       "                                                  OneHotEncoder(drop=&#x27;first&#x27;))]),\n",
       "                                 Index([&#x27;fulfilment&#x27;, &#x27;shipservicelevel&#x27;, &#x27;category&#x27;, &#x27;size&#x27;, &#x27;b2b&#x27;, &#x27;region&#x27;], dtype=&#x27;object&#x27;))])</pre><b>Please rerun this cell to show the HTML repr or trust the notebook.</b></div><div class=\"sk-container\" hidden><div class=\"sk-item sk-dashed-wrapped\"><div class=\"sk-label-container\"><div class=\"sk-label sk-toggleable\"><input class=\"sk-toggleable__control sk-hidden--visually\" id=\"7ba6c4fb-48d4-4f23-80f8-515d3379b7fc\" type=\"checkbox\" ><label for=\"7ba6c4fb-48d4-4f23-80f8-515d3379b7fc\" class=\"sk-toggleable__label sk-toggleable__label-arrow\">ColumnTransformer</label><div class=\"sk-toggleable__content\"><pre>ColumnTransformer(transformers=[(&#x27;numtransformer&#x27;,\n",
       "                                 Pipeline(steps=[(&#x27;simpleimputer&#x27;,\n",
       "                                                  SimpleImputer()),\n",
       "                                                 (&#x27;minmaxscaler&#x27;,\n",
       "                                                  MinMaxScaler())]),\n",
       "                                 Index([&#x27;amount&#x27;], dtype=&#x27;object&#x27;)),\n",
       "                                (&#x27;cattransformer&#x27;,\n",
       "                                 Pipeline(steps=[(&#x27;simpleimputer&#x27;,\n",
       "                                                  SimpleImputer(strategy=&#x27;most_frequent&#x27;)),\n",
       "                                                 (&#x27;onehotencoder&#x27;,\n",
       "                                                  OneHotEncoder(drop=&#x27;first&#x27;))]),\n",
       "                                 Index([&#x27;fulfilment&#x27;, &#x27;shipservicelevel&#x27;, &#x27;category&#x27;, &#x27;size&#x27;, &#x27;b2b&#x27;, &#x27;region&#x27;], dtype=&#x27;object&#x27;))])</pre></div></div></div><div class=\"sk-parallel\"><div class=\"sk-parallel-item\"><div class=\"sk-item\"><div class=\"sk-label-container\"><div class=\"sk-label sk-toggleable\"><input class=\"sk-toggleable__control sk-hidden--visually\" id=\"295e8d27-16d4-413f-bdd8-7cf29facca9c\" type=\"checkbox\" ><label for=\"295e8d27-16d4-413f-bdd8-7cf29facca9c\" class=\"sk-toggleable__label sk-toggleable__label-arrow\">numtransformer</label><div class=\"sk-toggleable__content\"><pre>Index([&#x27;amount&#x27;], dtype=&#x27;object&#x27;)</pre></div></div></div><div class=\"sk-serial\"><div class=\"sk-item\"><div class=\"sk-serial\"><div class=\"sk-item\"><div class=\"sk-estimator sk-toggleable\"><input class=\"sk-toggleable__control sk-hidden--visually\" id=\"1392dc2d-60dd-4ca0-aadd-a45552fcbd0e\" type=\"checkbox\" ><label for=\"1392dc2d-60dd-4ca0-aadd-a45552fcbd0e\" class=\"sk-toggleable__label sk-toggleable__label-arrow\">SimpleImputer</label><div class=\"sk-toggleable__content\"><pre>SimpleImputer()</pre></div></div></div><div class=\"sk-item\"><div class=\"sk-estimator sk-toggleable\"><input class=\"sk-toggleable__control sk-hidden--visually\" id=\"ff7bcd83-bf4b-4ffe-aa45-d0ab9c4f9bf5\" type=\"checkbox\" ><label for=\"ff7bcd83-bf4b-4ffe-aa45-d0ab9c4f9bf5\" class=\"sk-toggleable__label sk-toggleable__label-arrow\">MinMaxScaler</label><div class=\"sk-toggleable__content\"><pre>MinMaxScaler()</pre></div></div></div></div></div></div></div></div><div class=\"sk-parallel-item\"><div class=\"sk-item\"><div class=\"sk-label-container\"><div class=\"sk-label sk-toggleable\"><input class=\"sk-toggleable__control sk-hidden--visually\" id=\"fde2b392-8182-4626-93d4-2e8b5ff0535d\" type=\"checkbox\" ><label for=\"fde2b392-8182-4626-93d4-2e8b5ff0535d\" class=\"sk-toggleable__label sk-toggleable__label-arrow\">cattransformer</label><div class=\"sk-toggleable__content\"><pre>Index([&#x27;fulfilment&#x27;, &#x27;shipservicelevel&#x27;, &#x27;category&#x27;, &#x27;size&#x27;, &#x27;b2b&#x27;, &#x27;region&#x27;], dtype=&#x27;object&#x27;)</pre></div></div></div><div class=\"sk-serial\"><div class=\"sk-item\"><div class=\"sk-serial\"><div class=\"sk-item\"><div class=\"sk-estimator sk-toggleable\"><input class=\"sk-toggleable__control sk-hidden--visually\" id=\"a2cfb70c-49b7-40e2-ad15-4aefa9dab42f\" type=\"checkbox\" ><label for=\"a2cfb70c-49b7-40e2-ad15-4aefa9dab42f\" class=\"sk-toggleable__label sk-toggleable__label-arrow\">SimpleImputer</label><div class=\"sk-toggleable__content\"><pre>SimpleImputer(strategy=&#x27;most_frequent&#x27;)</pre></div></div></div><div class=\"sk-item\"><div class=\"sk-estimator sk-toggleable\"><input class=\"sk-toggleable__control sk-hidden--visually\" id=\"0e51b53c-5e8f-438d-a91a-c68491b3e220\" type=\"checkbox\" ><label for=\"0e51b53c-5e8f-438d-a91a-c68491b3e220\" class=\"sk-toggleable__label sk-toggleable__label-arrow\">OneHotEncoder</label><div class=\"sk-toggleable__content\"><pre>OneHotEncoder(drop=&#x27;first&#x27;)</pre></div></div></div></div></div></div></div></div></div></div></div></div>"
      ],
      "text/plain": [
       "ColumnTransformer(transformers=[('numtransformer',\n",
       "                                 Pipeline(steps=[('simpleimputer',\n",
       "                                                  SimpleImputer()),\n",
       "                                                 ('minmaxscaler',\n",
       "                                                  MinMaxScaler())]),\n",
       "                                 Index(['amount'], dtype='object')),\n",
       "                                ('cattransformer',\n",
       "                                 Pipeline(steps=[('simpleimputer',\n",
       "                                                  SimpleImputer(strategy='most_frequent')),\n",
       "                                                 ('onehotencoder',\n",
       "                                                  OneHotEncoder(drop='first'))]),\n",
       "                                 Index(['fulfilment', 'shipservicelevel', 'category', 'size', 'b2b', 'region'], dtype='object'))])"
      ]
     },
     "execution_count": 44,
     "metadata": {},
     "output_type": "execute_result"
    }
   ],
   "source": [
    "# create a columntransformer with num_transformer and \n",
    "# cat_transformer as its elements\n",
    "col_transformer = ColumnTransformer(\n",
    "    [\n",
    "        (\"numtransformer\",num_transformer,\n",
    "         X_train_over.select_dtypes(exclude = \"object\").columns),\n",
    "        (\"cattransformer\",cat_transformer,X_train_over.select_dtypes(include = \"object\").columns)\n",
    "    ]\n",
    ")\n",
    "col_transformer"
   ]
  },
  {
   "cell_type": "markdown",
   "id": "9c5f8232",
   "metadata": {
    "papermill": {
     "duration": 0.031489,
     "end_time": "2023-02-13T10:29:47.185255",
     "exception": false,
     "start_time": "2023-02-13T10:29:47.153766",
     "status": "completed"
    },
    "tags": []
   },
   "source": [
    "<a id = \"models\"></a>\n",
    "#### **7. CLASSIFICATION MODELS FOR PREDICTION**\n",
    "We shall make classification prediction using three models based on:\n",
    "<br>&emsp;a. **Logistic Regression Classifier**\n",
    "<br>&emsp;b. **Random Forest classifier**  \n",
    "* The idea is to **evaluate performances** of **both the predictors** and also, look for  **similarities among them** with regard to **important features**\n",
    "\n",
    "*Click [here](#toc) to go back to **Table of Contents**.*"
   ]
  },
  {
   "cell_type": "markdown",
   "id": "7036bb2c",
   "metadata": {
    "papermill": {
     "duration": 0.030964,
     "end_time": "2023-02-13T10:29:47.247475",
     "exception": false,
     "start_time": "2023-02-13T10:29:47.216511",
     "status": "completed"
    },
    "tags": []
   },
   "source": [
    "<a id = \"logisticregression\"></a>\n",
    "##### **7.a. Logistic Regression Classifier**\n",
    "<a id = \"logistic_model\"></a>\n",
    "**7.a.i.** Define an instance of logistic regression estimator using pipeline and fit the model.\n",
    "\n",
    "*Click [here](#toc) to go back to **Table of Contents**.*"
   ]
  },
  {
   "cell_type": "code",
   "execution_count": 45,
   "id": "36c55467",
   "metadata": {
    "execution": {
     "iopub.execute_input": "2023-02-13T10:29:47.312944Z",
     "iopub.status.busy": "2023-02-13T10:29:47.312586Z",
     "iopub.status.idle": "2023-02-13T10:29:47.958891Z",
     "shell.execute_reply": "2023-02-13T10:29:47.957887Z"
    },
    "papermill": {
     "duration": 0.681946,
     "end_time": "2023-02-13T10:29:47.961251",
     "exception": false,
     "start_time": "2023-02-13T10:29:47.279305",
     "status": "completed"
    },
    "tags": []
   },
   "outputs": [
    {
     "data": {
      "text/html": [
       "<style>#sk-91262dd6-4d5d-402c-9e7a-5f96d840efbc {color: black;background-color: white;}#sk-91262dd6-4d5d-402c-9e7a-5f96d840efbc pre{padding: 0;}#sk-91262dd6-4d5d-402c-9e7a-5f96d840efbc div.sk-toggleable {background-color: white;}#sk-91262dd6-4d5d-402c-9e7a-5f96d840efbc label.sk-toggleable__label {cursor: pointer;display: block;width: 100%;margin-bottom: 0;padding: 0.3em;box-sizing: border-box;text-align: center;}#sk-91262dd6-4d5d-402c-9e7a-5f96d840efbc label.sk-toggleable__label-arrow:before {content: \"▸\";float: left;margin-right: 0.25em;color: #696969;}#sk-91262dd6-4d5d-402c-9e7a-5f96d840efbc label.sk-toggleable__label-arrow:hover:before {color: black;}#sk-91262dd6-4d5d-402c-9e7a-5f96d840efbc div.sk-estimator:hover label.sk-toggleable__label-arrow:before {color: black;}#sk-91262dd6-4d5d-402c-9e7a-5f96d840efbc div.sk-toggleable__content {max-height: 0;max-width: 0;overflow: hidden;text-align: left;background-color: #f0f8ff;}#sk-91262dd6-4d5d-402c-9e7a-5f96d840efbc div.sk-toggleable__content pre {margin: 0.2em;color: black;border-radius: 0.25em;background-color: #f0f8ff;}#sk-91262dd6-4d5d-402c-9e7a-5f96d840efbc input.sk-toggleable__control:checked~div.sk-toggleable__content {max-height: 200px;max-width: 100%;overflow: auto;}#sk-91262dd6-4d5d-402c-9e7a-5f96d840efbc input.sk-toggleable__control:checked~label.sk-toggleable__label-arrow:before {content: \"▾\";}#sk-91262dd6-4d5d-402c-9e7a-5f96d840efbc div.sk-estimator input.sk-toggleable__control:checked~label.sk-toggleable__label {background-color: #d4ebff;}#sk-91262dd6-4d5d-402c-9e7a-5f96d840efbc div.sk-label input.sk-toggleable__control:checked~label.sk-toggleable__label {background-color: #d4ebff;}#sk-91262dd6-4d5d-402c-9e7a-5f96d840efbc input.sk-hidden--visually {border: 0;clip: rect(1px 1px 1px 1px);clip: rect(1px, 1px, 1px, 1px);height: 1px;margin: -1px;overflow: hidden;padding: 0;position: absolute;width: 1px;}#sk-91262dd6-4d5d-402c-9e7a-5f96d840efbc div.sk-estimator {font-family: monospace;background-color: #f0f8ff;border: 1px dotted black;border-radius: 0.25em;box-sizing: border-box;margin-bottom: 0.5em;}#sk-91262dd6-4d5d-402c-9e7a-5f96d840efbc div.sk-estimator:hover {background-color: #d4ebff;}#sk-91262dd6-4d5d-402c-9e7a-5f96d840efbc div.sk-parallel-item::after {content: \"\";width: 100%;border-bottom: 1px solid gray;flex-grow: 1;}#sk-91262dd6-4d5d-402c-9e7a-5f96d840efbc div.sk-label:hover label.sk-toggleable__label {background-color: #d4ebff;}#sk-91262dd6-4d5d-402c-9e7a-5f96d840efbc div.sk-serial::before {content: \"\";position: absolute;border-left: 1px solid gray;box-sizing: border-box;top: 2em;bottom: 0;left: 50%;}#sk-91262dd6-4d5d-402c-9e7a-5f96d840efbc div.sk-serial {display: flex;flex-direction: column;align-items: center;background-color: white;padding-right: 0.2em;padding-left: 0.2em;}#sk-91262dd6-4d5d-402c-9e7a-5f96d840efbc div.sk-item {z-index: 1;}#sk-91262dd6-4d5d-402c-9e7a-5f96d840efbc div.sk-parallel {display: flex;align-items: stretch;justify-content: center;background-color: white;}#sk-91262dd6-4d5d-402c-9e7a-5f96d840efbc div.sk-parallel::before {content: \"\";position: absolute;border-left: 1px solid gray;box-sizing: border-box;top: 2em;bottom: 0;left: 50%;}#sk-91262dd6-4d5d-402c-9e7a-5f96d840efbc div.sk-parallel-item {display: flex;flex-direction: column;position: relative;background-color: white;}#sk-91262dd6-4d5d-402c-9e7a-5f96d840efbc div.sk-parallel-item:first-child::after {align-self: flex-end;width: 50%;}#sk-91262dd6-4d5d-402c-9e7a-5f96d840efbc div.sk-parallel-item:last-child::after {align-self: flex-start;width: 50%;}#sk-91262dd6-4d5d-402c-9e7a-5f96d840efbc div.sk-parallel-item:only-child::after {width: 0;}#sk-91262dd6-4d5d-402c-9e7a-5f96d840efbc div.sk-dashed-wrapped {border: 1px dashed gray;margin: 0 0.4em 0.5em 0.4em;box-sizing: border-box;padding-bottom: 0.4em;background-color: white;position: relative;}#sk-91262dd6-4d5d-402c-9e7a-5f96d840efbc div.sk-label label {font-family: monospace;font-weight: bold;background-color: white;display: inline-block;line-height: 1.2em;}#sk-91262dd6-4d5d-402c-9e7a-5f96d840efbc div.sk-label-container {position: relative;z-index: 2;text-align: center;}#sk-91262dd6-4d5d-402c-9e7a-5f96d840efbc div.sk-container {/* jupyter's `normalize.less` sets `[hidden] { display: none; }` but bootstrap.min.css set `[hidden] { display: none !important; }` so we also need the `!important` here to be able to override the default hidden behavior on the sphinx rendered scikit-learn.org. See: https://github.com/scikit-learn/scikit-learn/issues/21755 */display: inline-block !important;position: relative;}#sk-91262dd6-4d5d-402c-9e7a-5f96d840efbc div.sk-text-repr-fallback {display: none;}</style><div id=\"sk-91262dd6-4d5d-402c-9e7a-5f96d840efbc\" class=\"sk-top-container\"><div class=\"sk-text-repr-fallback\"><pre>Pipeline(steps=[(&#x27;columntransformer&#x27;,\n",
       "                 ColumnTransformer(transformers=[(&#x27;numtransformer&#x27;,\n",
       "                                                  Pipeline(steps=[(&#x27;simpleimputer&#x27;,\n",
       "                                                                   SimpleImputer()),\n",
       "                                                                  (&#x27;minmaxscaler&#x27;,\n",
       "                                                                   MinMaxScaler())]),\n",
       "                                                  Index([&#x27;amount&#x27;], dtype=&#x27;object&#x27;)),\n",
       "                                                 (&#x27;cattransformer&#x27;,\n",
       "                                                  Pipeline(steps=[(&#x27;simpleimputer&#x27;,\n",
       "                                                                   SimpleImputer(strategy=&#x27;most_frequent&#x27;)),\n",
       "                                                                  (&#x27;onehotencoder&#x27;,\n",
       "                                                                   OneHotEncoder(drop=&#x27;first&#x27;))]),\n",
       "                                                  Index([&#x27;fulfilment&#x27;, &#x27;shipservicelevel&#x27;, &#x27;category&#x27;, &#x27;size&#x27;, &#x27;b2b&#x27;, &#x27;region&#x27;], dtype=&#x27;object&#x27;))])),\n",
       "                (&#x27;logisticregression&#x27;,\n",
       "                 LogisticRegression(max_iter=1000, random_state=42))])</pre><b>Please rerun this cell to show the HTML repr or trust the notebook.</b></div><div class=\"sk-container\" hidden><div class=\"sk-item sk-dashed-wrapped\"><div class=\"sk-label-container\"><div class=\"sk-label sk-toggleable\"><input class=\"sk-toggleable__control sk-hidden--visually\" id=\"2bbfb124-de58-42e6-bd9e-77e9a5eabe75\" type=\"checkbox\" ><label for=\"2bbfb124-de58-42e6-bd9e-77e9a5eabe75\" class=\"sk-toggleable__label sk-toggleable__label-arrow\">Pipeline</label><div class=\"sk-toggleable__content\"><pre>Pipeline(steps=[(&#x27;columntransformer&#x27;,\n",
       "                 ColumnTransformer(transformers=[(&#x27;numtransformer&#x27;,\n",
       "                                                  Pipeline(steps=[(&#x27;simpleimputer&#x27;,\n",
       "                                                                   SimpleImputer()),\n",
       "                                                                  (&#x27;minmaxscaler&#x27;,\n",
       "                                                                   MinMaxScaler())]),\n",
       "                                                  Index([&#x27;amount&#x27;], dtype=&#x27;object&#x27;)),\n",
       "                                                 (&#x27;cattransformer&#x27;,\n",
       "                                                  Pipeline(steps=[(&#x27;simpleimputer&#x27;,\n",
       "                                                                   SimpleImputer(strategy=&#x27;most_frequent&#x27;)),\n",
       "                                                                  (&#x27;onehotencoder&#x27;,\n",
       "                                                                   OneHotEncoder(drop=&#x27;first&#x27;))]),\n",
       "                                                  Index([&#x27;fulfilment&#x27;, &#x27;shipservicelevel&#x27;, &#x27;category&#x27;, &#x27;size&#x27;, &#x27;b2b&#x27;, &#x27;region&#x27;], dtype=&#x27;object&#x27;))])),\n",
       "                (&#x27;logisticregression&#x27;,\n",
       "                 LogisticRegression(max_iter=1000, random_state=42))])</pre></div></div></div><div class=\"sk-serial\"><div class=\"sk-item sk-dashed-wrapped\"><div class=\"sk-label-container\"><div class=\"sk-label sk-toggleable\"><input class=\"sk-toggleable__control sk-hidden--visually\" id=\"7e61c3aa-e0bc-46aa-a04c-098111cf0f82\" type=\"checkbox\" ><label for=\"7e61c3aa-e0bc-46aa-a04c-098111cf0f82\" class=\"sk-toggleable__label sk-toggleable__label-arrow\">columntransformer: ColumnTransformer</label><div class=\"sk-toggleable__content\"><pre>ColumnTransformer(transformers=[(&#x27;numtransformer&#x27;,\n",
       "                                 Pipeline(steps=[(&#x27;simpleimputer&#x27;,\n",
       "                                                  SimpleImputer()),\n",
       "                                                 (&#x27;minmaxscaler&#x27;,\n",
       "                                                  MinMaxScaler())]),\n",
       "                                 Index([&#x27;amount&#x27;], dtype=&#x27;object&#x27;)),\n",
       "                                (&#x27;cattransformer&#x27;,\n",
       "                                 Pipeline(steps=[(&#x27;simpleimputer&#x27;,\n",
       "                                                  SimpleImputer(strategy=&#x27;most_frequent&#x27;)),\n",
       "                                                 (&#x27;onehotencoder&#x27;,\n",
       "                                                  OneHotEncoder(drop=&#x27;first&#x27;))]),\n",
       "                                 Index([&#x27;fulfilment&#x27;, &#x27;shipservicelevel&#x27;, &#x27;category&#x27;, &#x27;size&#x27;, &#x27;b2b&#x27;, &#x27;region&#x27;], dtype=&#x27;object&#x27;))])</pre></div></div></div><div class=\"sk-parallel\"><div class=\"sk-parallel-item\"><div class=\"sk-item\"><div class=\"sk-label-container\"><div class=\"sk-label sk-toggleable\"><input class=\"sk-toggleable__control sk-hidden--visually\" id=\"38e372fd-aeea-4743-82a0-1206a8033402\" type=\"checkbox\" ><label for=\"38e372fd-aeea-4743-82a0-1206a8033402\" class=\"sk-toggleable__label sk-toggleable__label-arrow\">numtransformer</label><div class=\"sk-toggleable__content\"><pre>Index([&#x27;amount&#x27;], dtype=&#x27;object&#x27;)</pre></div></div></div><div class=\"sk-serial\"><div class=\"sk-item\"><div class=\"sk-serial\"><div class=\"sk-item\"><div class=\"sk-estimator sk-toggleable\"><input class=\"sk-toggleable__control sk-hidden--visually\" id=\"6b162c08-380c-47d7-acf2-e5874f90f159\" type=\"checkbox\" ><label for=\"6b162c08-380c-47d7-acf2-e5874f90f159\" class=\"sk-toggleable__label sk-toggleable__label-arrow\">SimpleImputer</label><div class=\"sk-toggleable__content\"><pre>SimpleImputer()</pre></div></div></div><div class=\"sk-item\"><div class=\"sk-estimator sk-toggleable\"><input class=\"sk-toggleable__control sk-hidden--visually\" id=\"9dc329da-bf38-4b78-a3ce-ab4f809b8a07\" type=\"checkbox\" ><label for=\"9dc329da-bf38-4b78-a3ce-ab4f809b8a07\" class=\"sk-toggleable__label sk-toggleable__label-arrow\">MinMaxScaler</label><div class=\"sk-toggleable__content\"><pre>MinMaxScaler()</pre></div></div></div></div></div></div></div></div><div class=\"sk-parallel-item\"><div class=\"sk-item\"><div class=\"sk-label-container\"><div class=\"sk-label sk-toggleable\"><input class=\"sk-toggleable__control sk-hidden--visually\" id=\"bdf804b4-329c-48fe-9597-2c739ee6687d\" type=\"checkbox\" ><label for=\"bdf804b4-329c-48fe-9597-2c739ee6687d\" class=\"sk-toggleable__label sk-toggleable__label-arrow\">cattransformer</label><div class=\"sk-toggleable__content\"><pre>Index([&#x27;fulfilment&#x27;, &#x27;shipservicelevel&#x27;, &#x27;category&#x27;, &#x27;size&#x27;, &#x27;b2b&#x27;, &#x27;region&#x27;], dtype=&#x27;object&#x27;)</pre></div></div></div><div class=\"sk-serial\"><div class=\"sk-item\"><div class=\"sk-serial\"><div class=\"sk-item\"><div class=\"sk-estimator sk-toggleable\"><input class=\"sk-toggleable__control sk-hidden--visually\" id=\"3da44197-25a3-4f3f-880a-75219e8c27ce\" type=\"checkbox\" ><label for=\"3da44197-25a3-4f3f-880a-75219e8c27ce\" class=\"sk-toggleable__label sk-toggleable__label-arrow\">SimpleImputer</label><div class=\"sk-toggleable__content\"><pre>SimpleImputer(strategy=&#x27;most_frequent&#x27;)</pre></div></div></div><div class=\"sk-item\"><div class=\"sk-estimator sk-toggleable\"><input class=\"sk-toggleable__control sk-hidden--visually\" id=\"b78d526c-8c15-4698-9d81-91cc39600d82\" type=\"checkbox\" ><label for=\"b78d526c-8c15-4698-9d81-91cc39600d82\" class=\"sk-toggleable__label sk-toggleable__label-arrow\">OneHotEncoder</label><div class=\"sk-toggleable__content\"><pre>OneHotEncoder(drop=&#x27;first&#x27;)</pre></div></div></div></div></div></div></div></div></div></div><div class=\"sk-item\"><div class=\"sk-estimator sk-toggleable\"><input class=\"sk-toggleable__control sk-hidden--visually\" id=\"3a532ca7-1a9b-4b7c-b865-0daa02465410\" type=\"checkbox\" ><label for=\"3a532ca7-1a9b-4b7c-b865-0daa02465410\" class=\"sk-toggleable__label sk-toggleable__label-arrow\">LogisticRegression</label><div class=\"sk-toggleable__content\"><pre>LogisticRegression(max_iter=1000, random_state=42)</pre></div></div></div></div></div></div></div>"
      ],
      "text/plain": [
       "Pipeline(steps=[('columntransformer',\n",
       "                 ColumnTransformer(transformers=[('numtransformer',\n",
       "                                                  Pipeline(steps=[('simpleimputer',\n",
       "                                                                   SimpleImputer()),\n",
       "                                                                  ('minmaxscaler',\n",
       "                                                                   MinMaxScaler())]),\n",
       "                                                  Index(['amount'], dtype='object')),\n",
       "                                                 ('cattransformer',\n",
       "                                                  Pipeline(steps=[('simpleimputer',\n",
       "                                                                   SimpleImputer(strategy='most_frequent')),\n",
       "                                                                  ('onehotencoder',\n",
       "                                                                   OneHotEncoder(drop='first'))]),\n",
       "                                                  Index(['fulfilment', 'shipservicelevel', 'category', 'size', 'b2b', 'region'], dtype='object'))])),\n",
       "                ('logisticregression',\n",
       "                 LogisticRegression(max_iter=1000, random_state=42))])"
      ]
     },
     "execution_count": 45,
     "metadata": {},
     "output_type": "execute_result"
    }
   ],
   "source": [
    "# define an instance for logistic regression estimator using pipeline \n",
    "logistic_model = make_pipeline(\n",
    "    col_transformer,\n",
    "    LogisticRegression(random_state = 42, max_iter = 1000)\n",
    ")\n",
    "\n",
    "# fit the model on resampled training datasets\n",
    "logistic_model.fit(X_train_over,y_train_over)"
   ]
  },
  {
   "cell_type": "markdown",
   "id": "2f144fb4",
   "metadata": {
    "papermill": {
     "duration": 0.042391,
     "end_time": "2023-02-13T10:29:48.042049",
     "exception": false,
     "start_time": "2023-02-13T10:29:47.999658",
     "status": "completed"
    },
    "tags": []
   },
   "source": [
    "<a id = \"prediction_training_logistic\"></a> <br>\n",
    "<br>**7.a.ii. Prediction and Performance - TRAINING DATASET**\n",
    "* Prediction with, and performance of, **Logistic Regression Classifier** of the **Training Dataset**\n",
    "\n",
    "*Click [here](#toc) to go back to **Table of Contents**.*"
   ]
  },
  {
   "cell_type": "code",
   "execution_count": 46,
   "id": "84b4f8b4",
   "metadata": {
    "execution": {
     "iopub.execute_input": "2023-02-13T10:29:48.106829Z",
     "iopub.status.busy": "2023-02-13T10:29:48.106405Z",
     "iopub.status.idle": "2023-02-13T10:29:48.568517Z",
     "shell.execute_reply": "2023-02-13T10:29:48.567472Z"
    },
    "papermill": {
     "duration": 0.498557,
     "end_time": "2023-02-13T10:29:48.572419",
     "exception": false,
     "start_time": "2023-02-13T10:29:48.073862",
     "status": "completed"
    },
    "tags": []
   },
   "outputs": [
    {
     "data": {
      "image/png": "[encoded data removed]",
      "text/plain": [
       "<Figure size 360x360 with 1 Axes>"
      ]
     },
     "metadata": {
      "needs_background": "light"
     },
     "output_type": "display_data"
    },
    {
     "name": "stdout",
     "output_type": "stream",
     "text": [
      "ACCURACY SCORE (Training) : 78.26%\n",
      "PRECISION SCORE (Training):  100.0 %\n",
      "RECALL SCORE (Training):  56.52 %\n"
     ]
    }
   ],
   "source": [
    "# predict the target from X_train_over features\n",
    "y_train_over_pred_lr = logistic_model.predict(X_train_over)\n",
    "confusion_train_lr = confusion_matrix(y_train_over,y_train_over_pred_lr)\n",
    "\n",
    "# plot Confusion matrix\n",
    "# set display back to matplotlib\n",
    "sns.reset_orig()\n",
    "\n",
    "fig,ax = plt.subplots(figsize = (5,5))\n",
    "ConfusionMatrixDisplay.from_estimator(logistic_model,X_train_over,y_train_over,\n",
    "                                      ax = ax, colorbar=False)\n",
    "                        # (OR)\n",
    "# ConfusionMatrixDisplay.from_predictions(y_train_over,y_train_over_pred_lr,\n",
    "#                                        ax = ax, colorbar=False)\n",
    "plt.title(\"Confusion Matrix - Training Dataset\\n(Logistic Regression Classifier)\\n\",\n",
    "         fontsize = 14)\n",
    "plt.show()\n",
    "\n",
    "# Accuracy\n",
    "accuracy_train_lr = round(logistic_model.score(X_train_over,y_train_over)*100,2)\n",
    "print(f\"ACCURACY SCORE (Training) : {accuracy_train_lr}%\")\n",
    "\n",
    "# Precision\n",
    "precision_train_lr = round(confusion_train_lr[1,1]/(confusion_train_lr[1,1]+confusion_train_lr[0,1])*100,2)\n",
    "print(\"PRECISION SCORE (Training): \",precision_train_lr,\"%\")\n",
    "\n",
    "# Recall\n",
    "recall_train_lr = round(confusion_train_lr[1,1]/(confusion_train_lr[1,1]+confusion_train_lr[1,0])*100,2)\n",
    "print(\"RECALL SCORE (Training): \",recall_train_lr,\"%\")\n",
    "\n",
    "# setting seaborn display again (to be applied after this cell execution)\n",
    "sns.set()"
   ]
  },
  {
   "cell_type": "markdown",
   "id": "6c6edf66",
   "metadata": {
    "papermill": {
     "duration": 0.033145,
     "end_time": "2023-02-13T10:29:48.639389",
     "exception": false,
     "start_time": "2023-02-13T10:29:48.606244",
     "status": "completed"
    },
    "tags": []
   },
   "source": [
    "<a id = \"prediction_test_logistic\"></a> <br>\n",
    "<br>**7.a.iii. Prediction and Performance -  TEST DATASET**\n",
    "* Prediction with, and performance of, **Logistic Regression Classifier** of the **Test Dataset**\n",
    "\n",
    "*Click [here](#toc) to go back to **Table of Contents**.*"
   ]
  },
  {
   "cell_type": "code",
   "execution_count": 47,
   "id": "4c360efc",
   "metadata": {
    "execution": {
     "iopub.execute_input": "2023-02-13T10:29:48.706831Z",
     "iopub.status.busy": "2023-02-13T10:29:48.706128Z",
     "iopub.status.idle": "2023-02-13T10:29:48.947634Z",
     "shell.execute_reply": "2023-02-13T10:29:48.946192Z"
    },
    "papermill": {
     "duration": 0.277574,
     "end_time": "2023-02-13T10:29:48.950063",
     "exception": false,
     "start_time": "2023-02-13T10:29:48.672489",
     "status": "completed"
    },
    "tags": []
   },
   "outputs": [
    {
     "data": {
      "image/png": "[encoded data removed]",
      "text/plain": [
       "<Figure size 360x360 with 1 Axes>"
      ]
     },
     "metadata": {
      "needs_background": "light"
     },
     "output_type": "display_data"
    },
    {
     "name": "stdout",
     "output_type": "stream",
     "text": [
      "ACCURACY SCORE (Test) : 81.3%\n",
      "PRECISION SCORE (Test):  100.0 %\n",
      "RECALL SCORE (Test):  56.72 %\n"
     ]
    }
   ],
   "source": [
    "# predict the target from X_train_over features\n",
    "y_test_pred_lr = logistic_model.predict(X_test)\n",
    "confusion_test_lr = confusion_matrix(y_test,y_test_pred_lr)\n",
    "\n",
    "# plot Confusion matrix\n",
    "# set display back to matplotlib\n",
    "sns.reset_orig()\n",
    "\n",
    "fig,ax = plt.subplots(figsize = (5,5))\n",
    "ConfusionMatrixDisplay.from_estimator(logistic_model,X_test,y_test,\n",
    "                                      ax = ax, colorbar=False)\n",
    "                        # (OR)\n",
    "# ConfusionMatrixDisplay.from_predictions(y_train_over,y_train_over_pred,\n",
    "#                                        ax = ax, colorbar=False)\n",
    "plt.title(\"Confusion Matrix - Test Dataset\\n(Logistic Regression Classifier)\\n\",\n",
    "         fontsize = 14)\n",
    "plt.show()\n",
    "\n",
    "# Accuracy\n",
    "accuracy_test_lr = round(logistic_model.score(X_test,y_test)*100,2)\n",
    "print(f\"ACCURACY SCORE (Test) : {accuracy_test_lr}%\")\n",
    "\n",
    "# Precision\n",
    "precision_test_lr = round(confusion_test_lr[1,1]/(confusion_test_lr[1,1]+confusion_test_lr[0,1])*100,2)\n",
    "print(\"PRECISION SCORE (Test): \",precision_test_lr,\"%\")\n",
    "\n",
    "# Recall\n",
    "recall_test_lr = round(confusion_test_lr[1,1]/(confusion_test_lr[1,1]+confusion_test_lr[1,0])*100,2)\n",
    "print(\"RECALL SCORE (Test): \",recall_test_lr,\"%\")\n",
    "\n",
    "# setting seaborn display again (to be applied after this cell execution)\n",
    "sns.set()"
   ]
  },
  {
   "cell_type": "markdown",
   "id": "fa2a3d62",
   "metadata": {
    "papermill": {
     "duration": 0.034012,
     "end_time": "2023-02-13T10:29:49.018077",
     "exception": false,
     "start_time": "2023-02-13T10:29:48.984065",
     "status": "completed"
    },
    "tags": []
   },
   "source": [
    "<a id = \"roc_logistic\"></a>\n",
    "<br>**7.a.iv. ROC Curve of Prediction with Logistic Regression - TEST DATASET**\n",
    "* **TEST DATASET** - Receiver Operating Characteristic (**ROC**) **Curve** of the prediction of **Logistic Regression Classifier**\n",
    "\n",
    "*Click [here](#toc) to go back to **Table of Contents**.*"
   ]
  },
  {
   "cell_type": "code",
   "execution_count": 48,
   "id": "b2876155",
   "metadata": {
    "execution": {
     "iopub.execute_input": "2023-02-13T10:29:49.084577Z",
     "iopub.status.busy": "2023-02-13T10:29:49.083937Z",
     "iopub.status.idle": "2023-02-13T10:29:49.384413Z",
     "shell.execute_reply": "2023-02-13T10:29:49.383359Z"
    },
    "papermill": {
     "duration": 0.336529,
     "end_time": "2023-02-13T10:29:49.386941",
     "exception": false,
     "start_time": "2023-02-13T10:29:49.050412",
     "status": "completed"
    },
    "tags": []
   },
   "outputs": [
    {
     "data": {
      "image/png": "[encoded data removed]",
      "text/plain": [
       "<Figure size 504x360 with 1 Axes>"
      ]
     },
     "metadata": {},
     "output_type": "display_data"
    }
   ],
   "source": [
    "# Calculete the falsepositiverate(fpr), truepositiverate(tpr) for\n",
    "# various thresholds\n",
    "fpr_lr,tpr_lr,thresh_lr = roc_curve(y_test,\n",
    "                           logistic_model.predict_proba(X_test)[:,1],\n",
    "                           pos_label = 1)\n",
    "# calculate the auc score\n",
    "auc_lr = roc_auc_score(y_test,logistic_model.predict_proba(X_test)[:,1])\n",
    "\n",
    "# plot the curve\n",
    "fig, ax = plt.subplots(figsize = (7,5))\n",
    "plt.plot(fpr_lr,tpr_lr)\n",
    "plt.plot([0,1],[0,1], linestyle = \"--\")\n",
    "plt.xlabel(\"False Positive Rate\")\n",
    "plt.ylabel(\"True Positive Rate\")\n",
    "plt.title(\"ROC Curve - Logistic Regression\\n (Test Dataset)\")\n",
    "plt.fill_between(fpr_lr,tpr_lr, alpha = 0.3)\n",
    "plt.text(0.7,0.5,f\"AUC = {round(auc_lr,3)}\",fontweight = 700)\n",
    "plt.show()"
   ]
  },
  {
   "cell_type": "markdown",
   "id": "14c63d5a",
   "metadata": {
    "execution": {
     "iopub.execute_input": "2023-01-22T13:42:33.725796Z",
     "iopub.status.busy": "2023-01-22T13:42:33.725399Z",
     "iopub.status.idle": "2023-01-22T13:42:33.732235Z",
     "shell.execute_reply": "2023-01-22T13:42:33.731357Z",
     "shell.execute_reply.started": "2023-01-22T13:42:33.725765Z"
    },
    "papermill": {
     "duration": 0.032672,
     "end_time": "2023-02-13T10:29:49.453221",
     "exception": false,
     "start_time": "2023-02-13T10:29:49.420549",
     "status": "completed"
    },
    "tags": []
   },
   "source": [
    "<a id = \"feat_imp_logistic\"></a>\n",
    "<br>**7.a.v. Feature Importance**\n",
    "* Top 10 **features** impacting the **decision** on order-rejection based on **logistic regression classifier**.\n",
    "\n",
    "*Click [here](#toc) to go back to **Table of Contents**.*"
   ]
  },
  {
   "cell_type": "code",
   "execution_count": 49,
   "id": "981380e6",
   "metadata": {
    "execution": {
     "iopub.execute_input": "2023-02-13T10:29:49.521540Z",
     "iopub.status.busy": "2023-02-13T10:29:49.521085Z",
     "iopub.status.idle": "2023-02-13T10:29:49.529030Z",
     "shell.execute_reply": "2023-02-13T10:29:49.528147Z"
    },
    "papermill": {
     "duration": 0.04476,
     "end_time": "2023-02-13T10:29:49.531164",
     "exception": false,
     "start_time": "2023-02-13T10:29:49.486404",
     "status": "completed"
    },
    "tags": []
   },
   "outputs": [],
   "source": [
    "# create pandas series of weights(coefficients) as feature importance\n",
    "# and feature names as index\n",
    "\n",
    "# coefficients/weights list\n",
    "weights_list = logistic_model.named_steps[\"logisticregression\"].coef_.reshape(-1,)\n",
    "\n",
    "# features list\n",
    "features_list_lr = list(logistic_model[\"columntransformer\"].transformers_[1][1][\"onehotencoder\"]\n",
    "                 .get_feature_names_out())\n",
    "features_list_lr.insert(0,\"amount\")\n",
    "\n",
    "#create the pandas series\n",
    "feature_importances_lr = pd.Series(weights_list,index = features_list_lr)\n",
    "\n",
    "# sort values based on weights \n",
    "feature_importances_lr = feature_importances_lr.sort_values(key = abs)"
   ]
  },
  {
   "cell_type": "code",
   "execution_count": 50,
   "id": "fc3f9d18",
   "metadata": {
    "execution": {
     "iopub.execute_input": "2023-02-13T10:29:49.601120Z",
     "iopub.status.busy": "2023-02-13T10:29:49.600396Z",
     "iopub.status.idle": "2023-02-13T10:29:49.871475Z",
     "shell.execute_reply": "2023-02-13T10:29:49.870381Z"
    },
    "papermill": {
     "duration": 0.308034,
     "end_time": "2023-02-13T10:29:49.873573",
     "exception": false,
     "start_time": "2023-02-13T10:29:49.565539",
     "status": "completed"
    },
    "tags": []
   },
   "outputs": [
    {
     "data": {
      "image/png": "[encoded data removed]",
      "text/plain": [
       "<Figure size 504x360 with 1 Axes>"
      ]
     },
     "metadata": {},
     "output_type": "display_data"
    }
   ],
   "source": [
    "# plot top 10 select_dtypesbottom 10 important features\n",
    "fig, ax = plt.subplots(figsize = (7,5))\n",
    "#plt.subplots_adjust(hspace = 0.5)\n",
    "plt.title(\"Top 10 Important Features\\n (Logistic Regression)\", fontsize= 15)\n",
    "feature_importances_lr.tail(10).plot(kind = \"barh\", ax = ax)\n",
    "plt.xlabel(\"Weights [Coefficient]\",fontsize = 12)\n",
    "plt.ylabel(\"Features\", fontsize = 12)\n",
    "plt.show()"
   ]
  },
  {
   "cell_type": "markdown",
   "id": "72dfbde1",
   "metadata": {
    "papermill": {
     "duration": 0.034341,
     "end_time": "2023-02-13T10:29:49.942028",
     "exception": false,
     "start_time": "2023-02-13T10:29:49.907687",
     "status": "completed"
    },
    "tags": []
   },
   "source": [
    "<a id = \"random_forest\"></a>\n",
    "##### **7.b. Random Forest Classifier**\n",
    "<a id = \"rf_estimator\"></a>\n",
    "**7.b.i. Instance; Hyperparameter Tuning; Model Fitting** \n",
    "* Define an instance of **random forest estimator** using **pipeline**,\n",
    "* Set the **parameters range** for **hyperparameter tunning** to identify the best parameters for estimation, and \n",
    "* Create an instance of **GridSearchCV()** (model) and **fit the classification model** to find the best estimator.\n",
    "\n",
    "*Click [here](#toc) to go back to **Table of Contents**.*"
   ]
  },
  {
   "cell_type": "code",
   "execution_count": 51,
   "id": "6b6e3ba6",
   "metadata": {
    "execution": {
     "iopub.execute_input": "2023-02-13T10:29:50.013802Z",
     "iopub.status.busy": "2023-02-13T10:29:50.013376Z",
     "iopub.status.idle": "2023-02-13T10:51:49.105350Z",
     "shell.execute_reply": "2023-02-13T10:51:49.104161Z"
    },
    "papermill": {
     "duration": 1319.237593,
     "end_time": "2023-02-13T10:51:49.214887",
     "exception": false,
     "start_time": "2023-02-13T10:29:49.977294",
     "status": "completed"
    },
    "tags": []
   },
   "outputs": [
    {
     "name": "stdout",
     "output_type": "stream",
     "text": [
      "Fitting 6 folds for each of 110 candidates, totalling 660 fits\n"
     ]
    },
    {
     "data": {
      "text/html": [
       "<style>#sk-43e634a3-e746-4918-81db-a19e4caea771 {color: black;background-color: white;}#sk-43e634a3-e746-4918-81db-a19e4caea771 pre{padding: 0;}#sk-43e634a3-e746-4918-81db-a19e4caea771 div.sk-toggleable {background-color: white;}#sk-43e634a3-e746-4918-81db-a19e4caea771 label.sk-toggleable__label {cursor: pointer;display: block;width: 100%;margin-bottom: 0;padding: 0.3em;box-sizing: border-box;text-align: center;}#sk-43e634a3-e746-4918-81db-a19e4caea771 label.sk-toggleable__label-arrow:before {content: \"▸\";float: left;margin-right: 0.25em;color: #696969;}#sk-43e634a3-e746-4918-81db-a19e4caea771 label.sk-toggleable__label-arrow:hover:before {color: black;}#sk-43e634a3-e746-4918-81db-a19e4caea771 div.sk-estimator:hover label.sk-toggleable__label-arrow:before {color: black;}#sk-43e634a3-e746-4918-81db-a19e4caea771 div.sk-toggleable__content {max-height: 0;max-width: 0;overflow: hidden;text-align: left;background-color: #f0f8ff;}#sk-43e634a3-e746-4918-81db-a19e4caea771 div.sk-toggleable__content pre {margin: 0.2em;color: black;border-radius: 0.25em;background-color: #f0f8ff;}#sk-43e634a3-e746-4918-81db-a19e4caea771 input.sk-toggleable__control:checked~div.sk-toggleable__content {max-height: 200px;max-width: 100%;overflow: auto;}#sk-43e634a3-e746-4918-81db-a19e4caea771 input.sk-toggleable__control:checked~label.sk-toggleable__label-arrow:before {content: \"▾\";}#sk-43e634a3-e746-4918-81db-a19e4caea771 div.sk-estimator input.sk-toggleable__control:checked~label.sk-toggleable__label {background-color: #d4ebff;}#sk-43e634a3-e746-4918-81db-a19e4caea771 div.sk-label input.sk-toggleable__control:checked~label.sk-toggleable__label {background-color: #d4ebff;}#sk-43e634a3-e746-4918-81db-a19e4caea771 input.sk-hidden--visually {border: 0;clip: rect(1px 1px 1px 1px);clip: rect(1px, 1px, 1px, 1px);height: 1px;margin: -1px;overflow: hidden;padding: 0;position: absolute;width: 1px;}#sk-43e634a3-e746-4918-81db-a19e4caea771 div.sk-estimator {font-family: monospace;background-color: #f0f8ff;border: 1px dotted black;border-radius: 0.25em;box-sizing: border-box;margin-bottom: 0.5em;}#sk-43e634a3-e746-4918-81db-a19e4caea771 div.sk-estimator:hover {background-color: #d4ebff;}#sk-43e634a3-e746-4918-81db-a19e4caea771 div.sk-parallel-item::after {content: \"\";width: 100%;border-bottom: 1px solid gray;flex-grow: 1;}#sk-43e634a3-e746-4918-81db-a19e4caea771 div.sk-label:hover label.sk-toggleable__label {background-color: #d4ebff;}#sk-43e634a3-e746-4918-81db-a19e4caea771 div.sk-serial::before {content: \"\";position: absolute;border-left: 1px solid gray;box-sizing: border-box;top: 2em;bottom: 0;left: 50%;}#sk-43e634a3-e746-4918-81db-a19e4caea771 div.sk-serial {display: flex;flex-direction: column;align-items: center;background-color: white;padding-right: 0.2em;padding-left: 0.2em;}#sk-43e634a3-e746-4918-81db-a19e4caea771 div.sk-item {z-index: 1;}#sk-43e634a3-e746-4918-81db-a19e4caea771 div.sk-parallel {display: flex;align-items: stretch;justify-content: center;background-color: white;}#sk-43e634a3-e746-4918-81db-a19e4caea771 div.sk-parallel::before {content: \"\";position: absolute;border-left: 1px solid gray;box-sizing: border-box;top: 2em;bottom: 0;left: 50%;}#sk-43e634a3-e746-4918-81db-a19e4caea771 div.sk-parallel-item {display: flex;flex-direction: column;position: relative;background-color: white;}#sk-43e634a3-e746-4918-81db-a19e4caea771 div.sk-parallel-item:first-child::after {align-self: flex-end;width: 50%;}#sk-43e634a3-e746-4918-81db-a19e4caea771 div.sk-parallel-item:last-child::after {align-self: flex-start;width: 50%;}#sk-43e634a3-e746-4918-81db-a19e4caea771 div.sk-parallel-item:only-child::after {width: 0;}#sk-43e634a3-e746-4918-81db-a19e4caea771 div.sk-dashed-wrapped {border: 1px dashed gray;margin: 0 0.4em 0.5em 0.4em;box-sizing: border-box;padding-bottom: 0.4em;background-color: white;position: relative;}#sk-43e634a3-e746-4918-81db-a19e4caea771 div.sk-label label {font-family: monospace;font-weight: bold;background-color: white;display: inline-block;line-height: 1.2em;}#sk-43e634a3-e746-4918-81db-a19e4caea771 div.sk-label-container {position: relative;z-index: 2;text-align: center;}#sk-43e634a3-e746-4918-81db-a19e4caea771 div.sk-container {/* jupyter's `normalize.less` sets `[hidden] { display: none; }` but bootstrap.min.css set `[hidden] { display: none !important; }` so we also need the `!important` here to be able to override the default hidden behavior on the sphinx rendered scikit-learn.org. See: https://github.com/scikit-learn/scikit-learn/issues/21755 */display: inline-block !important;position: relative;}#sk-43e634a3-e746-4918-81db-a19e4caea771 div.sk-text-repr-fallback {display: none;}</style><div id=\"sk-43e634a3-e746-4918-81db-a19e4caea771\" class=\"sk-top-container\"><div class=\"sk-text-repr-fallback\"><pre>GridSearchCV(cv=6,\n",
       "             estimator=Pipeline(steps=[(&#x27;columntransformer&#x27;,\n",
       "                                        ColumnTransformer(transformers=[(&#x27;numtransformer&#x27;,\n",
       "                                                                         Pipeline(steps=[(&#x27;simpleimputer&#x27;,\n",
       "                                                                                          SimpleImputer()),\n",
       "                                                                                         (&#x27;minmaxscaler&#x27;,\n",
       "                                                                                          MinMaxScaler())]),\n",
       "                                                                         Index([&#x27;amount&#x27;], dtype=&#x27;object&#x27;)),\n",
       "                                                                        (&#x27;cattransformer&#x27;,\n",
       "                                                                         Pipeline(steps=[(&#x27;simpleimputer&#x27;,\n",
       "                                                                                          SimpleImputer(strategy=&#x27;most_frequent&#x27;)),\n",
       "                                                                                         (&#x27;onehotencoder&#x27;,\n",
       "                                                                                          OneHotEncoder(drop=&#x27;first&#x27;))]),\n",
       "                                                                         Index([&#x27;fulfilment&#x27;, &#x27;shipservicelevel&#x27;, &#x27;category&#x27;, &#x27;size&#x27;, &#x27;b2b&#x27;, &#x27;region&#x27;], dtype=&#x27;object&#x27;))])),\n",
       "                                       (&#x27;randomforestclassifier&#x27;,\n",
       "                                        RandomForestClassifier(random_state=42))]),\n",
       "             n_jobs=-1,\n",
       "             param_grid={&#x27;randomforestclassifier__max_depth&#x27;: range(10, 31, 2),\n",
       "                         &#x27;randomforestclassifier__n_estimators&#x27;: range(10, 101, 10)},\n",
       "             verbose=1)</pre><b>Please rerun this cell to show the HTML repr or trust the notebook.</b></div><div class=\"sk-container\" hidden><div class=\"sk-item sk-dashed-wrapped\"><div class=\"sk-label-container\"><div class=\"sk-label sk-toggleable\"><input class=\"sk-toggleable__control sk-hidden--visually\" id=\"fb04c39e-5e17-4cb9-a1fa-6ad3e520f266\" type=\"checkbox\" ><label for=\"fb04c39e-5e17-4cb9-a1fa-6ad3e520f266\" class=\"sk-toggleable__label sk-toggleable__label-arrow\">GridSearchCV</label><div class=\"sk-toggleable__content\"><pre>GridSearchCV(cv=6,\n",
       "             estimator=Pipeline(steps=[(&#x27;columntransformer&#x27;,\n",
       "                                        ColumnTransformer(transformers=[(&#x27;numtransformer&#x27;,\n",
       "                                                                         Pipeline(steps=[(&#x27;simpleimputer&#x27;,\n",
       "                                                                                          SimpleImputer()),\n",
       "                                                                                         (&#x27;minmaxscaler&#x27;,\n",
       "                                                                                          MinMaxScaler())]),\n",
       "                                                                         Index([&#x27;amount&#x27;], dtype=&#x27;object&#x27;)),\n",
       "                                                                        (&#x27;cattransformer&#x27;,\n",
       "                                                                         Pipeline(steps=[(&#x27;simpleimputer&#x27;,\n",
       "                                                                                          SimpleImputer(strategy=&#x27;most_frequent&#x27;)),\n",
       "                                                                                         (&#x27;onehotencoder&#x27;,\n",
       "                                                                                          OneHotEncoder(drop=&#x27;first&#x27;))]),\n",
       "                                                                         Index([&#x27;fulfilment&#x27;, &#x27;shipservicelevel&#x27;, &#x27;category&#x27;, &#x27;size&#x27;, &#x27;b2b&#x27;, &#x27;region&#x27;], dtype=&#x27;object&#x27;))])),\n",
       "                                       (&#x27;randomforestclassifier&#x27;,\n",
       "                                        RandomForestClassifier(random_state=42))]),\n",
       "             n_jobs=-1,\n",
       "             param_grid={&#x27;randomforestclassifier__max_depth&#x27;: range(10, 31, 2),\n",
       "                         &#x27;randomforestclassifier__n_estimators&#x27;: range(10, 101, 10)},\n",
       "             verbose=1)</pre></div></div></div><div class=\"sk-parallel\"><div class=\"sk-parallel-item\"><div class=\"sk-item\"><div class=\"sk-serial\"><div class=\"sk-item\"><div class=\"sk-serial\"><div class=\"sk-item sk-dashed-wrapped\"><div class=\"sk-label-container\"><div class=\"sk-label sk-toggleable\"><input class=\"sk-toggleable__control sk-hidden--visually\" id=\"3dd6cc89-6377-4055-b40d-6bb75ae8a41e\" type=\"checkbox\" ><label for=\"3dd6cc89-6377-4055-b40d-6bb75ae8a41e\" class=\"sk-toggleable__label sk-toggleable__label-arrow\">columntransformer: ColumnTransformer</label><div class=\"sk-toggleable__content\"><pre>ColumnTransformer(transformers=[(&#x27;numtransformer&#x27;,\n",
       "                                 Pipeline(steps=[(&#x27;simpleimputer&#x27;,\n",
       "                                                  SimpleImputer()),\n",
       "                                                 (&#x27;minmaxscaler&#x27;,\n",
       "                                                  MinMaxScaler())]),\n",
       "                                 Index([&#x27;amount&#x27;], dtype=&#x27;object&#x27;)),\n",
       "                                (&#x27;cattransformer&#x27;,\n",
       "                                 Pipeline(steps=[(&#x27;simpleimputer&#x27;,\n",
       "                                                  SimpleImputer(strategy=&#x27;most_frequent&#x27;)),\n",
       "                                                 (&#x27;onehotencoder&#x27;,\n",
       "                                                  OneHotEncoder(drop=&#x27;first&#x27;))]),\n",
       "                                 Index([&#x27;fulfilment&#x27;, &#x27;shipservicelevel&#x27;, &#x27;category&#x27;, &#x27;size&#x27;, &#x27;b2b&#x27;, &#x27;region&#x27;], dtype=&#x27;object&#x27;))])</pre></div></div></div><div class=\"sk-parallel\"><div class=\"sk-parallel-item\"><div class=\"sk-item\"><div class=\"sk-label-container\"><div class=\"sk-label sk-toggleable\"><input class=\"sk-toggleable__control sk-hidden--visually\" id=\"fc78e4c8-506d-4468-bb66-85963ad10b14\" type=\"checkbox\" ><label for=\"fc78e4c8-506d-4468-bb66-85963ad10b14\" class=\"sk-toggleable__label sk-toggleable__label-arrow\">numtransformer</label><div class=\"sk-toggleable__content\"><pre>Index([&#x27;amount&#x27;], dtype=&#x27;object&#x27;)</pre></div></div></div><div class=\"sk-serial\"><div class=\"sk-item\"><div class=\"sk-serial\"><div class=\"sk-item\"><div class=\"sk-estimator sk-toggleable\"><input class=\"sk-toggleable__control sk-hidden--visually\" id=\"2d9c3765-1d85-497e-b4b8-b8d85dc258e2\" type=\"checkbox\" ><label for=\"2d9c3765-1d85-497e-b4b8-b8d85dc258e2\" class=\"sk-toggleable__label sk-toggleable__label-arrow\">SimpleImputer</label><div class=\"sk-toggleable__content\"><pre>SimpleImputer()</pre></div></div></div><div class=\"sk-item\"><div class=\"sk-estimator sk-toggleable\"><input class=\"sk-toggleable__control sk-hidden--visually\" id=\"8c1facb9-5556-4a48-96b9-885897d443b3\" type=\"checkbox\" ><label for=\"8c1facb9-5556-4a48-96b9-885897d443b3\" class=\"sk-toggleable__label sk-toggleable__label-arrow\">MinMaxScaler</label><div class=\"sk-toggleable__content\"><pre>MinMaxScaler()</pre></div></div></div></div></div></div></div></div><div class=\"sk-parallel-item\"><div class=\"sk-item\"><div class=\"sk-label-container\"><div class=\"sk-label sk-toggleable\"><input class=\"sk-toggleable__control sk-hidden--visually\" id=\"acf9bd48-a565-44ce-9926-e1d66f10ca2c\" type=\"checkbox\" ><label for=\"acf9bd48-a565-44ce-9926-e1d66f10ca2c\" class=\"sk-toggleable__label sk-toggleable__label-arrow\">cattransformer</label><div class=\"sk-toggleable__content\"><pre>Index([&#x27;fulfilment&#x27;, &#x27;shipservicelevel&#x27;, &#x27;category&#x27;, &#x27;size&#x27;, &#x27;b2b&#x27;, &#x27;region&#x27;], dtype=&#x27;object&#x27;)</pre></div></div></div><div class=\"sk-serial\"><div class=\"sk-item\"><div class=\"sk-serial\"><div class=\"sk-item\"><div class=\"sk-estimator sk-toggleable\"><input class=\"sk-toggleable__control sk-hidden--visually\" id=\"f3e84644-fee9-4aff-ad78-145a53aec3d6\" type=\"checkbox\" ><label for=\"f3e84644-fee9-4aff-ad78-145a53aec3d6\" class=\"sk-toggleable__label sk-toggleable__label-arrow\">SimpleImputer</label><div class=\"sk-toggleable__content\"><pre>SimpleImputer(strategy=&#x27;most_frequent&#x27;)</pre></div></div></div><div class=\"sk-item\"><div class=\"sk-estimator sk-toggleable\"><input class=\"sk-toggleable__control sk-hidden--visually\" id=\"ec7d13d0-207b-4c29-9465-69095f648e86\" type=\"checkbox\" ><label for=\"ec7d13d0-207b-4c29-9465-69095f648e86\" class=\"sk-toggleable__label sk-toggleable__label-arrow\">OneHotEncoder</label><div class=\"sk-toggleable__content\"><pre>OneHotEncoder(drop=&#x27;first&#x27;)</pre></div></div></div></div></div></div></div></div></div></div><div class=\"sk-item\"><div class=\"sk-estimator sk-toggleable\"><input class=\"sk-toggleable__control sk-hidden--visually\" id=\"050feb43-7458-4506-9e6a-a2f31b932b18\" type=\"checkbox\" ><label for=\"050feb43-7458-4506-9e6a-a2f31b932b18\" class=\"sk-toggleable__label sk-toggleable__label-arrow\">RandomForestClassifier</label><div class=\"sk-toggleable__content\"><pre>RandomForestClassifier(random_state=42)</pre></div></div></div></div></div></div></div></div></div></div></div></div>"
      ],
      "text/plain": [
       "GridSearchCV(cv=6,\n",
       "             estimator=Pipeline(steps=[('columntransformer',\n",
       "                                        ColumnTransformer(transformers=[('numtransformer',\n",
       "                                                                         Pipeline(steps=[('simpleimputer',\n",
       "                                                                                          SimpleImputer()),\n",
       "                                                                                         ('minmaxscaler',\n",
       "                                                                                          MinMaxScaler())]),\n",
       "                                                                         Index(['amount'], dtype='object')),\n",
       "                                                                        ('cattransformer',\n",
       "                                                                         Pipeline(steps=[('simpleimputer',\n",
       "                                                                                          SimpleImputer(strategy='most_frequent')),\n",
       "                                                                                         ('onehotencoder',\n",
       "                                                                                          OneHotEncoder(drop='first'))]),\n",
       "                                                                         Index(['fulfilment', 'shipservicelevel', 'category', 'size', 'b2b', 'region'], dtype='object'))])),\n",
       "                                       ('randomforestclassifier',\n",
       "                                        RandomForestClassifier(random_state=42))]),\n",
       "             n_jobs=-1,\n",
       "             param_grid={'randomforestclassifier__max_depth': range(10, 31, 2),\n",
       "                         'randomforestclassifier__n_estimators': range(10, 101, 10)},\n",
       "             verbose=1)"
      ]
     },
     "execution_count": 51,
     "metadata": {},
     "output_type": "execute_result"
    }
   ],
   "source": [
    "# define an instance of random forest estimator using pipeline\n",
    "rf_estimator = make_pipeline(\n",
    "    col_transformer,RandomForestClassifier(random_state = 42)\n",
    ")\n",
    "\n",
    "# Set the parameters ranges for hyperparameter tunning\n",
    "params_rf = {\n",
    "    \"randomforestclassifier__max_depth\":range(10,31,2), #  chosen this range to avoid overfitting\n",
    "    \"randomforestclassifier__n_estimators\": range(10,101,10)\n",
    "}\n",
    "\n",
    "# create an instance of GridSearchCV (model) and then fit the model.\n",
    "clf_rf = GridSearchCV(rf_estimator,cv = 6,param_grid = params_rf,n_jobs = -1, verbose = 1)\n",
    "clf_rf.fit(X_train_over,y_train_over)"
   ]
  },
  {
   "cell_type": "code",
   "execution_count": 52,
   "id": "679a39d7",
   "metadata": {
    "execution": {
     "iopub.execute_input": "2023-02-13T10:51:49.287504Z",
     "iopub.status.busy": "2023-02-13T10:51:49.287055Z",
     "iopub.status.idle": "2023-02-13T10:51:49.302179Z",
     "shell.execute_reply": "2023-02-13T10:51:49.301248Z"
    },
    "papermill": {
     "duration": 0.054706,
     "end_time": "2023-02-13T10:51:49.304365",
     "exception": false,
     "start_time": "2023-02-13T10:51:49.249659",
     "status": "completed"
    },
    "tags": []
   },
   "outputs": [
    {
     "data": {
      "text/html": [
       "<div>\n",
       "<style scoped>\n",
       "    .dataframe tbody tr th:only-of-type {\n",
       "        vertical-align: middle;\n",
       "    }\n",
       "\n",
       "    .dataframe tbody tr th {\n",
       "        vertical-align: top;\n",
       "    }\n",
       "\n",
       "    .dataframe thead th {\n",
       "        text-align: right;\n",
       "    }\n",
       "</style>\n",
       "<table border=\"1\" class=\"dataframe\">\n",
       "  <thead>\n",
       "    <tr style=\"text-align: right;\">\n",
       "      <th></th>\n",
       "      <th>best_parameter_value</th>\n",
       "    </tr>\n",
       "  </thead>\n",
       "  <tbody>\n",
       "    <tr>\n",
       "      <th>max_depth</th>\n",
       "      <td>30</td>\n",
       "    </tr>\n",
       "    <tr>\n",
       "      <th>n_estimators</th>\n",
       "      <td>80</td>\n",
       "    </tr>\n",
       "  </tbody>\n",
       "</table>\n",
       "</div>"
      ],
      "text/plain": [
       "              best_parameter_value\n",
       "max_depth                       30\n",
       "n_estimators                    80"
      ]
     },
     "execution_count": 52,
     "metadata": {},
     "output_type": "execute_result"
    }
   ],
   "source": [
    "# Best parameter for best estimator\n",
    "# read the best_params_ values into dataframe\n",
    "best_parameter_rf = pd.DataFrame.from_dict(clf_rf.best_params_,orient = \"index\")    \n",
    "\n",
    "# rename the index\n",
    "best_parameter_rf.index = [element[1] for element in best_parameter_rf.index.str.rsplit(\"__\",1,expand = True)]\n",
    "\n",
    "# rename the column\n",
    "best_parameter_rf.rename(columns = {0:\"best_parameter_value\"}, inplace=True)\n",
    "\n",
    "# display the best_parameter dataframe\n",
    "best_parameter_rf"
   ]
  },
  {
   "cell_type": "markdown",
   "id": "574f0b83",
   "metadata": {
    "execution": {
     "iopub.execute_input": "2023-01-24T05:46:50.599548Z",
     "iopub.status.busy": "2023-01-24T05:46:50.599141Z",
     "iopub.status.idle": "2023-01-24T05:46:50.806346Z",
     "shell.execute_reply": "2023-01-24T05:46:50.805270Z",
     "shell.execute_reply.started": "2023-01-24T05:46:50.599515Z"
    },
    "papermill": {
     "duration": 0.034862,
     "end_time": "2023-02-13T10:51:49.376817",
     "exception": false,
     "start_time": "2023-02-13T10:51:49.341955",
     "status": "completed"
    },
    "tags": []
   },
   "source": [
    "<a id = \"prediction_training_rf\"></a> <br>\n",
    "<br>**7.b.ii. Prediction and Performance - TRAINING DATASET**\n",
    "* Prediction with, and performance of, **Random Forest Classifier** of the **Training Dataset**\n",
    "\n",
    "*Click [here](#toc) to go back to **Table of Contents**.*"
   ]
  },
  {
   "cell_type": "code",
   "execution_count": 53,
   "id": "84eb3255",
   "metadata": {
    "execution": {
     "iopub.execute_input": "2023-02-13T10:51:49.449912Z",
     "iopub.status.busy": "2023-02-13T10:51:49.449527Z",
     "iopub.status.idle": "2023-02-13T10:51:50.973250Z",
     "shell.execute_reply": "2023-02-13T10:51:50.971567Z"
    },
    "papermill": {
     "duration": 1.566671,
     "end_time": "2023-02-13T10:51:50.977571",
     "exception": false,
     "start_time": "2023-02-13T10:51:49.410900",
     "status": "completed"
    },
    "tags": []
   },
   "outputs": [
    {
     "data": {
      "image/png": "[encoded data removed]",
      "text/plain": [
       "<Figure size 504x360 with 1 Axes>"
      ]
     },
     "metadata": {
      "needs_background": "light"
     },
     "output_type": "display_data"
    },
    {
     "name": "stdout",
     "output_type": "stream",
     "text": [
      "ACCURACY SCORE (Training): 87.28%\n",
      "PRECISION SCORE (Training):  96.39 %\n",
      "RECALL SCORE (Training):  93.72 %\n"
     ]
    }
   ],
   "source": [
    "# predict the target from X_train_over features\n",
    "y_train_over_pred_rf = clf_rf.predict(X_train_over)\n",
    "confusion_train_rf = confusion_matrix(y_train_over,y_train_over_pred_rf)\n",
    "\n",
    "# plot Confusion matrix\n",
    "# set display back to matplotlib\n",
    "sns.reset_orig()\n",
    "\n",
    "fig,ax = plt.subplots(figsize = (7,5))\n",
    "ConfusionMatrixDisplay.from_estimator(clf_rf,X_train_over,y_train_over,\n",
    "                                      ax = ax, colorbar=False)\n",
    "                        # (OR)\n",
    "# ConfusionMatrixDisplay.from_predictions(y_train_over,y_train_over_pred,\n",
    "#                                        ax = ax, colorbar=False)\n",
    "plt.title(\"Confusion Matrix - Random Forest\\n (Training Dataset)\",\n",
    "         fontsize = 14)\n",
    "plt.show()\n",
    "\n",
    "# Accuracy\n",
    "accuracy_train_rf = round(clf_rf.best_score_*100,2)\n",
    "print(f\"ACCURACY SCORE (Training): {accuracy_train_rf}%\")\n",
    "\n",
    "# Precision\n",
    "precision_train_rf = round(confusion_train_rf[1,1]/(confusion_train_rf[1,1]+confusion_train_rf[0,1])*100,2)\n",
    "print(\"PRECISION SCORE (Training): \",precision_train_rf,\"%\")\n",
    "\n",
    "# Recall\n",
    "recall_train_rf = round(confusion_train_rf[1,1]/(confusion_train_rf[1,1]+confusion_train_rf[1,0])*100,2)\n",
    "print(\"RECALL SCORE (Training): \",recall_train_rf,\"%\")\n",
    "\n",
    "# setting seaborn display again (to be applied after this cell execution)\n",
    "sns.set()"
   ]
  },
  {
   "cell_type": "markdown",
   "id": "f0819cd9",
   "metadata": {
    "papermill": {
     "duration": 0.03864,
     "end_time": "2023-02-13T10:51:51.082795",
     "exception": false,
     "start_time": "2023-02-13T10:51:51.044155",
     "status": "completed"
    },
    "tags": []
   },
   "source": [
    "<a id = \"prediction_test_rf\"></a> <br>\n",
    "<br>**7.b.iii. Prediction and Performance -  TEST DATASET**\n",
    "* Prediction with, and performance of, **Random Forest Classifier** of the **Test Dataset**\n",
    "\n",
    "*Click [here](#toc) to go back to **Table of Contents**.*"
   ]
  },
  {
   "cell_type": "code",
   "execution_count": 54,
   "id": "bf56ed74",
   "metadata": {
    "execution": {
     "iopub.execute_input": "2023-02-13T10:51:51.161419Z",
     "iopub.status.busy": "2023-02-13T10:51:51.161046Z",
     "iopub.status.idle": "2023-02-13T10:51:51.901509Z",
     "shell.execute_reply": "2023-02-13T10:51:51.900411Z"
    },
    "papermill": {
     "duration": 0.782093,
     "end_time": "2023-02-13T10:51:51.903633",
     "exception": false,
     "start_time": "2023-02-13T10:51:51.121540",
     "status": "completed"
    },
    "tags": []
   },
   "outputs": [
    {
     "data": {
      "image/png": "[encoded data removed]",
      "text/plain": [
       "<Figure size 360x360 with 1 Axes>"
      ]
     },
     "metadata": {
      "needs_background": "light"
     },
     "output_type": "display_data"
    },
    {
     "name": "stdout",
     "output_type": "stream",
     "text": [
      "ACCURACY SCORE (Test): 85.25%\n",
      "PRECISION SCORE (Test):  84.64 %\n",
      "RECALL (Test):  80.47 %\n"
     ]
    }
   ],
   "source": [
    "# predict the target from X_train_over features\n",
    "y_test_pred_rf = clf_rf.predict(X_test)\n",
    "confusion_test_rf = confusion_matrix(y_test,y_test_pred_rf)\n",
    "\n",
    "# plot Confusion matrix\n",
    "# set display back to matplotlib\n",
    "sns.reset_orig()\n",
    "\n",
    "fig,ax = plt.subplots(figsize = (5,5))\n",
    "ConfusionMatrixDisplay.from_estimator(clf_rf,X_test,y_test,\n",
    "                                      ax = ax, colorbar=False)\n",
    "                        # (OR)\n",
    "#ConfusionMatrixDisplay.from_predictions(y_test,y_test_pred_rf,\n",
    "#                                        ax = ax, colorbar=False)\n",
    "plt.title(\"Confusion Matrix - Random Forest\\n (Test Dataset)\",\n",
    "         fontsize = 14)\n",
    "plt.show()\n",
    "\n",
    "# Accuracy\n",
    "accuracy_test_rf = round(clf_rf.score(X_test,y_test)*100,2)\n",
    "print(f\"ACCURACY SCORE (Test): {accuracy_test_rf}%\")\n",
    "\n",
    "# Precision\n",
    "precision_test_rf =  round(confusion_test_rf[1,1]/(confusion_test_rf[1,1]+confusion_test_rf[0,1])*100,2)\n",
    "print(\"PRECISION SCORE (Test): \",precision_test_rf,\"%\")\n",
    "\n",
    "# Recall\n",
    "recall_test_rf = round(confusion_test_rf[1,1]/(confusion_test_rf[1,1]+confusion_test_rf[1,0])*100,2)\n",
    "print(\"RECALL (Test): \",recall_test_rf,\"%\")\n",
    "\n",
    "# setting seaborn display again (to be applied after this cell execution)\n",
    "sns.set()"
   ]
  },
  {
   "cell_type": "markdown",
   "id": "e77a767d",
   "metadata": {
    "papermill": {
     "duration": 0.037687,
     "end_time": "2023-02-13T10:51:51.979638",
     "exception": false,
     "start_time": "2023-02-13T10:51:51.941951",
     "status": "completed"
    },
    "tags": []
   },
   "source": [
    "<a id = \"roc_rf\"></a>\n",
    "<br>**7.a.iv. ROC Curve of Prediction with Logistic Regression - TEST DATASET**\n",
    "* **TEST DATASET** - Receiver Operating Characteristic (**ROC**) **Curve** of the prediction of **Random Forest Classifier**\n",
    "\n",
    "*Click [here](#toc) to go back to **Table of Contents**.*"
   ]
  },
  {
   "cell_type": "code",
   "execution_count": 55,
   "id": "4197eb9c",
   "metadata": {
    "execution": {
     "iopub.execute_input": "2023-02-13T10:51:52.057391Z",
     "iopub.status.busy": "2023-02-13T10:51:52.056808Z",
     "iopub.status.idle": "2023-02-13T10:51:52.696151Z",
     "shell.execute_reply": "2023-02-13T10:51:52.694708Z"
    },
    "papermill": {
     "duration": 0.681132,
     "end_time": "2023-02-13T10:51:52.698723",
     "exception": false,
     "start_time": "2023-02-13T10:51:52.017591",
     "status": "completed"
    },
    "tags": []
   },
   "outputs": [
    {
     "data": {
      "image/png": "[encoded data removed]",
      "text/plain": [
       "<Figure size 504x360 with 1 Axes>"
      ]
     },
     "metadata": {},
     "output_type": "display_data"
    }
   ],
   "source": [
    "# Calculete the falsepositiverate(fpr), truepositiverate(tpr) for\n",
    "# various thresholds\n",
    "fpr_rf,tpr_rf,thresh_rf = roc_curve(y_test,\n",
    "                           clf_rf.predict_proba(X_test)[:,1],\n",
    "                           pos_label = 1)\n",
    "# calculate the auc score\n",
    "auc_rf = roc_auc_score(y_test,clf_rf.predict_proba(X_test)[:,1])\n",
    "\n",
    "# plot the curve\n",
    "fig,ax = plt.subplots(figsize = (7,5))\n",
    "plt.plot(fpr_rf,tpr_rf)\n",
    "plt.plot([0,1],[0,1], linestyle = \"--\")\n",
    "plt.xlabel(\"False Positive Rate\")\n",
    "plt.ylabel(\"True Positive Rate\")\n",
    "plt.title(\"ROC Curve - Random Forest\\n (Test Dataset)\",fontsize = 14)\n",
    "plt.fill_between(fpr_rf,tpr_rf, alpha = 0.3)\n",
    "plt.text(0.7,0.5,f\"AUC = {round(auc_rf,3)}\", fontweight = 700)\n",
    "plt.show()"
   ]
  },
  {
   "cell_type": "markdown",
   "id": "bfd529a3",
   "metadata": {
    "papermill": {
     "duration": 0.039157,
     "end_time": "2023-02-13T10:51:52.777954",
     "exception": false,
     "start_time": "2023-02-13T10:51:52.738797",
     "status": "completed"
    },
    "tags": []
   },
   "source": [
    "<a id = \"feat_imp_rf\"></a>\n",
    "<br>**7.b.v. Feature Importance**\n",
    "* Top 10 **features** impacting the **decision** on order-rejection based on **random forest classifier**.\n",
    "\n",
    "*Click [here](#toc) to go back to **Table of Contents**.*"
   ]
  },
  {
   "cell_type": "code",
   "execution_count": 56,
   "id": "2469125c",
   "metadata": {
    "execution": {
     "iopub.execute_input": "2023-02-13T10:51:52.859509Z",
     "iopub.status.busy": "2023-02-13T10:51:52.858632Z",
     "iopub.status.idle": "2023-02-13T10:51:52.885109Z",
     "shell.execute_reply": "2023-02-13T10:51:52.883984Z"
    },
    "papermill": {
     "duration": 0.070638,
     "end_time": "2023-02-13T10:51:52.887652",
     "exception": false,
     "start_time": "2023-02-13T10:51:52.817014",
     "status": "completed"
    },
    "tags": []
   },
   "outputs": [],
   "source": [
    "# create pandas series of feature importance\n",
    "# and feature names as index\n",
    "\n",
    "# Degree of feature importance list\n",
    "feature_importances_rf = (\n",
    "    clf_rf.best_estimator_.named_steps[\"randomforestclassifier\"].feature_importances_\n",
    ")\n",
    "\n",
    "# feature names to be assigned as index\n",
    "feature_list_rf = list(\n",
    "    (\n",
    "        clf_rf.best_estimator_.named_steps[\"columntransformer\"]\n",
    "        .transformers_[1][1].named_steps[\"onehotencoder\"].get_feature_names_out()\n",
    "    )\n",
    ")\n",
    "feature_list_rf.insert(0,\"amount\")\n",
    "\n",
    "# create feature importance pandas series\n",
    "feature_importances_rf = pd.Series(feature_importances_rf,index = feature_list_rf)\n",
    "\n",
    "# sort values\n",
    "feature_importances_rf = feature_importances_rf.sort_values(key = abs)"
   ]
  },
  {
   "cell_type": "code",
   "execution_count": 57,
   "id": "67456a9b",
   "metadata": {
    "execution": {
     "iopub.execute_input": "2023-02-13T10:51:52.967042Z",
     "iopub.status.busy": "2023-02-13T10:51:52.966621Z",
     "iopub.status.idle": "2023-02-13T10:51:53.244280Z",
     "shell.execute_reply": "2023-02-13T10:51:53.243200Z"
    },
    "papermill": {
     "duration": 0.320008,
     "end_time": "2023-02-13T10:51:53.246670",
     "exception": false,
     "start_time": "2023-02-13T10:51:52.926662",
     "status": "completed"
    },
    "tags": []
   },
   "outputs": [
    {
     "data": {
      "image/png": "[encoded data removed]",
      "text/plain": [
       "<Figure size 504x360 with 1 Axes>"
      ]
     },
     "metadata": {},
     "output_type": "display_data"
    }
   ],
   "source": [
    "# plot top 10 important features\n",
    "fig, ax = plt.subplots(figsize = (7,5))\n",
    "plt.title(\"Feature Importance [Random Forest Classifier] \\n (Top 10 Features)\", fontsize= 15)\n",
    "feature_importances_rf.tail(10).plot(kind = \"barh\", ax = ax)\n",
    "plt.xlabel(\"Degree of importance [normalized]\",fontsize = 11)\n",
    "plt.ylabel(\"Features\", fontsize = 12)\n",
    "plt.show()"
   ]
  },
  {
   "cell_type": "markdown",
   "id": "c9ff97a9",
   "metadata": {
    "papermill": {
     "duration": 0.038608,
     "end_time": "2023-02-13T10:51:53.324688",
     "exception": false,
     "start_time": "2023-02-13T10:51:53.286080",
     "status": "completed"
    },
    "tags": []
   },
   "source": [
    "<a id = \"findings_discussion\"></a>\n",
    "#### **8. FINDINGS AND DISCUSSION**\n",
    "<a id = \"findings\"></a>\n",
    "**8.a. Findings**\n",
    "\n",
    "*Click [here](#toc) to go back to **Table of Contents**.*"
   ]
  },
  {
   "cell_type": "code",
   "execution_count": 58,
   "id": "d55cbe8f",
   "metadata": {
    "execution": {
     "iopub.execute_input": "2023-02-13T10:51:53.404733Z",
     "iopub.status.busy": "2023-02-13T10:51:53.404301Z",
     "iopub.status.idle": "2023-02-13T10:51:53.417978Z",
     "shell.execute_reply": "2023-02-13T10:51:53.417133Z"
    },
    "papermill": {
     "duration": 0.056612,
     "end_time": "2023-02-13T10:51:53.419968",
     "exception": false,
     "start_time": "2023-02-13T10:51:53.363356",
     "status": "completed"
    },
    "tags": []
   },
   "outputs": [
    {
     "data": {
      "text/html": [
       "<div>\n",
       "<style scoped>\n",
       "    .dataframe tbody tr th:only-of-type {\n",
       "        vertical-align: middle;\n",
       "    }\n",
       "\n",
       "    .dataframe tbody tr th {\n",
       "        vertical-align: top;\n",
       "    }\n",
       "\n",
       "    .dataframe thead th {\n",
       "        text-align: right;\n",
       "    }\n",
       "</style>\n",
       "<table border=\"1\" class=\"dataframe\">\n",
       "  <thead>\n",
       "    <tr style=\"text-align: right;\">\n",
       "      <th></th>\n",
       "      <th>Model (Classifier)</th>\n",
       "      <th>Accuracy</th>\n",
       "      <th>Precision</th>\n",
       "      <th>Recall</th>\n",
       "      <th>AUC</th>\n",
       "    </tr>\n",
       "  </thead>\n",
       "  <tbody>\n",
       "    <tr>\n",
       "      <th>0</th>\n",
       "      <td>Logistic Regression</td>\n",
       "      <td>81.30</td>\n",
       "      <td>100.00</td>\n",
       "      <td>56.72</td>\n",
       "      <td>0.801337</td>\n",
       "    </tr>\n",
       "    <tr>\n",
       "      <th>1</th>\n",
       "      <td>Random Forest</td>\n",
       "      <td>85.25</td>\n",
       "      <td>84.64</td>\n",
       "      <td>80.47</td>\n",
       "      <td>0.893748</td>\n",
       "    </tr>\n",
       "  </tbody>\n",
       "</table>\n",
       "</div>"
      ],
      "text/plain": [
       "    Model (Classifier)  Accuracy  Precision  Recall       AUC\n",
       "0  Logistic Regression     81.30     100.00   56.72  0.801337\n",
       "1        Random Forest     85.25      84.64   80.47  0.893748"
      ]
     },
     "execution_count": 58,
     "metadata": {},
     "output_type": "execute_result"
    }
   ],
   "source": [
    "# tabular presentation of performances usind pandas dataframe\n",
    "\n",
    "data_values = {\n",
    "    \"Model (Classifier)\":[\"Logistic Regression\",\"Random Forest\"],\n",
    "    \"Accuracy\":[accuracy_test_lr,accuracy_test_rf],\n",
    "    \"Precision\":[precision_test_lr,precision_test_rf],\n",
    "    \"Recall\":[recall_test_lr,recall_test_rf],\n",
    "    \"AUC\":[auc_lr,auc_rf]\n",
    "}\n",
    "performance_table = pd.DataFrame(data_values)\n",
    "performance_table"
   ]
  },
  {
   "cell_type": "code",
   "execution_count": 59,
   "id": "6bf92e8b",
   "metadata": {
    "execution": {
     "iopub.execute_input": "2023-02-13T10:51:53.504967Z",
     "iopub.status.busy": "2023-02-13T10:51:53.504065Z",
     "iopub.status.idle": "2023-02-13T10:51:53.938695Z",
     "shell.execute_reply": "2023-02-13T10:51:53.937820Z"
    },
    "papermill": {
     "duration": 0.479041,
     "end_time": "2023-02-13T10:51:53.940731",
     "exception": false,
     "start_time": "2023-02-13T10:51:53.461690",
     "status": "completed"
    },
    "tags": []
   },
   "outputs": [
    {
     "data": {
      "image/png": "[encoded data removed]",
      "text/plain": [
       "<Figure size 1008x360 with 2 Axes>"
      ]
     },
     "metadata": {},
     "output_type": "display_data"
    }
   ],
   "source": [
    "# visualization of the consolidated performances\n",
    "fig,(ax1,ax2) = plt.subplots(1,2,figsize = (14,5))\n",
    "plt.suptitle(\"Findings on Performances\\n\", fontsize = 16)\n",
    "plt.subplots_adjust(wspace = 0.5, top = 0.85)\n",
    "\n",
    "# plot for column chart\n",
    "performance_table.plot(kind = \"bar\",x = \"Model (Classifier)\",\n",
    "                       y = [\"Accuracy\",\"Precision\",\"Recall\"], ax = ax1)\n",
    "ax1.set_title(\"Accuracy, Precision & Recall\", fontsize = 14)\n",
    "ax1.set_ylabel(\"Score [%]\")\n",
    "ax1.set_xticks(ticks = [0,1], labels = performance_table.iloc[:,0],rotation = 0 )\n",
    "ax1.set_yticks(ticks = range(20,141,20))\n",
    "ax1.legend(loc = \"upper right\")\n",
    "\n",
    "#data labels of \"logistic regression\"\n",
    "x = -0.2\n",
    "for y in performance_table.iloc[0,1:4]:\n",
    "    ax1.text(x,y+5,str(round(y))+\"%\",horizontalalignment = \"center\")\n",
    "    x = x + 0.2\n",
    "    \n",
    "# data labels of \"random forest\"\n",
    "x = 0.8\n",
    "for y in performance_table.iloc[1,1:4]:\n",
    "    ax1.text(x,y+5,str(round(y))+\"%\",horizontalalignment = \"center\")\n",
    "    x = x + 0.2\n",
    "\n",
    "\n",
    "# plot the ROC curves of both the models\n",
    "ax2.plot(fpr_rf,tpr_rf)\n",
    "ax2.plot(fpr_lr,tpr_lr)\n",
    "ax2.plot([0,1],[0,1], linestyle = \"--\")\n",
    "ax2.set_xlabel(\"False Positive Rate\")\n",
    "ax2.set_ylabel(\"True Positive Rate\")\n",
    "ax2.set_title(\"ROC Curves\",fontsize = 14)\n",
    "ax2.fill_between(fpr_rf,tpr_rf, alpha = 0.3)\n",
    "ax2.fill_between(fpr_lr,tpr_lr, alpha = 0.3)\n",
    "ax2.text(0.05,0.9,f\"AUC (RF)= {round(auc_rf,3)}\", fontweight = 700)\n",
    "ax2.text(0.05,0.5,f\"AUC (LR)= {round(auc_lr,3)}\", fontweight = 700)\n",
    "plt.show()"
   ]
  },
  {
   "cell_type": "markdown",
   "id": "b23a611d",
   "metadata": {
    "papermill": {
     "duration": 0.040129,
     "end_time": "2023-02-13T10:51:54.023190",
     "exception": false,
     "start_time": "2023-02-13T10:51:53.983061",
     "status": "completed"
    },
    "tags": []
   },
   "source": [
    "<a id = \"discussion\"></a>\n",
    "**8.b. Discussion**<br>\n",
    "* It's clear from the figures above that **random forest classifier performs better** than logistic regression classifier.\n",
    "* Also, we may conclude that the **important features impacting** the **decision** of the customer in **rejecting the orders or not** are **\"amount\"**,**\"merchant\"** and **\"standard\"** as they are found having **greater magnitude** and in **top five** features, common, in both the models.\n",
    "* The findings may be of valuable insights to business owners, sellers and other stakeholders, and the are recommended to focus on these important features.\n",
    "* Some of the limitations of this analysis aree exclusion of orders with multiple-product purchase,ununconfirmed status and some features.\n",
    "* Further analyses are recommended to other fellow data analyst/scientists  by using other classification machine learning models and other feature selection criteria.\n",
    "\n",
    "*Click [here](#toc) to go back to **Table of Contents**.*"
   ]
  },
  {
   "cell_type": "markdown",
   "id": "af8fb56f",
   "metadata": {
    "papermill": {
     "duration": 0.039696,
     "end_time": "2023-02-13T10:51:54.102471",
     "exception": false,
     "start_time": "2023-02-13T10:51:54.062775",
     "status": "completed"
    },
    "tags": []
   },
   "source": [
    "## <center>Valuable inputs and suggestions will be very much appreciated.</center>\n",
    "## <center>THANK YOU for spending you valuable time in reading this project. </center>\n",
    "## <center> Please do share this work with friends if it's worth sharing. </center>\n"
   ]
  }
 ],
 "metadata": {
  "kernelspec": {
   "display_name": "Python 3",
   "language": "python",
   "name": "python3"
  },
  "language_info": {
   "codemirror_mode": {
    "name": "ipython",
    "version": 3
   },
   "file_extension": ".py",
   "mimetype": "text/x-python",
   "name": "python",
   "nbconvert_exporter": "python",
   "pygments_lexer": "ipython3",
   "version": "3.7.12"
  },
  "papermill": {
   "default_parameters": {},
   "duration": 1351.836211,
   "end_time": "2023-02-13T10:51:56.766874",
   "environment_variables": {},
   "exception": null,
   "input_path": "__notebook__.ipynb",
   "output_path": "__notebook__.ipynb",
   "parameters": {},
   "start_time": "2023-02-13T10:29:24.930663",
   "version": "2.3.4"
  }
 },
 "nbformat": 4,
 "nbformat_minor": 5
}
